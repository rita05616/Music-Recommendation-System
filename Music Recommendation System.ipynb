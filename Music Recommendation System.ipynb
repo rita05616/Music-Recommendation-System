{
 "cells": [
  {
   "cell_type": "code",
   "execution_count": 1,
   "metadata": {
    "executionInfo": {
     "elapsed": 174,
     "status": "ok",
     "timestamp": 1628784232078,
     "user": {
      "displayName": "xiaoyue luo",
      "photoUrl": "",
      "userId": "08961633824417457060"
     },
     "user_tz": 420
    },
    "id": "W_bWozWMssGX"
   },
   "outputs": [
    {
     "name": "stderr",
     "output_type": "stream",
     "text": [
      "In C:\\Users\\19712\\anaconda3\\lib\\site-packages\\matplotlib\\mpl-data\\stylelib\\_classic_test.mplstyle: \n",
      "The text.latex.preview rcparam was deprecated in Matplotlib 3.3 and will be removed two minor releases later.\n",
      "In C:\\Users\\19712\\anaconda3\\lib\\site-packages\\matplotlib\\mpl-data\\stylelib\\_classic_test.mplstyle: \n",
      "The mathtext.fallback_to_cm rcparam was deprecated in Matplotlib 3.3 and will be removed two minor releases later.\n",
      "In C:\\Users\\19712\\anaconda3\\lib\\site-packages\\matplotlib\\mpl-data\\stylelib\\_classic_test.mplstyle: Support for setting the 'mathtext.fallback_to_cm' rcParam is deprecated since 3.3 and will be removed two minor releases later; use 'mathtext.fallback : 'cm' instead.\n",
      "In C:\\Users\\19712\\anaconda3\\lib\\site-packages\\matplotlib\\mpl-data\\stylelib\\_classic_test.mplstyle: \n",
      "The validate_bool_maybe_none function was deprecated in Matplotlib 3.3 and will be removed two minor releases later.\n",
      "In C:\\Users\\19712\\anaconda3\\lib\\site-packages\\matplotlib\\mpl-data\\stylelib\\_classic_test.mplstyle: \n",
      "The savefig.jpeg_quality rcparam was deprecated in Matplotlib 3.3 and will be removed two minor releases later.\n",
      "In C:\\Users\\19712\\anaconda3\\lib\\site-packages\\matplotlib\\mpl-data\\stylelib\\_classic_test.mplstyle: \n",
      "The keymap.all_axes rcparam was deprecated in Matplotlib 3.3 and will be removed two minor releases later.\n",
      "In C:\\Users\\19712\\anaconda3\\lib\\site-packages\\matplotlib\\mpl-data\\stylelib\\_classic_test.mplstyle: \n",
      "The animation.avconv_path rcparam was deprecated in Matplotlib 3.3 and will be removed two minor releases later.\n",
      "In C:\\Users\\19712\\anaconda3\\lib\\site-packages\\matplotlib\\mpl-data\\stylelib\\_classic_test.mplstyle: \n",
      "The animation.avconv_args rcparam was deprecated in Matplotlib 3.3 and will be removed two minor releases later.\n"
     ]
    }
   ],
   "source": [
    "import os\n",
    "import numpy as np\n",
    "import pandas as pd\n",
    "\n",
    "import random\n",
    "\n",
    "import seaborn as sns\n",
    "#import plotly.express as px \n",
    "import matplotlib.pyplot as plt\n",
    "%matplotlib inline\n",
    "\n",
    "from sklearn.model_selection import train_test_split\n",
    "from sklearn.cluster import KMeans\n",
    "from sklearn.preprocessing import StandardScaler\n",
    "from sklearn.pipeline import Pipeline\n",
    "from sklearn.manifold import TSNE\n",
    "from sklearn.decomposition import PCA\n",
    "from sklearn.metrics import euclidean_distances\n",
    "from scipy.spatial.distance import cdist\n",
    "from sklearn.metrics.pairwise import cosine_similarity\n",
    "from sklearn.metrics import mean_squared_error\n",
    "\n",
    "import warnings\n",
    "warnings.filterwarnings(\"ignore\")"
   ]
  },
  {
   "cell_type": "markdown",
   "metadata": {
    "id": "D5-VRL0sssGe"
   },
   "source": [
    "# Import data set."
   ]
  },
  {
   "cell_type": "code",
   "execution_count": 2,
   "metadata": {
    "executionInfo": {
     "elapsed": 1857,
     "status": "ok",
     "timestamp": 1628784234087,
     "user": {
      "displayName": "xiaoyue luo",
      "photoUrl": "",
      "userId": "08961633824417457060"
     },
     "user_tz": 420
    },
    "id": "JQHrnbTlv-fz"
   },
   "outputs": [],
   "source": [
    "df_count=pd.read_csv('count_data.csv')"
   ]
  },
  {
   "cell_type": "code",
   "execution_count": 3,
   "metadata": {
    "executionInfo": {
     "elapsed": 2458,
     "status": "ok",
     "timestamp": 1628784236533,
     "user": {
      "displayName": "xiaoyue luo",
      "photoUrl": "",
      "userId": "08961633824417457060"
     },
     "user_tz": 420
    },
    "id": "sM16GbnQ008U"
   },
   "outputs": [],
   "source": [
    "df_song=pd.read_csv('song_data.csv')"
   ]
  },
  {
   "cell_type": "markdown",
   "metadata": {
    "id": "6ntbcMy1ssGh"
   },
   "source": [
    "# Data preprocessing."
   ]
  },
  {
   "cell_type": "code",
   "execution_count": 4,
   "metadata": {
    "colab": {
     "base_uri": "https://localhost:8080/",
     "height": 203
    },
    "executionInfo": {
     "elapsed": 34,
     "status": "ok",
     "timestamp": 1628784236708,
     "user": {
      "displayName": "xiaoyue luo",
      "photoUrl": "",
      "userId": "08961633824417457060"
     },
     "user_tz": 420
    },
    "id": "MYRPId1ossGi",
    "outputId": "a1b04a6f-1ace-4e06-ca61-0388f549deea"
   },
   "outputs": [
    {
     "data": {
      "text/html": [
       "<div>\n",
       "<style scoped>\n",
       "    .dataframe tbody tr th:only-of-type {\n",
       "        vertical-align: middle;\n",
       "    }\n",
       "\n",
       "    .dataframe tbody tr th {\n",
       "        vertical-align: top;\n",
       "    }\n",
       "\n",
       "    .dataframe thead th {\n",
       "        text-align: right;\n",
       "    }\n",
       "</style>\n",
       "<table border=\"1\" class=\"dataframe\">\n",
       "  <thead>\n",
       "    <tr style=\"text-align: right;\">\n",
       "      <th></th>\n",
       "      <th>Unnamed: 0</th>\n",
       "      <th>user_id</th>\n",
       "      <th>song_id</th>\n",
       "      <th>play_count</th>\n",
       "    </tr>\n",
       "  </thead>\n",
       "  <tbody>\n",
       "    <tr>\n",
       "      <th>0</th>\n",
       "      <td>0</td>\n",
       "      <td>b80344d063b5ccb3212f76538f3d9e43d87dca9e</td>\n",
       "      <td>SOAKIMP12A8C130995</td>\n",
       "      <td>1</td>\n",
       "    </tr>\n",
       "    <tr>\n",
       "      <th>1</th>\n",
       "      <td>1</td>\n",
       "      <td>b80344d063b5ccb3212f76538f3d9e43d87dca9e</td>\n",
       "      <td>SOBBMDR12A8C13253B</td>\n",
       "      <td>2</td>\n",
       "    </tr>\n",
       "    <tr>\n",
       "      <th>2</th>\n",
       "      <td>2</td>\n",
       "      <td>b80344d063b5ccb3212f76538f3d9e43d87dca9e</td>\n",
       "      <td>SOBXHDL12A81C204C0</td>\n",
       "      <td>1</td>\n",
       "    </tr>\n",
       "    <tr>\n",
       "      <th>3</th>\n",
       "      <td>3</td>\n",
       "      <td>b80344d063b5ccb3212f76538f3d9e43d87dca9e</td>\n",
       "      <td>SOBYHAJ12A6701BF1D</td>\n",
       "      <td>1</td>\n",
       "    </tr>\n",
       "    <tr>\n",
       "      <th>4</th>\n",
       "      <td>4</td>\n",
       "      <td>b80344d063b5ccb3212f76538f3d9e43d87dca9e</td>\n",
       "      <td>SODACBL12A8C13C273</td>\n",
       "      <td>1</td>\n",
       "    </tr>\n",
       "  </tbody>\n",
       "</table>\n",
       "</div>"
      ],
      "text/plain": [
       "   Unnamed: 0                                   user_id             song_id  \\\n",
       "0           0  b80344d063b5ccb3212f76538f3d9e43d87dca9e  SOAKIMP12A8C130995   \n",
       "1           1  b80344d063b5ccb3212f76538f3d9e43d87dca9e  SOBBMDR12A8C13253B   \n",
       "2           2  b80344d063b5ccb3212f76538f3d9e43d87dca9e  SOBXHDL12A81C204C0   \n",
       "3           3  b80344d063b5ccb3212f76538f3d9e43d87dca9e  SOBYHAJ12A6701BF1D   \n",
       "4           4  b80344d063b5ccb3212f76538f3d9e43d87dca9e  SODACBL12A8C13C273   \n",
       "\n",
       "   play_count  \n",
       "0           1  \n",
       "1           2  \n",
       "2           1  \n",
       "3           1  \n",
       "4           1  "
      ]
     },
     "execution_count": 4,
     "metadata": {},
     "output_type": "execute_result"
    }
   ],
   "source": [
    "df_count.head()"
   ]
  },
  {
   "cell_type": "code",
   "execution_count": 5,
   "metadata": {
    "colab": {
     "base_uri": "https://localhost:8080/",
     "height": 203
    },
    "executionInfo": {
     "elapsed": 26,
     "status": "ok",
     "timestamp": 1628784236709,
     "user": {
      "displayName": "xiaoyue luo",
      "photoUrl": "",
      "userId": "08961633824417457060"
     },
     "user_tz": 420
    },
    "id": "i_teHL4GssGj",
    "outputId": "dcae3653-e4b2-4e63-9fa8-5ce717c10f79"
   },
   "outputs": [
    {
     "data": {
      "text/html": [
       "<div>\n",
       "<style scoped>\n",
       "    .dataframe tbody tr th:only-of-type {\n",
       "        vertical-align: middle;\n",
       "    }\n",
       "\n",
       "    .dataframe tbody tr th {\n",
       "        vertical-align: top;\n",
       "    }\n",
       "\n",
       "    .dataframe thead th {\n",
       "        text-align: right;\n",
       "    }\n",
       "</style>\n",
       "<table border=\"1\" class=\"dataframe\">\n",
       "  <thead>\n",
       "    <tr style=\"text-align: right;\">\n",
       "      <th></th>\n",
       "      <th>song_id</th>\n",
       "      <th>title</th>\n",
       "      <th>release</th>\n",
       "      <th>artist_name</th>\n",
       "      <th>year</th>\n",
       "    </tr>\n",
       "  </thead>\n",
       "  <tbody>\n",
       "    <tr>\n",
       "      <th>0</th>\n",
       "      <td>SOQMMHC12AB0180CB8</td>\n",
       "      <td>Silent Night</td>\n",
       "      <td>Monster Ballads X-Mas</td>\n",
       "      <td>Faster Pussy cat</td>\n",
       "      <td>2003</td>\n",
       "    </tr>\n",
       "    <tr>\n",
       "      <th>1</th>\n",
       "      <td>SOVFVAK12A8C1350D9</td>\n",
       "      <td>Tanssi vaan</td>\n",
       "      <td>Karkuteillä</td>\n",
       "      <td>Karkkiautomaatti</td>\n",
       "      <td>1995</td>\n",
       "    </tr>\n",
       "    <tr>\n",
       "      <th>2</th>\n",
       "      <td>SOGTUKN12AB017F4F1</td>\n",
       "      <td>No One Could Ever</td>\n",
       "      <td>Butter</td>\n",
       "      <td>Hudson Mohawke</td>\n",
       "      <td>2006</td>\n",
       "    </tr>\n",
       "    <tr>\n",
       "      <th>3</th>\n",
       "      <td>SOBNYVR12A8C13558C</td>\n",
       "      <td>Si Vos Querés</td>\n",
       "      <td>De Culo</td>\n",
       "      <td>Yerba Brava</td>\n",
       "      <td>2003</td>\n",
       "    </tr>\n",
       "    <tr>\n",
       "      <th>4</th>\n",
       "      <td>SOHSBXH12A8C13B0DF</td>\n",
       "      <td>Tangle Of Aspens</td>\n",
       "      <td>Rene Ablaze Presents Winter Sessions</td>\n",
       "      <td>Der Mystic</td>\n",
       "      <td>0</td>\n",
       "    </tr>\n",
       "  </tbody>\n",
       "</table>\n",
       "</div>"
      ],
      "text/plain": [
       "              song_id              title  \\\n",
       "0  SOQMMHC12AB0180CB8       Silent Night   \n",
       "1  SOVFVAK12A8C1350D9        Tanssi vaan   \n",
       "2  SOGTUKN12AB017F4F1  No One Could Ever   \n",
       "3  SOBNYVR12A8C13558C      Si Vos Querés   \n",
       "4  SOHSBXH12A8C13B0DF   Tangle Of Aspens   \n",
       "\n",
       "                                release       artist_name  year  \n",
       "0                 Monster Ballads X-Mas  Faster Pussy cat  2003  \n",
       "1                           Karkuteillä  Karkkiautomaatti  1995  \n",
       "2                                Butter    Hudson Mohawke  2006  \n",
       "3                               De Culo       Yerba Brava  2003  \n",
       "4  Rene Ablaze Presents Winter Sessions        Der Mystic     0  "
      ]
     },
     "execution_count": 5,
     "metadata": {},
     "output_type": "execute_result"
    }
   ],
   "source": [
    "df_song.head()"
   ]
  },
  {
   "cell_type": "code",
   "execution_count": 6,
   "metadata": {
    "executionInfo": {
     "elapsed": 23,
     "status": "ok",
     "timestamp": 1628784236710,
     "user": {
      "displayName": "xiaoyue luo",
      "photoUrl": "",
      "userId": "08961633824417457060"
     },
     "user_tz": 420
    },
    "id": "jH2Z8Ki52aSa"
   },
   "outputs": [],
   "source": [
    "#delete the first column of df_count\n",
    "df_count=df_count.iloc[: , 1:]"
   ]
  },
  {
   "cell_type": "code",
   "execution_count": 7,
   "metadata": {
    "colab": {
     "base_uri": "https://localhost:8080/",
     "height": 203
    },
    "executionInfo": {
     "elapsed": 23,
     "status": "ok",
     "timestamp": 1628784236711,
     "user": {
      "displayName": "xiaoyue luo",
      "photoUrl": "",
      "userId": "08961633824417457060"
     },
     "user_tz": 420
    },
    "id": "hrVBLwGj2cHK",
    "outputId": "c502cdaa-d1b8-4e47-dbd0-a3216eb62417"
   },
   "outputs": [
    {
     "data": {
      "text/html": [
       "<div>\n",
       "<style scoped>\n",
       "    .dataframe tbody tr th:only-of-type {\n",
       "        vertical-align: middle;\n",
       "    }\n",
       "\n",
       "    .dataframe tbody tr th {\n",
       "        vertical-align: top;\n",
       "    }\n",
       "\n",
       "    .dataframe thead th {\n",
       "        text-align: right;\n",
       "    }\n",
       "</style>\n",
       "<table border=\"1\" class=\"dataframe\">\n",
       "  <thead>\n",
       "    <tr style=\"text-align: right;\">\n",
       "      <th></th>\n",
       "      <th>user_id</th>\n",
       "      <th>song_id</th>\n",
       "      <th>play_count</th>\n",
       "    </tr>\n",
       "  </thead>\n",
       "  <tbody>\n",
       "    <tr>\n",
       "      <th>0</th>\n",
       "      <td>b80344d063b5ccb3212f76538f3d9e43d87dca9e</td>\n",
       "      <td>SOAKIMP12A8C130995</td>\n",
       "      <td>1</td>\n",
       "    </tr>\n",
       "    <tr>\n",
       "      <th>1</th>\n",
       "      <td>b80344d063b5ccb3212f76538f3d9e43d87dca9e</td>\n",
       "      <td>SOBBMDR12A8C13253B</td>\n",
       "      <td>2</td>\n",
       "    </tr>\n",
       "    <tr>\n",
       "      <th>2</th>\n",
       "      <td>b80344d063b5ccb3212f76538f3d9e43d87dca9e</td>\n",
       "      <td>SOBXHDL12A81C204C0</td>\n",
       "      <td>1</td>\n",
       "    </tr>\n",
       "    <tr>\n",
       "      <th>3</th>\n",
       "      <td>b80344d063b5ccb3212f76538f3d9e43d87dca9e</td>\n",
       "      <td>SOBYHAJ12A6701BF1D</td>\n",
       "      <td>1</td>\n",
       "    </tr>\n",
       "    <tr>\n",
       "      <th>4</th>\n",
       "      <td>b80344d063b5ccb3212f76538f3d9e43d87dca9e</td>\n",
       "      <td>SODACBL12A8C13C273</td>\n",
       "      <td>1</td>\n",
       "    </tr>\n",
       "  </tbody>\n",
       "</table>\n",
       "</div>"
      ],
      "text/plain": [
       "                                    user_id             song_id  play_count\n",
       "0  b80344d063b5ccb3212f76538f3d9e43d87dca9e  SOAKIMP12A8C130995           1\n",
       "1  b80344d063b5ccb3212f76538f3d9e43d87dca9e  SOBBMDR12A8C13253B           2\n",
       "2  b80344d063b5ccb3212f76538f3d9e43d87dca9e  SOBXHDL12A81C204C0           1\n",
       "3  b80344d063b5ccb3212f76538f3d9e43d87dca9e  SOBYHAJ12A6701BF1D           1\n",
       "4  b80344d063b5ccb3212f76538f3d9e43d87dca9e  SODACBL12A8C13C273           1"
      ]
     },
     "execution_count": 7,
     "metadata": {},
     "output_type": "execute_result"
    }
   ],
   "source": [
    "df_count.head()"
   ]
  },
  {
   "cell_type": "code",
   "execution_count": 8,
   "metadata": {
    "colab": {
     "base_uri": "https://localhost:8080/",
     "height": 0
    },
    "executionInfo": {
     "elapsed": 241,
     "status": "ok",
     "timestamp": 1628784236933,
     "user": {
      "displayName": "xiaoyue luo",
      "photoUrl": "",
      "userId": "08961633824417457060"
     },
     "user_tz": 420
    },
    "id": "EioDSzZiKbD8",
    "outputId": "2838fe2f-8cf5-4fef-c997-8b2171bc8698"
   },
   "outputs": [
    {
     "data": {
      "text/plain": [
       "2000000"
      ]
     },
     "execution_count": 8,
     "metadata": {},
     "output_type": "execute_result"
    }
   ],
   "source": [
    "df_count['user_id'].count()"
   ]
  },
  {
   "cell_type": "markdown",
   "metadata": {
    "id": "0kvvjymtssGo"
   },
   "source": [
    "# Understanding the data sets."
   ]
  },
  {
   "cell_type": "markdown",
   "metadata": {
    "id": "DWogztodssGo"
   },
   "source": [
    "Next, check the length of song_id in both datasets. "
   ]
  },
  {
   "cell_type": "code",
   "execution_count": 9,
   "metadata": {
    "colab": {
     "base_uri": "https://localhost:8080/",
     "height": 0
    },
    "executionInfo": {
     "elapsed": 22,
     "status": "ok",
     "timestamp": 1628784236934,
     "user": {
      "displayName": "xiaoyue luo",
      "photoUrl": "",
      "userId": "08961633824417457060"
     },
     "user_tz": 420
    },
    "id": "-e7yuDtkssGp",
    "outputId": "727f1a0e-d4fa-4bfd-be23-4886b128ea78"
   },
   "outputs": [
    {
     "data": {
      "text/plain": [
       "2000000"
      ]
     },
     "execution_count": 9,
     "metadata": {},
     "output_type": "execute_result"
    }
   ],
   "source": [
    "df_count['song_id'].count()"
   ]
  },
  {
   "cell_type": "code",
   "execution_count": 10,
   "metadata": {
    "colab": {
     "base_uri": "https://localhost:8080/",
     "height": 0
    },
    "executionInfo": {
     "elapsed": 207,
     "status": "ok",
     "timestamp": 1628784237127,
     "user": {
      "displayName": "xiaoyue luo",
      "photoUrl": "",
      "userId": "08961633824417457060"
     },
     "user_tz": 420
    },
    "id": "OiGNsqltssGp",
    "outputId": "ec021a46-3b73-4670-f5ef-8c2f8e304d34"
   },
   "outputs": [
    {
     "name": "stdout",
     "output_type": "stream",
     "text": [
      "<class 'pandas.core.frame.DataFrame'>\n",
      "RangeIndex: 2000000 entries, 0 to 1999999\n",
      "Data columns (total 3 columns):\n",
      " #   Column      Dtype \n",
      "---  ------      ----- \n",
      " 0   user_id     object\n",
      " 1   song_id     object\n",
      " 2   play_count  int64 \n",
      "dtypes: int64(1), object(2)\n",
      "memory usage: 45.8+ MB\n"
     ]
    }
   ],
   "source": [
    "df_count.info()"
   ]
  },
  {
   "cell_type": "code",
   "execution_count": 11,
   "metadata": {
    "colab": {
     "base_uri": "https://localhost:8080/",
     "height": 0
    },
    "executionInfo": {
     "elapsed": 18,
     "status": "ok",
     "timestamp": 1628784237128,
     "user": {
      "displayName": "xiaoyue luo",
      "photoUrl": "",
      "userId": "08961633824417457060"
     },
     "user_tz": 420
    },
    "id": "YEMqxA2hssGq",
    "outputId": "0f12fe25-85a4-4375-f092-99bbfe21abdb"
   },
   "outputs": [
    {
     "data": {
      "text/plain": [
       "1000000"
      ]
     },
     "execution_count": 11,
     "metadata": {},
     "output_type": "execute_result"
    }
   ],
   "source": [
    "df_song['song_id'].count()"
   ]
  },
  {
   "cell_type": "code",
   "execution_count": 12,
   "metadata": {
    "colab": {
     "base_uri": "https://localhost:8080/",
     "height": 0
    },
    "executionInfo": {
     "elapsed": 181,
     "status": "ok",
     "timestamp": 1628784237305,
     "user": {
      "displayName": "xiaoyue luo",
      "photoUrl": "",
      "userId": "08961633824417457060"
     },
     "user_tz": 420
    },
    "id": "iucjGFcj2lP9",
    "outputId": "bfe43f1f-0c1e-45d9-f4ed-68610a4b6602"
   },
   "outputs": [
    {
     "name": "stdout",
     "output_type": "stream",
     "text": [
      "<class 'pandas.core.frame.DataFrame'>\n",
      "RangeIndex: 1000000 entries, 0 to 999999\n",
      "Data columns (total 5 columns):\n",
      " #   Column       Non-Null Count    Dtype \n",
      "---  ------       --------------    ----- \n",
      " 0   song_id      1000000 non-null  object\n",
      " 1   title        999985 non-null   object\n",
      " 2   release      999995 non-null   object\n",
      " 3   artist_name  1000000 non-null  object\n",
      " 4   year         1000000 non-null  int64 \n",
      "dtypes: int64(1), object(4)\n",
      "memory usage: 38.1+ MB\n"
     ]
    }
   ],
   "source": [
    "df_song.info()"
   ]
  },
  {
   "cell_type": "code",
   "execution_count": 13,
   "metadata": {
    "colab": {
     "base_uri": "https://localhost:8080/",
     "height": 0
    },
    "executionInfo": {
     "elapsed": 19,
     "status": "ok",
     "timestamp": 1628784237306,
     "user": {
      "displayName": "xiaoyue luo",
      "photoUrl": "",
      "userId": "08961633824417457060"
     },
     "user_tz": 420
    },
    "id": "lh3buWAQDhs3",
    "outputId": "a803c3ee-0bae-488a-eac9-adee2e3cad4c"
   },
   "outputs": [
    {
     "data": {
      "text/plain": [
       "0          1\n",
       "1          2\n",
       "2          1\n",
       "3          1\n",
       "4          1\n",
       "          ..\n",
       "1999995    2\n",
       "1999996    4\n",
       "1999997    3\n",
       "1999998    1\n",
       "1999999    1\n",
       "Name: play_count, Length: 2000000, dtype: int32"
      ]
     },
     "execution_count": 13,
     "metadata": {},
     "output_type": "execute_result"
    }
   ],
   "source": [
    "df_count['play_count'].astype(np.int32,copy=True)"
   ]
  },
  {
   "cell_type": "code",
   "execution_count": 14,
   "metadata": {
    "colab": {
     "base_uri": "https://localhost:8080/",
     "height": 0
    },
    "executionInfo": {
     "elapsed": 13,
     "status": "ok",
     "timestamp": 1628784237307,
     "user": {
      "displayName": "xiaoyue luo",
      "photoUrl": "",
      "userId": "08961633824417457060"
     },
     "user_tz": 420
    },
    "id": "LN46S8Z8EESJ",
    "outputId": "dc11bb5d-51c6-4505-815d-42eb37e2b373"
   },
   "outputs": [
    {
     "name": "stdout",
     "output_type": "stream",
     "text": [
      "<class 'pandas.core.frame.DataFrame'>\n",
      "RangeIndex: 2000000 entries, 0 to 1999999\n",
      "Data columns (total 3 columns):\n",
      " #   Column      Dtype \n",
      "---  ------      ----- \n",
      " 0   user_id     object\n",
      " 1   song_id     object\n",
      " 2   play_count  int64 \n",
      "dtypes: int64(1), object(2)\n",
      "memory usage: 45.8+ MB\n"
     ]
    }
   ],
   "source": [
    "df_count.info()"
   ]
  },
  {
   "cell_type": "markdown",
   "metadata": {
    "id": "yt3ISp4kssGq"
   },
   "source": [
    "**There are 2000000 'song_id' in df_count, but 1000000 'song_id' in df_song. So there are at least 2000000-1000000 songs without information about 'title', 'Release', 'Artist_name' and 'year'.**"
   ]
  },
  {
   "cell_type": "markdown",
   "metadata": {
    "id": "XWa5RpL8ssGr"
   },
   "source": [
    "Check the length of \"title\" in df_song. Ideally, it should match with the length of \"song_id\" in the same dataframe. "
   ]
  },
  {
   "cell_type": "code",
   "execution_count": 15,
   "metadata": {
    "colab": {
     "base_uri": "https://localhost:8080/",
     "height": 0
    },
    "executionInfo": {
     "elapsed": 15,
     "status": "ok",
     "timestamp": 1628784237455,
     "user": {
      "displayName": "xiaoyue luo",
      "photoUrl": "",
      "userId": "08961633824417457060"
     },
     "user_tz": 420
    },
    "id": "41QRHzn8ssGr",
    "outputId": "912c7ae7-a986-46a1-9ba0-4aeadee043fa"
   },
   "outputs": [
    {
     "data": {
      "text/plain": [
       "999985"
      ]
     },
     "execution_count": 15,
     "metadata": {},
     "output_type": "execute_result"
    }
   ],
   "source": [
    "df_song['title'].count()"
   ]
  },
  {
   "cell_type": "markdown",
   "metadata": {
    "id": "mh7rAjYbssGs"
   },
   "source": [
    "**We have 15 less \"titles\" than \"song_id\" in df_song.**\n",
    "\n",
    "Let's check for missing values in each data set."
   ]
  },
  {
   "cell_type": "markdown",
   "metadata": {
    "id": "BbJyy_KcssGs"
   },
   "source": [
    "**Find missing values in each column of df_count.**"
   ]
  },
  {
   "cell_type": "code",
   "execution_count": 16,
   "metadata": {
    "colab": {
     "base_uri": "https://localhost:8080/",
     "height": 0
    },
    "executionInfo": {
     "elapsed": 139,
     "status": "ok",
     "timestamp": 1628784237762,
     "user": {
      "displayName": "xiaoyue luo",
      "photoUrl": "",
      "userId": "08961633824417457060"
     },
     "user_tz": 420
    },
    "id": "j20CSdc3ssGs",
    "outputId": "6c4ec4dd-e64a-4644-dc55-2e51bfdc2f62"
   },
   "outputs": [
    {
     "data": {
      "text/plain": [
       "user_id       0\n",
       "song_id       0\n",
       "play_count    0\n",
       "dtype: int64"
      ]
     },
     "execution_count": 16,
     "metadata": {},
     "output_type": "execute_result"
    }
   ],
   "source": [
    "# Find number of missing values in each column\n",
    "df_count.isna().sum()"
   ]
  },
  {
   "cell_type": "markdown",
   "metadata": {
    "id": "bD7pJ0kDssGt"
   },
   "source": [
    "There is **no** missing values in df_count.\n"
   ]
  },
  {
   "cell_type": "markdown",
   "metadata": {
    "id": "UFvw5rUmssGt"
   },
   "source": [
    "**Find missing values in each column of df_song**"
   ]
  },
  {
   "cell_type": "code",
   "execution_count": 17,
   "metadata": {
    "colab": {
     "base_uri": "https://localhost:8080/",
     "height": 0
    },
    "executionInfo": {
     "elapsed": 18,
     "status": "ok",
     "timestamp": 1628784237933,
     "user": {
      "displayName": "xiaoyue luo",
      "photoUrl": "",
      "userId": "08961633824417457060"
     },
     "user_tz": 420
    },
    "id": "3rRRFTaPssGu",
    "outputId": "b3f011f0-453d-4ba3-9e83-aaa14f5821f6"
   },
   "outputs": [
    {
     "data": {
      "text/plain": [
       "song_id         0\n",
       "title          15\n",
       "release         5\n",
       "artist_name     0\n",
       "year            0\n",
       "dtype: int64"
      ]
     },
     "execution_count": 17,
     "metadata": {},
     "output_type": "execute_result"
    }
   ],
   "source": [
    "# Find number of missing values in each column\n",
    "df_song.isna().sum()"
   ]
  },
  {
   "cell_type": "markdown",
   "metadata": {
    "id": "j7Bu-w3PssGu"
   },
   "source": [
    "**There are missing value in df_song: column \"title\" has 15 missing values, column \"Release\" has 5 missing values.**"
   ]
  },
  {
   "cell_type": "markdown",
   "metadata": {
    "id": "JRaFZ7ybssGv"
   },
   "source": [
    "**Now, let's check for any duplicates in the two data sets.**"
   ]
  },
  {
   "cell_type": "code",
   "execution_count": 18,
   "metadata": {
    "colab": {
     "base_uri": "https://localhost:8080/",
     "height": 0
    },
    "executionInfo": {
     "elapsed": 458,
     "status": "ok",
     "timestamp": 1628784238386,
     "user": {
      "displayName": "xiaoyue luo",
      "photoUrl": "",
      "userId": "08961633824417457060"
     },
     "user_tz": 420
    },
    "id": "LBb-TgBrssGv",
    "outputId": "8462baf7-8b26-454f-e12f-1086eb156058"
   },
   "outputs": [
    {
     "name": "stdout",
     "output_type": "stream",
     "text": [
      "The number of unique song_id in df_count is 10000\n",
      "The number of unique user_id in df_count is 76353\n"
     ]
    }
   ],
   "source": [
    "# Check df_count\n",
    "print(\"The number of unique song_id in df_count is\", df_count.song_id.nunique())# Count the number of unique song_id.\n",
    "print(\"The number of unique user_id in df_count is\", df_count.user_id.nunique())# # Count the number of unique user_id."
   ]
  },
  {
   "cell_type": "code",
   "execution_count": 19,
   "metadata": {
    "colab": {
     "base_uri": "https://localhost:8080/",
     "height": 0
    },
    "executionInfo": {
     "elapsed": 861,
     "status": "ok",
     "timestamp": 1628784239242,
     "user": {
      "displayName": "xiaoyue luo",
      "photoUrl": "",
      "userId": "08961633824417457060"
     },
     "user_tz": 420
    },
    "id": "a1CPWzq-ssGx",
    "outputId": "2e6d36bf-eb57-4c7b-d883-c69896aae979"
   },
   "outputs": [
    {
     "name": "stdout",
     "output_type": "stream",
     "text": [
      "The number of unique song_id in df_song is 999056\n",
      "The number of unique title in df_song is 702428\n"
     ]
    }
   ],
   "source": [
    "# Check df_song\n",
    "print(\"The number of unique song_id in df_song is\", df_song.song_id.nunique())# Count the number of unique song_id.\n",
    "print(\"The number of unique title in df_song is\", df_song.title.nunique())# Count the number of unique title.\n"
   ]
  },
  {
   "cell_type": "markdown",
   "metadata": {
    "id": "54CTVbkQssGy"
   },
   "source": [
    "**Notice the number of unique song_id (999056) is more than the number of unique title (702428).** \n",
    "- One possibility is that the same song was incorrectly marked with different song_id. Another possibility is that different songs have the same title. This is something that can be investigated further. \n",
    "\n",
    "- Also notice that the number of unique songs in df_count (10000) is significantly smaller than the number of unique songs in df_song (999056). df_count is the only data set that contains information about play_count. Since play_count is a good indicator of the likelihood of a user listening to the song, I will combine data set df_count with df_song. By doing so, there is going to be only 10000 unique songs left in the combine data set. This reduces the size of the data significantly and also reduces sparseness of the interaction matrix. In addition, there is no need to investigate how the number of \"song_id\" is different from the number of \"title\".\n",
    "\n",
    "- However, it is worth noticing that if the recommendation system is based on for example \"Artist\", then it may not be a good idea to combine the two data sets early on since we will lose a lot of information about the \"song_id\" and \"title\". Also, in that recommendation system, we need to understand why the number of unique song_id is different from the number of unique \"title\"."
   ]
  },
  {
   "cell_type": "markdown",
   "metadata": {
    "id": "cJ3GXI7NssGz"
   },
   "source": [
    "# Preprocessing."
   ]
  },
  {
   "cell_type": "markdown",
   "metadata": {
    "id": "EM7dx-FissG0"
   },
   "source": [
    "**Merge the two data sets using \"song_id\".**"
   ]
  },
  {
   "cell_type": "code",
   "execution_count": 20,
   "metadata": {
    "executionInfo": {
     "elapsed": 2100,
     "status": "ok",
     "timestamp": 1628784241338,
     "user": {
      "displayName": "xiaoyue luo",
      "photoUrl": "",
      "userId": "08961633824417457060"
     },
     "user_tz": 420
    },
    "id": "K0Zhd4BfssG0"
   },
   "outputs": [],
   "source": [
    "df=pd.merge(df_count, df_song.drop_duplicates(['song_id']), on=\"song_id\", how=\"left\")"
   ]
  },
  {
   "cell_type": "code",
   "execution_count": 21,
   "metadata": {
    "colab": {
     "base_uri": "https://localhost:8080/",
     "height": 203
    },
    "executionInfo": {
     "elapsed": 34,
     "status": "ok",
     "timestamp": 1628784241339,
     "user": {
      "displayName": "xiaoyue luo",
      "photoUrl": "",
      "userId": "08961633824417457060"
     },
     "user_tz": 420
    },
    "id": "XV8RhkoTssG1",
    "outputId": "e0a1026a-d985-431e-c9ee-7778632ee46a"
   },
   "outputs": [
    {
     "data": {
      "text/html": [
       "<div>\n",
       "<style scoped>\n",
       "    .dataframe tbody tr th:only-of-type {\n",
       "        vertical-align: middle;\n",
       "    }\n",
       "\n",
       "    .dataframe tbody tr th {\n",
       "        vertical-align: top;\n",
       "    }\n",
       "\n",
       "    .dataframe thead th {\n",
       "        text-align: right;\n",
       "    }\n",
       "</style>\n",
       "<table border=\"1\" class=\"dataframe\">\n",
       "  <thead>\n",
       "    <tr style=\"text-align: right;\">\n",
       "      <th></th>\n",
       "      <th>user_id</th>\n",
       "      <th>song_id</th>\n",
       "      <th>play_count</th>\n",
       "      <th>title</th>\n",
       "      <th>release</th>\n",
       "      <th>artist_name</th>\n",
       "      <th>year</th>\n",
       "    </tr>\n",
       "  </thead>\n",
       "  <tbody>\n",
       "    <tr>\n",
       "      <th>0</th>\n",
       "      <td>b80344d063b5ccb3212f76538f3d9e43d87dca9e</td>\n",
       "      <td>SOAKIMP12A8C130995</td>\n",
       "      <td>1</td>\n",
       "      <td>The Cove</td>\n",
       "      <td>Thicker Than Water</td>\n",
       "      <td>Jack Johnson</td>\n",
       "      <td>0</td>\n",
       "    </tr>\n",
       "    <tr>\n",
       "      <th>1</th>\n",
       "      <td>b80344d063b5ccb3212f76538f3d9e43d87dca9e</td>\n",
       "      <td>SOBBMDR12A8C13253B</td>\n",
       "      <td>2</td>\n",
       "      <td>Entre Dos Aguas</td>\n",
       "      <td>Flamenco Para Niños</td>\n",
       "      <td>Paco De Lucia</td>\n",
       "      <td>1976</td>\n",
       "    </tr>\n",
       "    <tr>\n",
       "      <th>2</th>\n",
       "      <td>b80344d063b5ccb3212f76538f3d9e43d87dca9e</td>\n",
       "      <td>SOBXHDL12A81C204C0</td>\n",
       "      <td>1</td>\n",
       "      <td>Stronger</td>\n",
       "      <td>Graduation</td>\n",
       "      <td>Kanye West</td>\n",
       "      <td>2007</td>\n",
       "    </tr>\n",
       "    <tr>\n",
       "      <th>3</th>\n",
       "      <td>b80344d063b5ccb3212f76538f3d9e43d87dca9e</td>\n",
       "      <td>SOBYHAJ12A6701BF1D</td>\n",
       "      <td>1</td>\n",
       "      <td>Constellations</td>\n",
       "      <td>In Between Dreams</td>\n",
       "      <td>Jack Johnson</td>\n",
       "      <td>2005</td>\n",
       "    </tr>\n",
       "    <tr>\n",
       "      <th>4</th>\n",
       "      <td>b80344d063b5ccb3212f76538f3d9e43d87dca9e</td>\n",
       "      <td>SODACBL12A8C13C273</td>\n",
       "      <td>1</td>\n",
       "      <td>Learn To Fly</td>\n",
       "      <td>There Is Nothing Left To Lose</td>\n",
       "      <td>Foo Fighters</td>\n",
       "      <td>1999</td>\n",
       "    </tr>\n",
       "  </tbody>\n",
       "</table>\n",
       "</div>"
      ],
      "text/plain": [
       "                                    user_id             song_id  play_count  \\\n",
       "0  b80344d063b5ccb3212f76538f3d9e43d87dca9e  SOAKIMP12A8C130995           1   \n",
       "1  b80344d063b5ccb3212f76538f3d9e43d87dca9e  SOBBMDR12A8C13253B           2   \n",
       "2  b80344d063b5ccb3212f76538f3d9e43d87dca9e  SOBXHDL12A81C204C0           1   \n",
       "3  b80344d063b5ccb3212f76538f3d9e43d87dca9e  SOBYHAJ12A6701BF1D           1   \n",
       "4  b80344d063b5ccb3212f76538f3d9e43d87dca9e  SODACBL12A8C13C273           1   \n",
       "\n",
       "             title                        release    artist_name  year  \n",
       "0         The Cove             Thicker Than Water   Jack Johnson     0  \n",
       "1  Entre Dos Aguas            Flamenco Para Niños  Paco De Lucia  1976  \n",
       "2         Stronger                     Graduation     Kanye West  2007  \n",
       "3   Constellations              In Between Dreams   Jack Johnson  2005  \n",
       "4     Learn To Fly  There Is Nothing Left To Lose   Foo Fighters  1999  "
      ]
     },
     "execution_count": 21,
     "metadata": {},
     "output_type": "execute_result"
    }
   ],
   "source": [
    "df.head()"
   ]
  },
  {
   "cell_type": "code",
   "execution_count": 22,
   "metadata": {
    "colab": {
     "base_uri": "https://localhost:8080/",
     "height": 0
    },
    "executionInfo": {
     "elapsed": 30,
     "status": "ok",
     "timestamp": 1628784241340,
     "user": {
      "displayName": "xiaoyue luo",
      "photoUrl": "",
      "userId": "08961633824417457060"
     },
     "user_tz": 420
    },
    "id": "fklXB4oVssG1",
    "outputId": "4dd7fe77-11be-47a2-e8e3-766b037fa90e"
   },
   "outputs": [
    {
     "name": "stdout",
     "output_type": "stream",
     "text": [
      "<class 'pandas.core.frame.DataFrame'>\n",
      "Int64Index: 2000000 entries, 0 to 1999999\n",
      "Data columns (total 7 columns):\n",
      " #   Column       Dtype \n",
      "---  ------       ----- \n",
      " 0   user_id      object\n",
      " 1   song_id      object\n",
      " 2   play_count   int64 \n",
      " 3   title        object\n",
      " 4   release      object\n",
      " 5   artist_name  object\n",
      " 6   year         int64 \n",
      "dtypes: int64(2), object(5)\n",
      "memory usage: 122.1+ MB\n"
     ]
    }
   ],
   "source": [
    "df.info()"
   ]
  },
  {
   "cell_type": "markdown",
   "metadata": {
    "id": "TbEodmAcTOsx"
   },
   "source": [
    "**Which one is the most interacted song in the dataset?**\n"
   ]
  },
  {
   "cell_type": "code",
   "execution_count": 23,
   "metadata": {
    "colab": {
     "base_uri": "https://localhost:8080/",
     "height": 0
    },
    "executionInfo": {
     "elapsed": 348,
     "status": "ok",
     "timestamp": 1628784241677,
     "user": {
      "displayName": "xiaoyue luo",
      "photoUrl": "",
      "userId": "08961633824417457060"
     },
     "user_tz": 420
    },
    "id": "ldSrZjelTWi_",
    "outputId": "0200b22a-01bd-4b49-bac2-3c308ea1cd82"
   },
   "outputs": [
    {
     "data": {
      "text/plain": [
       "SOFRQTD12A81C233C0    8277\n",
       "SOAUWYT12A81C206F1    7032\n",
       "SOAXGDH12A8C13F8A1    6949\n",
       "SOBONKR12A58A7A7E0    6412\n",
       "SOSXLTC12AF72A7F54    6145\n",
       "                      ... \n",
       "SOLIGVL12AB017DBAE      51\n",
       "SOWNLZF12A58A79811      51\n",
       "SOBPGWB12A6D4F7EF3      50\n",
       "SOGSPGJ12A8C134FAA      48\n",
       "SOYYBJJ12AB017E9FD      48\n",
       "Name: song_id, Length: 10000, dtype: int64"
      ]
     },
     "execution_count": 23,
     "metadata": {},
     "output_type": "execute_result"
    }
   ],
   "source": [
    "df['song_id'].value_counts()"
   ]
  },
  {
   "cell_type": "markdown",
   "metadata": {
    "id": "35mXGF2lU9SR"
   },
   "source": [
    "Song with id **SOFRQTD12A81C233C0** is the most interacted song in df. It has been played for 8277 times."
   ]
  },
  {
   "cell_type": "markdown",
   "metadata": {
    "id": "AQVi8Qi6VoID"
   },
   "source": [
    "**Which user listened to the most number of songs?**"
   ]
  },
  {
   "cell_type": "code",
   "execution_count": 24,
   "metadata": {
    "colab": {
     "base_uri": "https://localhost:8080/",
     "height": 0
    },
    "executionInfo": {
     "elapsed": 237,
     "status": "ok",
     "timestamp": 1628784241910,
     "user": {
      "displayName": "xiaoyue luo",
      "photoUrl": "",
      "userId": "08961633824417457060"
     },
     "user_tz": 420
    },
    "id": "Q6xOaZB3VuRP",
    "outputId": "554ca55d-6a2f-4261-c859-f8fbab2885c9"
   },
   "outputs": [
    {
     "data": {
      "text/plain": [
       "6d625c6557df84b60d90426c0116138b617b9449    711\n",
       "fbee1c8ce1a346fa07d2ef648cec81117438b91f    643\n",
       "4e11f45d732f4861772b2906f81a7d384552ad12    556\n",
       "24b98f8ab023f6e7a1c37c7729c623f7b821eb95    540\n",
       "1aa4fd215aadb160965110ed8a829745cde319eb    533\n",
       "                                           ... \n",
       "36fd35102a0a5738381314e84e931eefdd9c309a      1\n",
       "232e1a1e35f7fffb4e19f7fb7bb671c5ad7f4eb6      1\n",
       "6a1ba42d3b0ca941d1d3a27156a0b43e2912be3f      1\n",
       "d5ee7144646ece070868b041e6b0ab9748db6981      1\n",
       "c7d81e8fd333ecfe8c4f3981635f8d59c8cb9968      1\n",
       "Name: user_id, Length: 76353, dtype: int64"
      ]
     },
     "execution_count": 24,
     "metadata": {},
     "output_type": "execute_result"
    }
   ],
   "source": [
    "df['user_id'].value_counts()\n"
   ]
  },
  {
   "cell_type": "markdown",
   "metadata": {
    "id": "9iN4lJygV-pR"
   },
   "source": [
    "- The user with **userId: 6d625c6557df84b60d90426c0116138b617b9449**  has listened to the most number of songs. **711** times. "
   ]
  },
  {
   "cell_type": "markdown",
   "metadata": {
    "id": "Ut9evAaKYDoW"
   },
   "source": [
    "**What is the distribution of the user-song interactions in this dataset?**"
   ]
  },
  {
   "cell_type": "code",
   "execution_count": 25,
   "metadata": {
    "colab": {
     "base_uri": "https://localhost:8080/",
     "height": 0
    },
    "executionInfo": {
     "elapsed": 1150,
     "status": "ok",
     "timestamp": 1628784243055,
     "user": {
      "displayName": "xiaoyue luo",
      "photoUrl": "",
      "userId": "08961633824417457060"
     },
     "user_tz": 420
    },
    "id": "polztOmEWs8p",
    "outputId": "3c09f5ac-53b2-4246-9297-8f42d2bcabe8"
   },
   "outputs": [
    {
     "data": {
      "text/plain": [
       "user_id\n",
       "00003a4459f33b92906be11abe0e93efc423c0ff     7\n",
       "00005c6177188f12fb5e2e82cdbd93e8a3f35e64     5\n",
       "00030033e3a2f904a48ec1dd53019c9969b6ef1f     9\n",
       "0007235c769e610e3d339a17818a5708e41008d9    10\n",
       "0007c0e74728ca9ef0fe4eb7f75732e8026a278b     9\n",
       "                                            ..\n",
       "fffce9c1537fbc350ea68823d956eaa8f5236dbe    44\n",
       "fffd6a2bdef646ce9898b628d5dd56c43df69a9d    11\n",
       "fffd9635b33f412de8ed02e44e6564e3644cf3c6    17\n",
       "fffe6d1d8500f1c1f31bd63abce35c0f975a86bf     7\n",
       "fffea3d509760c984e7d40789804c0e5e289cc86    23\n",
       "Name: song_id, Length: 76353, dtype: int64"
      ]
     },
     "execution_count": 25,
     "metadata": {},
     "output_type": "execute_result"
    }
   ],
   "source": [
    "#Finding user-song interactions distribution\n",
    "\n",
    "count_interactions = df.groupby('user_id').count()['song_id']\n",
    "count_interactions"
   ]
  },
  {
   "cell_type": "code",
   "execution_count": 26,
   "metadata": {
    "colab": {
     "base_uri": "https://localhost:8080/",
     "height": 442
    },
    "executionInfo": {
     "elapsed": 1634,
     "status": "ok",
     "timestamp": 1628784244686,
     "user": {
      "displayName": "xiaoyue luo",
      "photoUrl": "",
      "userId": "08961633824417457060"
     },
     "user_tz": 420
    },
    "id": "ktsbQ_FNYZKM",
    "outputId": "4622b545-22e7-4cf6-b510-bbefd35b686d"
   },
   "outputs": [
    {
     "data": {
      "image/png": "[encoded data removed]",
      "text/plain": [
       "<Figure size 1080x504 with 1 Axes>"
      ]
     },
     "metadata": {
      "needs_background": "light"
     },
     "output_type": "display_data"
    }
   ],
   "source": [
    "#Plotting user-song interactions distribution\n",
    "\n",
    "plt.figure(figsize=(15,7))\n",
    "\n",
    "sns.histplot(count_interactions)\n",
    "\n",
    "plt.xlabel('Number of Interactions by Users')\n",
    "\n",
    "plt.show()"
   ]
  },
  {
   "cell_type": "markdown",
   "metadata": {
    "id": "gR86OzANYnkC"
   },
   "source": [
    "- The user-song distribution has a long tail to the right. Few users played the songs more than one time. As we can not see the detailed numbers from this graph. I am going to look at the statistics of the distribution in details next."
   ]
  },
  {
   "cell_type": "markdown",
   "metadata": {
    "id": "H4hu8TDZZUg9"
   },
   "source": [
    "**Statistics of the user-song interactions.**"
   ]
  },
  {
   "cell_type": "code",
   "execution_count": 27,
   "metadata": {
    "colab": {
     "base_uri": "https://localhost:8080/",
     "height": 0
    },
    "executionInfo": {
     "elapsed": 21,
     "status": "ok",
     "timestamp": 1628784244687,
     "user": {
      "displayName": "xiaoyue luo",
      "photoUrl": "",
      "userId": "08961633824417457060"
     },
     "user_tz": 420
    },
    "id": "FUZ6MyoXZaba",
    "outputId": "4b74030e-3de0-4548-bca8-4f8aa6c243f4"
   },
   "outputs": [
    {
     "data": {
      "text/plain": [
       "count    76353.000000\n",
       "mean        26.194125\n",
       "std         31.625078\n",
       "min          1.000000\n",
       "25%          9.000000\n",
       "50%         16.000000\n",
       "75%         31.000000\n",
       "max        711.000000\n",
       "Name: song_id, dtype: float64"
      ]
     },
     "execution_count": 27,
     "metadata": {},
     "output_type": "execute_result"
    }
   ],
   "source": [
    "count_interactions.describe().T"
   ]
  },
  {
   "cell_type": "markdown",
   "metadata": {
    "id": "PnE5uUJKaFql"
   },
   "source": [
    "- We see that the mean number of songs a user played is 26 which is higher than the median which is 16. This is expected because the distribution has a long tail to the right to skew the mean to the right. Median is resistant to outliers and therefore is smaller than the mean. \n",
    "- 25% of users listened to less than 9 songs and 75% users listened to less than 31 songs."
   ]
  },
  {
   "cell_type": "markdown",
   "metadata": {
    "id": "k3wu-tzKbFOO"
   },
   "source": [
    "**For each song, how many times does it got to be played?**"
   ]
  },
  {
   "cell_type": "code",
   "execution_count": 28,
   "metadata": {
    "colab": {
     "base_uri": "https://localhost:8080/",
     "height": 0
    },
    "executionInfo": {
     "elapsed": 756,
     "status": "ok",
     "timestamp": 1628784245438,
     "user": {
      "displayName": "xiaoyue luo",
      "photoUrl": "",
      "userId": "08961633824417457060"
     },
     "user_tz": 420
    },
    "id": "OG3sPr8mZ48t",
    "outputId": "14a9e980-3bf7-46de-cded-9678edf93d8e"
   },
   "outputs": [
    {
     "data": {
      "text/plain": [
       "count    10000.000000\n",
       "mean       200.000000\n",
       "std        317.715673\n",
       "min         48.000000\n",
       "25%         89.000000\n",
       "50%        124.000000\n",
       "75%        201.000000\n",
       "max       8277.000000\n",
       "Name: play_count, dtype: float64"
      ]
     },
     "execution_count": 28,
     "metadata": {},
     "output_type": "execute_result"
    }
   ],
   "source": [
    "#Finding song playcount interactions distribution\n",
    "\n",
    "play_count_interactions = df.groupby('song_id').count()['play_count']\n",
    "play_count_interactions.describe().T\n"
   ]
  },
  {
   "cell_type": "markdown",
   "metadata": {
    "id": "gLctt6VccPbm"
   },
   "source": [
    "- The mean number of times a song is played is 200 which is bigger than the median which is 124 due to the distribution has a long tail to the right.\n",
    "- The minimum number of times a song is played is 48. 25% of the songs got played for less than 89 times and 75% of the songs got played for less than 201 times. The maximum number of times a songs is played is 8277 which we have observed earlier.\n",
    "- The graph below is a visualization of the distribution."
   ]
  },
  {
   "cell_type": "code",
   "execution_count": 29,
   "metadata": {
    "colab": {
     "base_uri": "https://localhost:8080/",
     "height": 443
    },
    "executionInfo": {
     "elapsed": 1677,
     "status": "ok",
     "timestamp": 1628784247111,
     "user": {
      "displayName": "xiaoyue luo",
      "photoUrl": "",
      "userId": "08961633824417457060"
     },
     "user_tz": 420
    },
    "id": "WtbA81o7b-Ru",
    "outputId": "debd4ab8-6e98-49e1-a7c2-fd71a94d362d"
   },
   "outputs": [
    {
     "data": {
      "image/png": "[encoded data removed]",
      "text/plain": [
       "<Figure size 1080x504 with 1 Axes>"
      ]
     },
     "metadata": {
      "needs_background": "light"
     },
     "output_type": "display_data"
    }
   ],
   "source": [
    "#Plotting playcount interactions distribution\n",
    "\n",
    "plt.figure(figsize=(15,7))\n",
    "\n",
    "sns.histplot(play_count_interactions)\n",
    "\n",
    "plt.xlabel('Number of playcount by song_id')\n",
    "\n",
    "plt.show()"
   ]
  },
  {
   "cell_type": "markdown",
   "metadata": {
    "id": "U4NdaDEVSEJu"
   },
   "source": [
    "Graph the number of songs by time period."
   ]
  },
  {
   "cell_type": "code",
   "execution_count": 30,
   "metadata": {
    "colab": {
     "base_uri": "https://localhost:8080/",
     "height": 422
    },
    "executionInfo": {
     "elapsed": 3118,
     "status": "ok",
     "timestamp": 1628784250224,
     "user": {
      "displayName": "xiaoyue luo",
      "photoUrl": "",
      "userId": "08961633824417457060"
     },
     "user_tz": 420
    },
    "id": "AT19E-94vuCP",
    "outputId": "5a84e6ed-ccc6-4bc5-db5e-e3f41ca92696"
   },
   "outputs": [
    {
     "data": {
      "text/plain": [
       "<AxesSubplot:xlabel='decade', ylabel='count'>"
      ]
     },
     "execution_count": 30,
     "metadata": {},
     "output_type": "execute_result"
    },
    {
     "data": {
      "image/png": "[encoded data removed]",
      "text/plain": [
       "<Figure size 792x432 with 1 Axes>"
      ]
     },
     "metadata": {},
     "output_type": "display_data"
    }
   ],
   "source": [
    "def get_decade(year):\n",
    "    period_start = int(year/10) * 10\n",
    "    decade = '{}s'.format(period_start)\n",
    "    return decade\n",
    "\n",
    "df['decade'] = df['year'].apply(get_decade)\n",
    "\n",
    "sns.set(rc={'figure.figsize':(11 ,6)})\n",
    "sns.countplot(df['decade'])"
   ]
  },
  {
   "cell_type": "markdown",
   "metadata": {
    "id": "z9IxWkxJdMqV"
   },
   "source": [
    "**For each user, how many times do they listen to songs?**"
   ]
  },
  {
   "cell_type": "code",
   "execution_count": 31,
   "metadata": {
    "colab": {
     "base_uri": "https://localhost:8080/",
     "height": 0
    },
    "executionInfo": {
     "elapsed": 1349,
     "status": "ok",
     "timestamp": 1628784251568,
     "user": {
      "displayName": "xiaoyue luo",
      "photoUrl": "",
      "userId": "08961633824417457060"
     },
     "user_tz": 420
    },
    "id": "kk_fXXoqdbTi",
    "outputId": "5995e0bd-de2b-413e-e129-cc837b9fa880"
   },
   "outputs": [
    {
     "data": {
      "text/plain": [
       "count    76353.000000\n",
       "mean        26.194125\n",
       "std         31.625078\n",
       "min          1.000000\n",
       "25%          9.000000\n",
       "50%         16.000000\n",
       "75%         31.000000\n",
       "max        711.000000\n",
       "Name: play_count, dtype: float64"
      ]
     },
     "execution_count": 31,
     "metadata": {},
     "output_type": "execute_result"
    }
   ],
   "source": [
    "#Finding user playcount interactions distribution\n",
    "\n",
    "user_count_interactions = df.groupby('user_id').count()['play_count']\n",
    "user_count_interactions.describe().T"
   ]
  },
  {
   "cell_type": "markdown",
   "metadata": {
    "id": "2lw-maDCb6wH"
   },
   "source": [
    "- Note this summary statistics is exactly the same as the user-song interactions summary statistics.\n",
    "- Let's look at the play_count distribution in the dataframe to see why the distribution of the number of songs a user listened to is the same as the total number of times a user listened to the songs."
   ]
  },
  {
   "cell_type": "markdown",
   "metadata": {
    "id": "z9u67bLRbuTj"
   },
   "source": [
    "**Look at the summary statistics of play_count from df.**"
   ]
  },
  {
   "cell_type": "code",
   "execution_count": 32,
   "metadata": {
    "colab": {
     "base_uri": "https://localhost:8080/",
     "height": 110
    },
    "executionInfo": {
     "elapsed": 203,
     "status": "ok",
     "timestamp": 1628784251767,
     "user": {
      "displayName": "xiaoyue luo",
      "photoUrl": "",
      "userId": "08961633824417457060"
     },
     "user_tz": 420
    },
    "id": "LF3-ImabfhMj",
    "outputId": "04988a49-50ff-4005-c8af-96e5752cf8b4"
   },
   "outputs": [
    {
     "data": {
      "text/html": [
       "<div>\n",
       "<style scoped>\n",
       "    .dataframe tbody tr th:only-of-type {\n",
       "        vertical-align: middle;\n",
       "    }\n",
       "\n",
       "    .dataframe tbody tr th {\n",
       "        vertical-align: top;\n",
       "    }\n",
       "\n",
       "    .dataframe thead th {\n",
       "        text-align: right;\n",
       "    }\n",
       "</style>\n",
       "<table border=\"1\" class=\"dataframe\">\n",
       "  <thead>\n",
       "    <tr style=\"text-align: right;\">\n",
       "      <th></th>\n",
       "      <th>count</th>\n",
       "      <th>mean</th>\n",
       "      <th>std</th>\n",
       "      <th>min</th>\n",
       "      <th>25%</th>\n",
       "      <th>50%</th>\n",
       "      <th>75%</th>\n",
       "      <th>max</th>\n",
       "    </tr>\n",
       "  </thead>\n",
       "  <tbody>\n",
       "    <tr>\n",
       "      <th>play_count</th>\n",
       "      <td>2000000.0</td>\n",
       "      <td>3.045485</td>\n",
       "      <td>6.579720</td>\n",
       "      <td>1.0</td>\n",
       "      <td>1.0</td>\n",
       "      <td>1.0</td>\n",
       "      <td>3.0</td>\n",
       "      <td>2213.0</td>\n",
       "    </tr>\n",
       "    <tr>\n",
       "      <th>year</th>\n",
       "      <td>2000000.0</td>\n",
       "      <td>1628.644749</td>\n",
       "      <td>778.728286</td>\n",
       "      <td>0.0</td>\n",
       "      <td>1984.0</td>\n",
       "      <td>2002.0</td>\n",
       "      <td>2007.0</td>\n",
       "      <td>2010.0</td>\n",
       "    </tr>\n",
       "  </tbody>\n",
       "</table>\n",
       "</div>"
      ],
      "text/plain": [
       "                count         mean         std  min     25%     50%     75%  \\\n",
       "play_count  2000000.0     3.045485    6.579720  1.0     1.0     1.0     3.0   \n",
       "year        2000000.0  1628.644749  778.728286  0.0  1984.0  2002.0  2007.0   \n",
       "\n",
       "               max  \n",
       "play_count  2213.0  \n",
       "year        2010.0  "
      ]
     },
     "execution_count": 32,
     "metadata": {},
     "output_type": "execute_result"
    }
   ],
   "source": [
    "df.describe().T"
   ]
  },
  {
   "cell_type": "markdown",
   "metadata": {
    "id": "fE-9rbM1fk5g"
   },
   "source": [
    "- For every song, half of the users only played it one time.\n",
    "- For the same song, 75% of users played it less than 3 times.\n",
    "- This explains why the distribution of the number of songs a user listend to is the same as the total number fo times a user listened to the songs. Becauase half of the users only played each song they listened to one time, the number of songs a user listened to is the same as the total number of times a user listened to the songs for these users. Since 75% of users has play count less than 3. So the number of songs a user listened to is very similar to the total number of times a user listened to the songs.\n",
    "- Therefore whenever it is convenient, I will either use the number of times a song_id appears in the dataset or the total number of play_count for a song_id. They are interchangable for our case."
   ]
  },
  {
   "cell_type": "markdown",
   "metadata": {
    "id": "BAb7jzankEn2"
   },
   "source": [
    "### **Method 1: Rank Based Recommendation System**"
   ]
  },
  {
   "cell_type": "markdown",
   "metadata": {
    "id": "fzRgLTLlkJT1"
   },
   "source": [
    "- Rank-based recommendation systems provide recommendations based on the most popular items. This kind of recommendation system is useful when we have **cold start** problems. Cold start refers to the issue when we get a new user into the system and the machine is not able to recommend songs to the new user, as the user did not have any historical interactions in the dataset. In those cases, we can use rank-based recommendation system to recommend songs to the new user.\n",
    "- Traditional rank-based recommendation will only recommend those popular items based on the assumption that a new user would be the same as the majority of the previous users. This generates a problem: many songs will never be recommended to anyone.\n",
    "- For this reason, I decided to **combine rank-based recommendation with one recommendation randomly selected from the songs that are not in the popular list**. The rationale behind this algorithm is to give less popular songs a chance to be listened by users. In addition, a new user may very well not be the same as the majority of the existing users. Since we don't have any information about the new user, it is reasonable to assume that the probability of a new user be **different** from the majority of the existing users is the **same** as she/he be the same as the existing users."
   ]
  },
  {
   "cell_type": "markdown",
   "metadata": {
    "id": "gQEMeGpbmLla"
   },
   "source": [
    "To build the rank-based recommendation system, we take **play_count** for each song and then rank them in descending order."
   ]
  },
  {
   "cell_type": "code",
   "execution_count": 33,
   "metadata": {
    "colab": {
     "base_uri": "https://localhost:8080/",
     "height": 0
    },
    "executionInfo": {
     "elapsed": 805,
     "status": "ok",
     "timestamp": 1628784252567,
     "user": {
      "displayName": "xiaoyue luo",
      "photoUrl": "",
      "userId": "08961633824417457060"
     },
     "user_tz": 420
    },
    "id": "2q7LdMvCmce3",
    "outputId": "8ff44c4a-f8c4-483a-e596-c64ad6944927"
   },
   "outputs": [
    {
     "name": "stdout",
     "output_type": "stream",
     "text": [
      "song_id\n",
      "SOAAAGQ12A8C1420C8     66\n",
      "SOAACPJ12A81C21360    147\n",
      "SOAACSG12AB018DC80     67\n",
      "SOAAEJI12AB0188AB5     62\n",
      "SOAAFAC12A67ADF7EB    190\n",
      "                     ... \n",
      "SOZZTNF12A8C139916    270\n",
      "SOZZVWB12AB0189C30    138\n",
      "SOZZWZV12A67AE140F    119\n",
      "SOZZYAO12A6701FF36     76\n",
      "SOZZZPV12A8C1444B5     71\n",
      "Name: play_count, Length: 10000, dtype: int64\n",
      "                    play_count\n",
      "song_id                       \n",
      "SOAAAGQ12A8C1420C8          66\n",
      "SOAACPJ12A81C21360         147\n",
      "SOAACSG12AB018DC80          67\n",
      "SOAAEJI12AB0188AB5          62\n",
      "SOAAFAC12A67ADF7EB         190\n",
      "...                        ...\n",
      "SOZZTNF12A8C139916         270\n",
      "SOZZVWB12AB0189C30         138\n",
      "SOZZWZV12A67AE140F         119\n",
      "SOZZYAO12A6701FF36          76\n",
      "SOZZZPV12A8C1444B5          71\n",
      "\n",
      "[10000 rows x 1 columns]\n"
     ]
    }
   ],
   "source": [
    "#Calculating the play_count of each song\n",
    "count = df.groupby('song_id').count()['play_count']\n",
    "print(count)\n",
    "#Making a dataframe with the play_count\n",
    "df_play_count = pd.DataFrame({'play_count':count})\n",
    "print(df_play_count)"
   ]
  },
  {
   "cell_type": "code",
   "execution_count": 34,
   "metadata": {
    "colab": {
     "base_uri": "https://localhost:8080/",
     "height": 447
    },
    "executionInfo": {
     "elapsed": 182,
     "status": "ok",
     "timestamp": 1628784252746,
     "user": {
      "displayName": "xiaoyue luo",
      "photoUrl": "",
      "userId": "08961633824417457060"
     },
     "user_tz": 420
    },
    "id": "mHEttfG3nl11",
    "outputId": "719f75c4-8754-4475-8426-90438bb26ab2"
   },
   "outputs": [
    {
     "data": {
      "text/html": [
       "<div>\n",
       "<style scoped>\n",
       "    .dataframe tbody tr th:only-of-type {\n",
       "        vertical-align: middle;\n",
       "    }\n",
       "\n",
       "    .dataframe tbody tr th {\n",
       "        vertical-align: top;\n",
       "    }\n",
       "\n",
       "    .dataframe thead th {\n",
       "        text-align: right;\n",
       "    }\n",
       "</style>\n",
       "<table border=\"1\" class=\"dataframe\">\n",
       "  <thead>\n",
       "    <tr style=\"text-align: right;\">\n",
       "      <th></th>\n",
       "      <th>play_count</th>\n",
       "    </tr>\n",
       "    <tr>\n",
       "      <th>song_id</th>\n",
       "      <th></th>\n",
       "    </tr>\n",
       "  </thead>\n",
       "  <tbody>\n",
       "    <tr>\n",
       "      <th>SOFRQTD12A81C233C0</th>\n",
       "      <td>8277</td>\n",
       "    </tr>\n",
       "    <tr>\n",
       "      <th>SOAUWYT12A81C206F1</th>\n",
       "      <td>7032</td>\n",
       "    </tr>\n",
       "    <tr>\n",
       "      <th>SOAXGDH12A8C13F8A1</th>\n",
       "      <td>6949</td>\n",
       "    </tr>\n",
       "    <tr>\n",
       "      <th>SOBONKR12A58A7A7E0</th>\n",
       "      <td>6412</td>\n",
       "    </tr>\n",
       "    <tr>\n",
       "      <th>SOSXLTC12AF72A7F54</th>\n",
       "      <td>6145</td>\n",
       "    </tr>\n",
       "    <tr>\n",
       "      <th>...</th>\n",
       "      <td>...</td>\n",
       "    </tr>\n",
       "    <tr>\n",
       "      <th>SOWNLZF12A58A79811</th>\n",
       "      <td>51</td>\n",
       "    </tr>\n",
       "    <tr>\n",
       "      <th>SOLIGVL12AB017DBAE</th>\n",
       "      <td>51</td>\n",
       "    </tr>\n",
       "    <tr>\n",
       "      <th>SOBPGWB12A6D4F7EF3</th>\n",
       "      <td>50</td>\n",
       "    </tr>\n",
       "    <tr>\n",
       "      <th>SOYYBJJ12AB017E9FD</th>\n",
       "      <td>48</td>\n",
       "    </tr>\n",
       "    <tr>\n",
       "      <th>SOGSPGJ12A8C134FAA</th>\n",
       "      <td>48</td>\n",
       "    </tr>\n",
       "  </tbody>\n",
       "</table>\n",
       "<p>10000 rows × 1 columns</p>\n",
       "</div>"
      ],
      "text/plain": [
       "                    play_count\n",
       "song_id                       \n",
       "SOFRQTD12A81C233C0        8277\n",
       "SOAUWYT12A81C206F1        7032\n",
       "SOAXGDH12A8C13F8A1        6949\n",
       "SOBONKR12A58A7A7E0        6412\n",
       "SOSXLTC12AF72A7F54        6145\n",
       "...                        ...\n",
       "SOWNLZF12A58A79811          51\n",
       "SOLIGVL12AB017DBAE          51\n",
       "SOBPGWB12A6D4F7EF3          50\n",
       "SOYYBJJ12AB017E9FD          48\n",
       "SOGSPGJ12A8C134FAA          48\n",
       "\n",
       "[10000 rows x 1 columns]"
      ]
     },
     "execution_count": 34,
     "metadata": {},
     "output_type": "execute_result"
    }
   ],
   "source": [
    "df_play_count_sort=df_play_count.sort_values(by='play_count', ascending=False)\n",
    "df_play_count_sort"
   ]
  },
  {
   "cell_type": "markdown",
   "metadata": {
    "id": "bj8N3UWeCHjv"
   },
   "source": [
    "Add index to df_play_count_sort_reset."
   ]
  },
  {
   "cell_type": "code",
   "execution_count": 35,
   "metadata": {
    "colab": {
     "base_uri": "https://localhost:8080/",
     "height": 417
    },
    "executionInfo": {
     "elapsed": 35,
     "status": "ok",
     "timestamp": 1628784252747,
     "user": {
      "displayName": "xiaoyue luo",
      "photoUrl": "",
      "userId": "08961633824417457060"
     },
     "user_tz": 420
    },
    "id": "zJyKGYvaqKgF",
    "outputId": "4df10bec-6349-4772-87ae-650e823b2ffa"
   },
   "outputs": [
    {
     "data": {
      "text/html": [
       "<div>\n",
       "<style scoped>\n",
       "    .dataframe tbody tr th:only-of-type {\n",
       "        vertical-align: middle;\n",
       "    }\n",
       "\n",
       "    .dataframe tbody tr th {\n",
       "        vertical-align: top;\n",
       "    }\n",
       "\n",
       "    .dataframe thead th {\n",
       "        text-align: right;\n",
       "    }\n",
       "</style>\n",
       "<table border=\"1\" class=\"dataframe\">\n",
       "  <thead>\n",
       "    <tr style=\"text-align: right;\">\n",
       "      <th></th>\n",
       "      <th>song_id</th>\n",
       "      <th>play_count</th>\n",
       "    </tr>\n",
       "  </thead>\n",
       "  <tbody>\n",
       "    <tr>\n",
       "      <th>0</th>\n",
       "      <td>SOFRQTD12A81C233C0</td>\n",
       "      <td>8277</td>\n",
       "    </tr>\n",
       "    <tr>\n",
       "      <th>1</th>\n",
       "      <td>SOAUWYT12A81C206F1</td>\n",
       "      <td>7032</td>\n",
       "    </tr>\n",
       "    <tr>\n",
       "      <th>2</th>\n",
       "      <td>SOAXGDH12A8C13F8A1</td>\n",
       "      <td>6949</td>\n",
       "    </tr>\n",
       "    <tr>\n",
       "      <th>3</th>\n",
       "      <td>SOBONKR12A58A7A7E0</td>\n",
       "      <td>6412</td>\n",
       "    </tr>\n",
       "    <tr>\n",
       "      <th>4</th>\n",
       "      <td>SOSXLTC12AF72A7F54</td>\n",
       "      <td>6145</td>\n",
       "    </tr>\n",
       "    <tr>\n",
       "      <th>...</th>\n",
       "      <td>...</td>\n",
       "      <td>...</td>\n",
       "    </tr>\n",
       "    <tr>\n",
       "      <th>9995</th>\n",
       "      <td>SOWNLZF12A58A79811</td>\n",
       "      <td>51</td>\n",
       "    </tr>\n",
       "    <tr>\n",
       "      <th>9996</th>\n",
       "      <td>SOLIGVL12AB017DBAE</td>\n",
       "      <td>51</td>\n",
       "    </tr>\n",
       "    <tr>\n",
       "      <th>9997</th>\n",
       "      <td>SOBPGWB12A6D4F7EF3</td>\n",
       "      <td>50</td>\n",
       "    </tr>\n",
       "    <tr>\n",
       "      <th>9998</th>\n",
       "      <td>SOYYBJJ12AB017E9FD</td>\n",
       "      <td>48</td>\n",
       "    </tr>\n",
       "    <tr>\n",
       "      <th>9999</th>\n",
       "      <td>SOGSPGJ12A8C134FAA</td>\n",
       "      <td>48</td>\n",
       "    </tr>\n",
       "  </tbody>\n",
       "</table>\n",
       "<p>10000 rows × 2 columns</p>\n",
       "</div>"
      ],
      "text/plain": [
       "                 song_id  play_count\n",
       "0     SOFRQTD12A81C233C0        8277\n",
       "1     SOAUWYT12A81C206F1        7032\n",
       "2     SOAXGDH12A8C13F8A1        6949\n",
       "3     SOBONKR12A58A7A7E0        6412\n",
       "4     SOSXLTC12AF72A7F54        6145\n",
       "...                  ...         ...\n",
       "9995  SOWNLZF12A58A79811          51\n",
       "9996  SOLIGVL12AB017DBAE          51\n",
       "9997  SOBPGWB12A6D4F7EF3          50\n",
       "9998  SOYYBJJ12AB017E9FD          48\n",
       "9999  SOGSPGJ12A8C134FAA          48\n",
       "\n",
       "[10000 rows x 2 columns]"
      ]
     },
     "execution_count": 35,
     "metadata": {},
     "output_type": "execute_result"
    }
   ],
   "source": [
    "df_play_count_sort_reset=df_play_count_sort.reset_index()\n",
    "df_play_count_sort_reset"
   ]
  },
  {
   "cell_type": "code",
   "execution_count": 36,
   "metadata": {
    "colab": {
     "base_uri": "https://localhost:8080/",
     "height": 35
    },
    "executionInfo": {
     "elapsed": 35,
     "status": "ok",
     "timestamp": 1628784252749,
     "user": {
      "displayName": "xiaoyue luo",
      "photoUrl": "",
      "userId": "08961633824417457060"
     },
     "user_tz": 420
    },
    "id": "RDKo7LawqQQd",
    "outputId": "c581073f-53d3-4733-f2ad-1c056b00dae0"
   },
   "outputs": [
    {
     "data": {
      "text/plain": [
       "'SOAXGDH12A8C13F8A1'"
      ]
     },
     "execution_count": 36,
     "metadata": {},
     "output_type": "execute_result"
    }
   ],
   "source": [
    "#If we want the song_id for the third most played songs, we can do the following.\n",
    "df_play_count_sort_reset.iat[2,0]"
   ]
  },
  {
   "cell_type": "markdown",
   "metadata": {
    "id": "XKADDEzQZYCu"
   },
   "source": [
    "Now create a function that gives the recommendation of n songs in which n-1 are the most popular songs in terms of play count and one is randomly selected from the rest of the 10000-n+1 songs."
   ]
  },
  {
   "cell_type": "code",
   "execution_count": 37,
   "metadata": {
    "executionInfo": {
     "elapsed": 36,
     "status": "ok",
     "timestamp": 1628784252751,
     "user": {
      "displayName": "xiaoyue luo",
      "photoUrl": "",
      "userId": "08961633824417457060"
     },
     "user_tz": 420
    },
    "id": "Ku3cCpK_o73Q"
   },
   "outputs": [],
   "source": [
    "def top_n_songs(n):\n",
    "    idx=[i for i in range(n-1,len(df_play_count_sort_reset))] # Create a list with numbers starting from n-1 and goes up to number of rows minus 1.\n",
    "    rand_idx = random.randrange(0,len(df_play_count_sort_reset)-n)#Randomly select a number from 0 to number or rows minus n, minus 1.\n",
    "    random_num = idx[rand_idx]\n",
    "    popular=[i for i in range(0,n-1)]\n",
    "    popular.append(random_num)\n",
    "   \n",
    "    \n",
    "    return df_play_count_sort_reset.iloc[popular,0]\n",
    "\n"
   ]
  },
  {
   "cell_type": "markdown",
   "metadata": {
    "id": "UjTTG0aJNvL4"
   },
   "source": [
    "We can **use this function with different n's** to get songs to recommend."
   ]
  },
  {
   "cell_type": "markdown",
   "metadata": {
    "id": "ZWthAID9N2mn"
   },
   "source": [
    "#### **Recommending top 10 songs based on popularity and promotion of unpopular songs.**"
   ]
  },
  {
   "cell_type": "code",
   "execution_count": 38,
   "metadata": {
    "colab": {
     "base_uri": "https://localhost:8080/",
     "height": 0
    },
    "executionInfo": {
     "elapsed": 34,
     "status": "ok",
     "timestamp": 1628784252752,
     "user": {
      "displayName": "xiaoyue luo",
      "photoUrl": "",
      "userId": "08961633824417457060"
     },
     "user_tz": 420
    },
    "id": "3Lund9oMOJqk",
    "outputId": "83a9e855-58f4-4eb5-cd90-17d6f3ca09e9"
   },
   "outputs": [
    {
     "data": {
      "text/plain": [
       "0       SOFRQTD12A81C233C0\n",
       "1       SOAUWYT12A81C206F1\n",
       "2       SOAXGDH12A8C13F8A1\n",
       "3       SOBONKR12A58A7A7E0\n",
       "4       SOSXLTC12AF72A7F54\n",
       "5       SONYKOW12AB01849C9\n",
       "6       SOEGIYH12A6D4FC0E3\n",
       "7       SOLFXKT12AB017E3E0\n",
       "8       SODJWHY12A8C142CCE\n",
       "7674    SOLJZEL12AB018D3B4\n",
       "Name: song_id, dtype: object"
      ]
     },
     "execution_count": 38,
     "metadata": {},
     "output_type": "execute_result"
    }
   ],
   "source": [
    "top_n_songs(10)"
   ]
  },
  {
   "cell_type": "markdown",
   "metadata": {
    "id": "BSuqV0NDGrBy"
   },
   "source": [
    "**Summary:** \n",
    "- For this recommendation system, the first 9 songs are based on popularity and the last one is based on a random selection.\n",
    "- This type of recommendation works for new users of whom we have no information about. My method helps to give songs that are less played a chance to be recommended. The rationale behind it is that a new user from whom we have no information about has a good probability of not being the same as the majority of the original users.\n",
    "- It is not personalized recommendation. For every given user, the top 9 songs recommended will be the same and the 10th song is a random selection from the the rest of the other songs (excluding the top 9 songs).\n"
   ]
  },
  {
   "cell_type": "markdown",
   "metadata": {
    "id": "La00A1UXHmqz"
   },
   "source": [
    "Now build a **collaborative filtering based recommendation system**.\n",
    "- In this type of recommendation system, `we do not need any information` about the users or items. We only need user item interaction data to build a collaborative recommendation system.\n",
    "- There are mainly two types of collaborative filtering based recommendation systems: **similarity/Neighborhood based** and **model based**."
   ]
  },
  {
   "cell_type": "markdown",
   "metadata": {
    "id": "bP1bMoldHf8Z"
   },
   "source": [
    "### **Method 2: Similarity/Neighborhood Based Collaborative Filtering**"
   ]
  },
  {
   "cell_type": "markdown",
   "metadata": {
    "id": "uV-LqZWissG3"
   },
   "source": [
    "First, we compute the **user-item interactions matrix**"
   ]
  },
  {
   "cell_type": "code",
   "execution_count": 39,
   "metadata": {
    "colab": {
     "base_uri": "https://localhost:8080/",
     "height": 467
    },
    "executionInfo": {
     "elapsed": 6285,
     "status": "ok",
     "timestamp": 1628784259022,
     "user": {
      "displayName": "xiaoyue luo",
      "photoUrl": "",
      "userId": "08961633824417457060"
     },
     "user_tz": 420
    },
    "id": "I0h65GxessG3",
    "outputId": "59976be1-bb4f-411a-b328-c76ca80f2104"
   },
   "outputs": [
    {
     "data": {
      "text/html": [
       "<div>\n",
       "<style scoped>\n",
       "    .dataframe tbody tr th:only-of-type {\n",
       "        vertical-align: middle;\n",
       "    }\n",
       "\n",
       "    .dataframe tbody tr th {\n",
       "        vertical-align: top;\n",
       "    }\n",
       "\n",
       "    .dataframe thead th {\n",
       "        text-align: right;\n",
       "    }\n",
       "</style>\n",
       "<table border=\"1\" class=\"dataframe\">\n",
       "  <thead>\n",
       "    <tr style=\"text-align: right;\">\n",
       "      <th>song_id</th>\n",
       "      <th>SOAAAGQ12A8C1420C8</th>\n",
       "      <th>SOAACPJ12A81C21360</th>\n",
       "      <th>SOAACSG12AB018DC80</th>\n",
       "      <th>SOAAEJI12AB0188AB5</th>\n",
       "      <th>SOAAFAC12A67ADF7EB</th>\n",
       "      <th>SOAAFYH12A8C13717A</th>\n",
       "      <th>SOAAJMQ12A6D4F7D17</th>\n",
       "      <th>SOAAKPM12A58A77210</th>\n",
       "      <th>SOAALWN12A6D4F7FDA</th>\n",
       "      <th>SOAAMOW12AB018149B</th>\n",
       "      <th>...</th>\n",
       "      <th>SOZZKPR12A6D4F8147</th>\n",
       "      <th>SOZZLTY12A67AE0AD0</th>\n",
       "      <th>SOZZLZN12A8AE48D6D</th>\n",
       "      <th>SOZZRHE12A6702165F</th>\n",
       "      <th>SOZZTCU12AB0182C58</th>\n",
       "      <th>SOZZTNF12A8C139916</th>\n",
       "      <th>SOZZVWB12AB0189C30</th>\n",
       "      <th>SOZZWZV12A67AE140F</th>\n",
       "      <th>SOZZYAO12A6701FF36</th>\n",
       "      <th>SOZZZPV12A8C1444B5</th>\n",
       "    </tr>\n",
       "    <tr>\n",
       "      <th>user_id</th>\n",
       "      <th></th>\n",
       "      <th></th>\n",
       "      <th></th>\n",
       "      <th></th>\n",
       "      <th></th>\n",
       "      <th></th>\n",
       "      <th></th>\n",
       "      <th></th>\n",
       "      <th></th>\n",
       "      <th></th>\n",
       "      <th></th>\n",
       "      <th></th>\n",
       "      <th></th>\n",
       "      <th></th>\n",
       "      <th></th>\n",
       "      <th></th>\n",
       "      <th></th>\n",
       "      <th></th>\n",
       "      <th></th>\n",
       "      <th></th>\n",
       "      <th></th>\n",
       "    </tr>\n",
       "  </thead>\n",
       "  <tbody>\n",
       "    <tr>\n",
       "      <th>00003a4459f33b92906be11abe0e93efc423c0ff</th>\n",
       "      <td>NaN</td>\n",
       "      <td>NaN</td>\n",
       "      <td>NaN</td>\n",
       "      <td>NaN</td>\n",
       "      <td>NaN</td>\n",
       "      <td>NaN</td>\n",
       "      <td>NaN</td>\n",
       "      <td>NaN</td>\n",
       "      <td>NaN</td>\n",
       "      <td>NaN</td>\n",
       "      <td>...</td>\n",
       "      <td>NaN</td>\n",
       "      <td>NaN</td>\n",
       "      <td>NaN</td>\n",
       "      <td>NaN</td>\n",
       "      <td>NaN</td>\n",
       "      <td>NaN</td>\n",
       "      <td>NaN</td>\n",
       "      <td>NaN</td>\n",
       "      <td>NaN</td>\n",
       "      <td>NaN</td>\n",
       "    </tr>\n",
       "    <tr>\n",
       "      <th>00005c6177188f12fb5e2e82cdbd93e8a3f35e64</th>\n",
       "      <td>NaN</td>\n",
       "      <td>NaN</td>\n",
       "      <td>NaN</td>\n",
       "      <td>NaN</td>\n",
       "      <td>NaN</td>\n",
       "      <td>NaN</td>\n",
       "      <td>NaN</td>\n",
       "      <td>NaN</td>\n",
       "      <td>NaN</td>\n",
       "      <td>NaN</td>\n",
       "      <td>...</td>\n",
       "      <td>NaN</td>\n",
       "      <td>NaN</td>\n",
       "      <td>NaN</td>\n",
       "      <td>NaN</td>\n",
       "      <td>NaN</td>\n",
       "      <td>NaN</td>\n",
       "      <td>NaN</td>\n",
       "      <td>NaN</td>\n",
       "      <td>NaN</td>\n",
       "      <td>NaN</td>\n",
       "    </tr>\n",
       "    <tr>\n",
       "      <th>00030033e3a2f904a48ec1dd53019c9969b6ef1f</th>\n",
       "      <td>NaN</td>\n",
       "      <td>NaN</td>\n",
       "      <td>NaN</td>\n",
       "      <td>NaN</td>\n",
       "      <td>NaN</td>\n",
       "      <td>NaN</td>\n",
       "      <td>NaN</td>\n",
       "      <td>NaN</td>\n",
       "      <td>NaN</td>\n",
       "      <td>NaN</td>\n",
       "      <td>...</td>\n",
       "      <td>NaN</td>\n",
       "      <td>NaN</td>\n",
       "      <td>NaN</td>\n",
       "      <td>NaN</td>\n",
       "      <td>NaN</td>\n",
       "      <td>NaN</td>\n",
       "      <td>NaN</td>\n",
       "      <td>NaN</td>\n",
       "      <td>NaN</td>\n",
       "      <td>NaN</td>\n",
       "    </tr>\n",
       "    <tr>\n",
       "      <th>0007235c769e610e3d339a17818a5708e41008d9</th>\n",
       "      <td>NaN</td>\n",
       "      <td>NaN</td>\n",
       "      <td>NaN</td>\n",
       "      <td>NaN</td>\n",
       "      <td>NaN</td>\n",
       "      <td>NaN</td>\n",
       "      <td>NaN</td>\n",
       "      <td>NaN</td>\n",
       "      <td>NaN</td>\n",
       "      <td>NaN</td>\n",
       "      <td>...</td>\n",
       "      <td>NaN</td>\n",
       "      <td>NaN</td>\n",
       "      <td>NaN</td>\n",
       "      <td>NaN</td>\n",
       "      <td>NaN</td>\n",
       "      <td>NaN</td>\n",
       "      <td>NaN</td>\n",
       "      <td>NaN</td>\n",
       "      <td>NaN</td>\n",
       "      <td>NaN</td>\n",
       "    </tr>\n",
       "    <tr>\n",
       "      <th>0007c0e74728ca9ef0fe4eb7f75732e8026a278b</th>\n",
       "      <td>NaN</td>\n",
       "      <td>NaN</td>\n",
       "      <td>NaN</td>\n",
       "      <td>NaN</td>\n",
       "      <td>NaN</td>\n",
       "      <td>NaN</td>\n",
       "      <td>NaN</td>\n",
       "      <td>NaN</td>\n",
       "      <td>NaN</td>\n",
       "      <td>NaN</td>\n",
       "      <td>...</td>\n",
       "      <td>NaN</td>\n",
       "      <td>NaN</td>\n",
       "      <td>NaN</td>\n",
       "      <td>NaN</td>\n",
       "      <td>NaN</td>\n",
       "      <td>NaN</td>\n",
       "      <td>NaN</td>\n",
       "      <td>NaN</td>\n",
       "      <td>NaN</td>\n",
       "      <td>NaN</td>\n",
       "    </tr>\n",
       "    <tr>\n",
       "      <th>...</th>\n",
       "      <td>...</td>\n",
       "      <td>...</td>\n",
       "      <td>...</td>\n",
       "      <td>...</td>\n",
       "      <td>...</td>\n",
       "      <td>...</td>\n",
       "      <td>...</td>\n",
       "      <td>...</td>\n",
       "      <td>...</td>\n",
       "      <td>...</td>\n",
       "      <td>...</td>\n",
       "      <td>...</td>\n",
       "      <td>...</td>\n",
       "      <td>...</td>\n",
       "      <td>...</td>\n",
       "      <td>...</td>\n",
       "      <td>...</td>\n",
       "      <td>...</td>\n",
       "      <td>...</td>\n",
       "      <td>...</td>\n",
       "      <td>...</td>\n",
       "    </tr>\n",
       "    <tr>\n",
       "      <th>fffce9c1537fbc350ea68823d956eaa8f5236dbe</th>\n",
       "      <td>NaN</td>\n",
       "      <td>NaN</td>\n",
       "      <td>NaN</td>\n",
       "      <td>NaN</td>\n",
       "      <td>NaN</td>\n",
       "      <td>NaN</td>\n",
       "      <td>NaN</td>\n",
       "      <td>NaN</td>\n",
       "      <td>NaN</td>\n",
       "      <td>NaN</td>\n",
       "      <td>...</td>\n",
       "      <td>NaN</td>\n",
       "      <td>NaN</td>\n",
       "      <td>NaN</td>\n",
       "      <td>NaN</td>\n",
       "      <td>NaN</td>\n",
       "      <td>NaN</td>\n",
       "      <td>NaN</td>\n",
       "      <td>NaN</td>\n",
       "      <td>NaN</td>\n",
       "      <td>NaN</td>\n",
       "    </tr>\n",
       "    <tr>\n",
       "      <th>fffd6a2bdef646ce9898b628d5dd56c43df69a9d</th>\n",
       "      <td>NaN</td>\n",
       "      <td>NaN</td>\n",
       "      <td>NaN</td>\n",
       "      <td>NaN</td>\n",
       "      <td>NaN</td>\n",
       "      <td>NaN</td>\n",
       "      <td>NaN</td>\n",
       "      <td>NaN</td>\n",
       "      <td>NaN</td>\n",
       "      <td>NaN</td>\n",
       "      <td>...</td>\n",
       "      <td>NaN</td>\n",
       "      <td>NaN</td>\n",
       "      <td>NaN</td>\n",
       "      <td>NaN</td>\n",
       "      <td>NaN</td>\n",
       "      <td>NaN</td>\n",
       "      <td>NaN</td>\n",
       "      <td>NaN</td>\n",
       "      <td>NaN</td>\n",
       "      <td>NaN</td>\n",
       "    </tr>\n",
       "    <tr>\n",
       "      <th>fffd9635b33f412de8ed02e44e6564e3644cf3c6</th>\n",
       "      <td>NaN</td>\n",
       "      <td>NaN</td>\n",
       "      <td>NaN</td>\n",
       "      <td>NaN</td>\n",
       "      <td>NaN</td>\n",
       "      <td>NaN</td>\n",
       "      <td>NaN</td>\n",
       "      <td>NaN</td>\n",
       "      <td>NaN</td>\n",
       "      <td>NaN</td>\n",
       "      <td>...</td>\n",
       "      <td>NaN</td>\n",
       "      <td>NaN</td>\n",
       "      <td>NaN</td>\n",
       "      <td>NaN</td>\n",
       "      <td>NaN</td>\n",
       "      <td>NaN</td>\n",
       "      <td>NaN</td>\n",
       "      <td>NaN</td>\n",
       "      <td>NaN</td>\n",
       "      <td>NaN</td>\n",
       "    </tr>\n",
       "    <tr>\n",
       "      <th>fffe6d1d8500f1c1f31bd63abce35c0f975a86bf</th>\n",
       "      <td>NaN</td>\n",
       "      <td>NaN</td>\n",
       "      <td>NaN</td>\n",
       "      <td>NaN</td>\n",
       "      <td>NaN</td>\n",
       "      <td>NaN</td>\n",
       "      <td>NaN</td>\n",
       "      <td>NaN</td>\n",
       "      <td>NaN</td>\n",
       "      <td>NaN</td>\n",
       "      <td>...</td>\n",
       "      <td>NaN</td>\n",
       "      <td>NaN</td>\n",
       "      <td>NaN</td>\n",
       "      <td>NaN</td>\n",
       "      <td>NaN</td>\n",
       "      <td>NaN</td>\n",
       "      <td>NaN</td>\n",
       "      <td>NaN</td>\n",
       "      <td>NaN</td>\n",
       "      <td>NaN</td>\n",
       "    </tr>\n",
       "    <tr>\n",
       "      <th>fffea3d509760c984e7d40789804c0e5e289cc86</th>\n",
       "      <td>NaN</td>\n",
       "      <td>NaN</td>\n",
       "      <td>NaN</td>\n",
       "      <td>NaN</td>\n",
       "      <td>NaN</td>\n",
       "      <td>NaN</td>\n",
       "      <td>NaN</td>\n",
       "      <td>NaN</td>\n",
       "      <td>NaN</td>\n",
       "      <td>NaN</td>\n",
       "      <td>...</td>\n",
       "      <td>NaN</td>\n",
       "      <td>NaN</td>\n",
       "      <td>NaN</td>\n",
       "      <td>NaN</td>\n",
       "      <td>NaN</td>\n",
       "      <td>NaN</td>\n",
       "      <td>NaN</td>\n",
       "      <td>NaN</td>\n",
       "      <td>NaN</td>\n",
       "      <td>NaN</td>\n",
       "    </tr>\n",
       "  </tbody>\n",
       "</table>\n",
       "<p>76353 rows × 10000 columns</p>\n",
       "</div>"
      ],
      "text/plain": [
       "song_id                                   SOAAAGQ12A8C1420C8  \\\n",
       "user_id                                                        \n",
       "00003a4459f33b92906be11abe0e93efc423c0ff                 NaN   \n",
       "00005c6177188f12fb5e2e82cdbd93e8a3f35e64                 NaN   \n",
       "00030033e3a2f904a48ec1dd53019c9969b6ef1f                 NaN   \n",
       "0007235c769e610e3d339a17818a5708e41008d9                 NaN   \n",
       "0007c0e74728ca9ef0fe4eb7f75732e8026a278b                 NaN   \n",
       "...                                                      ...   \n",
       "fffce9c1537fbc350ea68823d956eaa8f5236dbe                 NaN   \n",
       "fffd6a2bdef646ce9898b628d5dd56c43df69a9d                 NaN   \n",
       "fffd9635b33f412de8ed02e44e6564e3644cf3c6                 NaN   \n",
       "fffe6d1d8500f1c1f31bd63abce35c0f975a86bf                 NaN   \n",
       "fffea3d509760c984e7d40789804c0e5e289cc86                 NaN   \n",
       "\n",
       "song_id                                   SOAACPJ12A81C21360  \\\n",
       "user_id                                                        \n",
       "00003a4459f33b92906be11abe0e93efc423c0ff                 NaN   \n",
       "00005c6177188f12fb5e2e82cdbd93e8a3f35e64                 NaN   \n",
       "00030033e3a2f904a48ec1dd53019c9969b6ef1f                 NaN   \n",
       "0007235c769e610e3d339a17818a5708e41008d9                 NaN   \n",
       "0007c0e74728ca9ef0fe4eb7f75732e8026a278b                 NaN   \n",
       "...                                                      ...   \n",
       "fffce9c1537fbc350ea68823d956eaa8f5236dbe                 NaN   \n",
       "fffd6a2bdef646ce9898b628d5dd56c43df69a9d                 NaN   \n",
       "fffd9635b33f412de8ed02e44e6564e3644cf3c6                 NaN   \n",
       "fffe6d1d8500f1c1f31bd63abce35c0f975a86bf                 NaN   \n",
       "fffea3d509760c984e7d40789804c0e5e289cc86                 NaN   \n",
       "\n",
       "song_id                                   SOAACSG12AB018DC80  \\\n",
       "user_id                                                        \n",
       "00003a4459f33b92906be11abe0e93efc423c0ff                 NaN   \n",
       "00005c6177188f12fb5e2e82cdbd93e8a3f35e64                 NaN   \n",
       "00030033e3a2f904a48ec1dd53019c9969b6ef1f                 NaN   \n",
       "0007235c769e610e3d339a17818a5708e41008d9                 NaN   \n",
       "0007c0e74728ca9ef0fe4eb7f75732e8026a278b                 NaN   \n",
       "...                                                      ...   \n",
       "fffce9c1537fbc350ea68823d956eaa8f5236dbe                 NaN   \n",
       "fffd6a2bdef646ce9898b628d5dd56c43df69a9d                 NaN   \n",
       "fffd9635b33f412de8ed02e44e6564e3644cf3c6                 NaN   \n",
       "fffe6d1d8500f1c1f31bd63abce35c0f975a86bf                 NaN   \n",
       "fffea3d509760c984e7d40789804c0e5e289cc86                 NaN   \n",
       "\n",
       "song_id                                   SOAAEJI12AB0188AB5  \\\n",
       "user_id                                                        \n",
       "00003a4459f33b92906be11abe0e93efc423c0ff                 NaN   \n",
       "00005c6177188f12fb5e2e82cdbd93e8a3f35e64                 NaN   \n",
       "00030033e3a2f904a48ec1dd53019c9969b6ef1f                 NaN   \n",
       "0007235c769e610e3d339a17818a5708e41008d9                 NaN   \n",
       "0007c0e74728ca9ef0fe4eb7f75732e8026a278b                 NaN   \n",
       "...                                                      ...   \n",
       "fffce9c1537fbc350ea68823d956eaa8f5236dbe                 NaN   \n",
       "fffd6a2bdef646ce9898b628d5dd56c43df69a9d                 NaN   \n",
       "fffd9635b33f412de8ed02e44e6564e3644cf3c6                 NaN   \n",
       "fffe6d1d8500f1c1f31bd63abce35c0f975a86bf                 NaN   \n",
       "fffea3d509760c984e7d40789804c0e5e289cc86                 NaN   \n",
       "\n",
       "song_id                                   SOAAFAC12A67ADF7EB  \\\n",
       "user_id                                                        \n",
       "00003a4459f33b92906be11abe0e93efc423c0ff                 NaN   \n",
       "00005c6177188f12fb5e2e82cdbd93e8a3f35e64                 NaN   \n",
       "00030033e3a2f904a48ec1dd53019c9969b6ef1f                 NaN   \n",
       "0007235c769e610e3d339a17818a5708e41008d9                 NaN   \n",
       "0007c0e74728ca9ef0fe4eb7f75732e8026a278b                 NaN   \n",
       "...                                                      ...   \n",
       "fffce9c1537fbc350ea68823d956eaa8f5236dbe                 NaN   \n",
       "fffd6a2bdef646ce9898b628d5dd56c43df69a9d                 NaN   \n",
       "fffd9635b33f412de8ed02e44e6564e3644cf3c6                 NaN   \n",
       "fffe6d1d8500f1c1f31bd63abce35c0f975a86bf                 NaN   \n",
       "fffea3d509760c984e7d40789804c0e5e289cc86                 NaN   \n",
       "\n",
       "song_id                                   SOAAFYH12A8C13717A  \\\n",
       "user_id                                                        \n",
       "00003a4459f33b92906be11abe0e93efc423c0ff                 NaN   \n",
       "00005c6177188f12fb5e2e82cdbd93e8a3f35e64                 NaN   \n",
       "00030033e3a2f904a48ec1dd53019c9969b6ef1f                 NaN   \n",
       "0007235c769e610e3d339a17818a5708e41008d9                 NaN   \n",
       "0007c0e74728ca9ef0fe4eb7f75732e8026a278b                 NaN   \n",
       "...                                                      ...   \n",
       "fffce9c1537fbc350ea68823d956eaa8f5236dbe                 NaN   \n",
       "fffd6a2bdef646ce9898b628d5dd56c43df69a9d                 NaN   \n",
       "fffd9635b33f412de8ed02e44e6564e3644cf3c6                 NaN   \n",
       "fffe6d1d8500f1c1f31bd63abce35c0f975a86bf                 NaN   \n",
       "fffea3d509760c984e7d40789804c0e5e289cc86                 NaN   \n",
       "\n",
       "song_id                                   SOAAJMQ12A6D4F7D17  \\\n",
       "user_id                                                        \n",
       "00003a4459f33b92906be11abe0e93efc423c0ff                 NaN   \n",
       "00005c6177188f12fb5e2e82cdbd93e8a3f35e64                 NaN   \n",
       "00030033e3a2f904a48ec1dd53019c9969b6ef1f                 NaN   \n",
       "0007235c769e610e3d339a17818a5708e41008d9                 NaN   \n",
       "0007c0e74728ca9ef0fe4eb7f75732e8026a278b                 NaN   \n",
       "...                                                      ...   \n",
       "fffce9c1537fbc350ea68823d956eaa8f5236dbe                 NaN   \n",
       "fffd6a2bdef646ce9898b628d5dd56c43df69a9d                 NaN   \n",
       "fffd9635b33f412de8ed02e44e6564e3644cf3c6                 NaN   \n",
       "fffe6d1d8500f1c1f31bd63abce35c0f975a86bf                 NaN   \n",
       "fffea3d509760c984e7d40789804c0e5e289cc86                 NaN   \n",
       "\n",
       "song_id                                   SOAAKPM12A58A77210  \\\n",
       "user_id                                                        \n",
       "00003a4459f33b92906be11abe0e93efc423c0ff                 NaN   \n",
       "00005c6177188f12fb5e2e82cdbd93e8a3f35e64                 NaN   \n",
       "00030033e3a2f904a48ec1dd53019c9969b6ef1f                 NaN   \n",
       "0007235c769e610e3d339a17818a5708e41008d9                 NaN   \n",
       "0007c0e74728ca9ef0fe4eb7f75732e8026a278b                 NaN   \n",
       "...                                                      ...   \n",
       "fffce9c1537fbc350ea68823d956eaa8f5236dbe                 NaN   \n",
       "fffd6a2bdef646ce9898b628d5dd56c43df69a9d                 NaN   \n",
       "fffd9635b33f412de8ed02e44e6564e3644cf3c6                 NaN   \n",
       "fffe6d1d8500f1c1f31bd63abce35c0f975a86bf                 NaN   \n",
       "fffea3d509760c984e7d40789804c0e5e289cc86                 NaN   \n",
       "\n",
       "song_id                                   SOAALWN12A6D4F7FDA  \\\n",
       "user_id                                                        \n",
       "00003a4459f33b92906be11abe0e93efc423c0ff                 NaN   \n",
       "00005c6177188f12fb5e2e82cdbd93e8a3f35e64                 NaN   \n",
       "00030033e3a2f904a48ec1dd53019c9969b6ef1f                 NaN   \n",
       "0007235c769e610e3d339a17818a5708e41008d9                 NaN   \n",
       "0007c0e74728ca9ef0fe4eb7f75732e8026a278b                 NaN   \n",
       "...                                                      ...   \n",
       "fffce9c1537fbc350ea68823d956eaa8f5236dbe                 NaN   \n",
       "fffd6a2bdef646ce9898b628d5dd56c43df69a9d                 NaN   \n",
       "fffd9635b33f412de8ed02e44e6564e3644cf3c6                 NaN   \n",
       "fffe6d1d8500f1c1f31bd63abce35c0f975a86bf                 NaN   \n",
       "fffea3d509760c984e7d40789804c0e5e289cc86                 NaN   \n",
       "\n",
       "song_id                                   SOAAMOW12AB018149B  ...  \\\n",
       "user_id                                                       ...   \n",
       "00003a4459f33b92906be11abe0e93efc423c0ff                 NaN  ...   \n",
       "00005c6177188f12fb5e2e82cdbd93e8a3f35e64                 NaN  ...   \n",
       "00030033e3a2f904a48ec1dd53019c9969b6ef1f                 NaN  ...   \n",
       "0007235c769e610e3d339a17818a5708e41008d9                 NaN  ...   \n",
       "0007c0e74728ca9ef0fe4eb7f75732e8026a278b                 NaN  ...   \n",
       "...                                                      ...  ...   \n",
       "fffce9c1537fbc350ea68823d956eaa8f5236dbe                 NaN  ...   \n",
       "fffd6a2bdef646ce9898b628d5dd56c43df69a9d                 NaN  ...   \n",
       "fffd9635b33f412de8ed02e44e6564e3644cf3c6                 NaN  ...   \n",
       "fffe6d1d8500f1c1f31bd63abce35c0f975a86bf                 NaN  ...   \n",
       "fffea3d509760c984e7d40789804c0e5e289cc86                 NaN  ...   \n",
       "\n",
       "song_id                                   SOZZKPR12A6D4F8147  \\\n",
       "user_id                                                        \n",
       "00003a4459f33b92906be11abe0e93efc423c0ff                 NaN   \n",
       "00005c6177188f12fb5e2e82cdbd93e8a3f35e64                 NaN   \n",
       "00030033e3a2f904a48ec1dd53019c9969b6ef1f                 NaN   \n",
       "0007235c769e610e3d339a17818a5708e41008d9                 NaN   \n",
       "0007c0e74728ca9ef0fe4eb7f75732e8026a278b                 NaN   \n",
       "...                                                      ...   \n",
       "fffce9c1537fbc350ea68823d956eaa8f5236dbe                 NaN   \n",
       "fffd6a2bdef646ce9898b628d5dd56c43df69a9d                 NaN   \n",
       "fffd9635b33f412de8ed02e44e6564e3644cf3c6                 NaN   \n",
       "fffe6d1d8500f1c1f31bd63abce35c0f975a86bf                 NaN   \n",
       "fffea3d509760c984e7d40789804c0e5e289cc86                 NaN   \n",
       "\n",
       "song_id                                   SOZZLTY12A67AE0AD0  \\\n",
       "user_id                                                        \n",
       "00003a4459f33b92906be11abe0e93efc423c0ff                 NaN   \n",
       "00005c6177188f12fb5e2e82cdbd93e8a3f35e64                 NaN   \n",
       "00030033e3a2f904a48ec1dd53019c9969b6ef1f                 NaN   \n",
       "0007235c769e610e3d339a17818a5708e41008d9                 NaN   \n",
       "0007c0e74728ca9ef0fe4eb7f75732e8026a278b                 NaN   \n",
       "...                                                      ...   \n",
       "fffce9c1537fbc350ea68823d956eaa8f5236dbe                 NaN   \n",
       "fffd6a2bdef646ce9898b628d5dd56c43df69a9d                 NaN   \n",
       "fffd9635b33f412de8ed02e44e6564e3644cf3c6                 NaN   \n",
       "fffe6d1d8500f1c1f31bd63abce35c0f975a86bf                 NaN   \n",
       "fffea3d509760c984e7d40789804c0e5e289cc86                 NaN   \n",
       "\n",
       "song_id                                   SOZZLZN12A8AE48D6D  \\\n",
       "user_id                                                        \n",
       "00003a4459f33b92906be11abe0e93efc423c0ff                 NaN   \n",
       "00005c6177188f12fb5e2e82cdbd93e8a3f35e64                 NaN   \n",
       "00030033e3a2f904a48ec1dd53019c9969b6ef1f                 NaN   \n",
       "0007235c769e610e3d339a17818a5708e41008d9                 NaN   \n",
       "0007c0e74728ca9ef0fe4eb7f75732e8026a278b                 NaN   \n",
       "...                                                      ...   \n",
       "fffce9c1537fbc350ea68823d956eaa8f5236dbe                 NaN   \n",
       "fffd6a2bdef646ce9898b628d5dd56c43df69a9d                 NaN   \n",
       "fffd9635b33f412de8ed02e44e6564e3644cf3c6                 NaN   \n",
       "fffe6d1d8500f1c1f31bd63abce35c0f975a86bf                 NaN   \n",
       "fffea3d509760c984e7d40789804c0e5e289cc86                 NaN   \n",
       "\n",
       "song_id                                   SOZZRHE12A6702165F  \\\n",
       "user_id                                                        \n",
       "00003a4459f33b92906be11abe0e93efc423c0ff                 NaN   \n",
       "00005c6177188f12fb5e2e82cdbd93e8a3f35e64                 NaN   \n",
       "00030033e3a2f904a48ec1dd53019c9969b6ef1f                 NaN   \n",
       "0007235c769e610e3d339a17818a5708e41008d9                 NaN   \n",
       "0007c0e74728ca9ef0fe4eb7f75732e8026a278b                 NaN   \n",
       "...                                                      ...   \n",
       "fffce9c1537fbc350ea68823d956eaa8f5236dbe                 NaN   \n",
       "fffd6a2bdef646ce9898b628d5dd56c43df69a9d                 NaN   \n",
       "fffd9635b33f412de8ed02e44e6564e3644cf3c6                 NaN   \n",
       "fffe6d1d8500f1c1f31bd63abce35c0f975a86bf                 NaN   \n",
       "fffea3d509760c984e7d40789804c0e5e289cc86                 NaN   \n",
       "\n",
       "song_id                                   SOZZTCU12AB0182C58  \\\n",
       "user_id                                                        \n",
       "00003a4459f33b92906be11abe0e93efc423c0ff                 NaN   \n",
       "00005c6177188f12fb5e2e82cdbd93e8a3f35e64                 NaN   \n",
       "00030033e3a2f904a48ec1dd53019c9969b6ef1f                 NaN   \n",
       "0007235c769e610e3d339a17818a5708e41008d9                 NaN   \n",
       "0007c0e74728ca9ef0fe4eb7f75732e8026a278b                 NaN   \n",
       "...                                                      ...   \n",
       "fffce9c1537fbc350ea68823d956eaa8f5236dbe                 NaN   \n",
       "fffd6a2bdef646ce9898b628d5dd56c43df69a9d                 NaN   \n",
       "fffd9635b33f412de8ed02e44e6564e3644cf3c6                 NaN   \n",
       "fffe6d1d8500f1c1f31bd63abce35c0f975a86bf                 NaN   \n",
       "fffea3d509760c984e7d40789804c0e5e289cc86                 NaN   \n",
       "\n",
       "song_id                                   SOZZTNF12A8C139916  \\\n",
       "user_id                                                        \n",
       "00003a4459f33b92906be11abe0e93efc423c0ff                 NaN   \n",
       "00005c6177188f12fb5e2e82cdbd93e8a3f35e64                 NaN   \n",
       "00030033e3a2f904a48ec1dd53019c9969b6ef1f                 NaN   \n",
       "0007235c769e610e3d339a17818a5708e41008d9                 NaN   \n",
       "0007c0e74728ca9ef0fe4eb7f75732e8026a278b                 NaN   \n",
       "...                                                      ...   \n",
       "fffce9c1537fbc350ea68823d956eaa8f5236dbe                 NaN   \n",
       "fffd6a2bdef646ce9898b628d5dd56c43df69a9d                 NaN   \n",
       "fffd9635b33f412de8ed02e44e6564e3644cf3c6                 NaN   \n",
       "fffe6d1d8500f1c1f31bd63abce35c0f975a86bf                 NaN   \n",
       "fffea3d509760c984e7d40789804c0e5e289cc86                 NaN   \n",
       "\n",
       "song_id                                   SOZZVWB12AB0189C30  \\\n",
       "user_id                                                        \n",
       "00003a4459f33b92906be11abe0e93efc423c0ff                 NaN   \n",
       "00005c6177188f12fb5e2e82cdbd93e8a3f35e64                 NaN   \n",
       "00030033e3a2f904a48ec1dd53019c9969b6ef1f                 NaN   \n",
       "0007235c769e610e3d339a17818a5708e41008d9                 NaN   \n",
       "0007c0e74728ca9ef0fe4eb7f75732e8026a278b                 NaN   \n",
       "...                                                      ...   \n",
       "fffce9c1537fbc350ea68823d956eaa8f5236dbe                 NaN   \n",
       "fffd6a2bdef646ce9898b628d5dd56c43df69a9d                 NaN   \n",
       "fffd9635b33f412de8ed02e44e6564e3644cf3c6                 NaN   \n",
       "fffe6d1d8500f1c1f31bd63abce35c0f975a86bf                 NaN   \n",
       "fffea3d509760c984e7d40789804c0e5e289cc86                 NaN   \n",
       "\n",
       "song_id                                   SOZZWZV12A67AE140F  \\\n",
       "user_id                                                        \n",
       "00003a4459f33b92906be11abe0e93efc423c0ff                 NaN   \n",
       "00005c6177188f12fb5e2e82cdbd93e8a3f35e64                 NaN   \n",
       "00030033e3a2f904a48ec1dd53019c9969b6ef1f                 NaN   \n",
       "0007235c769e610e3d339a17818a5708e41008d9                 NaN   \n",
       "0007c0e74728ca9ef0fe4eb7f75732e8026a278b                 NaN   \n",
       "...                                                      ...   \n",
       "fffce9c1537fbc350ea68823d956eaa8f5236dbe                 NaN   \n",
       "fffd6a2bdef646ce9898b628d5dd56c43df69a9d                 NaN   \n",
       "fffd9635b33f412de8ed02e44e6564e3644cf3c6                 NaN   \n",
       "fffe6d1d8500f1c1f31bd63abce35c0f975a86bf                 NaN   \n",
       "fffea3d509760c984e7d40789804c0e5e289cc86                 NaN   \n",
       "\n",
       "song_id                                   SOZZYAO12A6701FF36  \\\n",
       "user_id                                                        \n",
       "00003a4459f33b92906be11abe0e93efc423c0ff                 NaN   \n",
       "00005c6177188f12fb5e2e82cdbd93e8a3f35e64                 NaN   \n",
       "00030033e3a2f904a48ec1dd53019c9969b6ef1f                 NaN   \n",
       "0007235c769e610e3d339a17818a5708e41008d9                 NaN   \n",
       "0007c0e74728ca9ef0fe4eb7f75732e8026a278b                 NaN   \n",
       "...                                                      ...   \n",
       "fffce9c1537fbc350ea68823d956eaa8f5236dbe                 NaN   \n",
       "fffd6a2bdef646ce9898b628d5dd56c43df69a9d                 NaN   \n",
       "fffd9635b33f412de8ed02e44e6564e3644cf3c6                 NaN   \n",
       "fffe6d1d8500f1c1f31bd63abce35c0f975a86bf                 NaN   \n",
       "fffea3d509760c984e7d40789804c0e5e289cc86                 NaN   \n",
       "\n",
       "song_id                                   SOZZZPV12A8C1444B5  \n",
       "user_id                                                       \n",
       "00003a4459f33b92906be11abe0e93efc423c0ff                 NaN  \n",
       "00005c6177188f12fb5e2e82cdbd93e8a3f35e64                 NaN  \n",
       "00030033e3a2f904a48ec1dd53019c9969b6ef1f                 NaN  \n",
       "0007235c769e610e3d339a17818a5708e41008d9                 NaN  \n",
       "0007c0e74728ca9ef0fe4eb7f75732e8026a278b                 NaN  \n",
       "...                                                      ...  \n",
       "fffce9c1537fbc350ea68823d956eaa8f5236dbe                 NaN  \n",
       "fffd6a2bdef646ce9898b628d5dd56c43df69a9d                 NaN  \n",
       "fffd9635b33f412de8ed02e44e6564e3644cf3c6                 NaN  \n",
       "fffe6d1d8500f1c1f31bd63abce35c0f975a86bf                 NaN  \n",
       "fffea3d509760c984e7d40789804c0e5e289cc86                 NaN  \n",
       "\n",
       "[76353 rows x 10000 columns]"
      ]
     },
     "execution_count": 39,
     "metadata": {},
     "output_type": "execute_result"
    }
   ],
   "source": [
    "interactions_matrix = df.pivot(index='user_id', columns='song_id', values='play_count')\n",
    "interactions_matrix\n"
   ]
  },
  {
   "cell_type": "markdown",
   "metadata": {
    "id": "8Wf6lGGR5MIn"
   },
   "source": [
    "- This is a very **sparse matrix** with 76353 rows and 10000 columns. \n",
    "- Since the matrix is extremely sparse, there is not enough ram to fill all the NaN by 0s using Google colab. Therefore, I picked top 5000 most played songs and top 5000 most interacted users with these songs to analyze.\n",
    "- I can extend it to more number of songs later when there is better computational power. \n",
    "\n"
   ]
  },
  {
   "cell_type": "markdown",
   "metadata": {
    "id": "04k3wzWYmvAA"
   },
   "source": [
    "**Now find the top  5000 most played songs and the top 5000 most interacted users with these songs:**"
   ]
  },
  {
   "cell_type": "code",
   "execution_count": 40,
   "metadata": {
    "executionInfo": {
     "elapsed": 931,
     "status": "ok",
     "timestamp": 1628784259928,
     "user": {
      "displayName": "xiaoyue luo",
      "photoUrl": "",
      "userId": "08961633824417457060"
     },
     "user_tz": 420
    },
    "id": "9RejO0D_mxfk"
   },
   "outputs": [],
   "source": [
    "\n",
    "top_5000_songs=pd.DataFrame({'song_id':df['song_id'].value_counts()[:5000].index})\n",
    "top_5000_users=pd.DataFrame({'user_id':df[df['song_id'].isin(top_5000_songs['song_id'])]['user_id'].value_counts()[:5000].index})\n",
    "#top_1000_users = pd.DataFrame({'user_id':reviews[reviews['business_id'].isin(top_1000_businesses['business_id'])]['user_id'].value_counts()[:1000].index})"
   ]
  },
  {
   "cell_type": "code",
   "execution_count": 41,
   "metadata": {
    "colab": {
     "base_uri": "https://localhost:8080/",
     "height": 0
    },
    "executionInfo": {
     "elapsed": 20,
     "status": "ok",
     "timestamp": 1628784259929,
     "user": {
      "displayName": "xiaoyue luo",
      "photoUrl": "",
      "userId": "08961633824417457060"
     },
     "user_tz": 420
    },
    "id": "-lRKSXjYn7UL",
    "outputId": "fd247530-afd0-405e-ccb8-8277dffc3060"
   },
   "outputs": [
    {
     "name": "stdout",
     "output_type": "stream",
     "text": [
      "<class 'pandas.core.frame.DataFrame'>\n",
      "RangeIndex: 5000 entries, 0 to 4999\n",
      "Data columns (total 1 columns):\n",
      " #   Column   Non-Null Count  Dtype \n",
      "---  ------   --------------  ----- \n",
      " 0   song_id  5000 non-null   object\n",
      "dtypes: object(1)\n",
      "memory usage: 39.2+ KB\n"
     ]
    }
   ],
   "source": [
    "top_5000_songs.info()"
   ]
  },
  {
   "cell_type": "code",
   "execution_count": 42,
   "metadata": {
    "colab": {
     "base_uri": "https://localhost:8080/",
     "height": 0
    },
    "executionInfo": {
     "elapsed": 18,
     "status": "ok",
     "timestamp": 1628784259930,
     "user": {
      "displayName": "xiaoyue luo",
      "photoUrl": "",
      "userId": "08961633824417457060"
     },
     "user_tz": 420
    },
    "id": "s72pkXJVhpXD",
    "outputId": "3a8f3a47-44b8-481e-fe97-f1a7912de778"
   },
   "outputs": [
    {
     "name": "stdout",
     "output_type": "stream",
     "text": [
      "<class 'pandas.core.frame.DataFrame'>\n",
      "RangeIndex: 5000 entries, 0 to 4999\n",
      "Data columns (total 1 columns):\n",
      " #   Column   Non-Null Count  Dtype \n",
      "---  ------   --------------  ----- \n",
      " 0   user_id  5000 non-null   object\n",
      "dtypes: object(1)\n",
      "memory usage: 39.2+ KB\n"
     ]
    }
   ],
   "source": [
    "top_5000_users.info()"
   ]
  },
  {
   "cell_type": "markdown",
   "metadata": {
    "id": "Zsdsrz0gisqU"
   },
   "source": [
    "Now build a subset of the orginial dataset using the top 5000 songs and 5000 users."
   ]
  },
  {
   "cell_type": "code",
   "execution_count": 43,
   "metadata": {
    "colab": {
     "base_uri": "https://localhost:8080/",
     "height": 0
    },
    "executionInfo": {
     "elapsed": 3779,
     "status": "ok",
     "timestamp": 1628784263703,
     "user": {
      "displayName": "xiaoyue luo",
      "photoUrl": "",
      "userId": "08961633824417457060"
     },
     "user_tz": 420
    },
    "id": "xlDtSpfVir6f",
    "outputId": "5f4ecd4b-5d80-45ca-d5f0-bfa101e02815"
   },
   "outputs": [
    {
     "data": {
      "text/plain": [
       "(1547961, 8)"
      ]
     },
     "execution_count": 43,
     "metadata": {},
     "output_type": "execute_result"
    }
   ],
   "source": [
    "df_small=top_5000_songs.merge(df,how='inner',on='song_id')\n",
    "df_small.shape\n",
    "\n"
   ]
  },
  {
   "cell_type": "code",
   "execution_count": 44,
   "metadata": {
    "colab": {
     "base_uri": "https://localhost:8080/",
     "height": 0
    },
    "executionInfo": {
     "elapsed": 1722,
     "status": "ok",
     "timestamp": 1628784265406,
     "user": {
      "displayName": "xiaoyue luo",
      "photoUrl": "",
      "userId": "08961633824417457060"
     },
     "user_tz": 420
    },
    "id": "wVOEbuuojF8q",
    "outputId": "89676e78-3ba5-41d2-acd1-0509fe3007bb"
   },
   "outputs": [
    {
     "data": {
      "text/plain": [
       "(461612, 8)"
      ]
     },
     "execution_count": 44,
     "metadata": {},
     "output_type": "execute_result"
    }
   ],
   "source": [
    "df_small=top_5000_users.merge(df_small,how='inner',on='user_id')\n",
    "df_small.shape\n"
   ]
  },
  {
   "cell_type": "code",
   "execution_count": 45,
   "metadata": {
    "colab": {
     "base_uri": "https://localhost:8080/",
     "height": 203
    },
    "executionInfo": {
     "elapsed": 9,
     "status": "ok",
     "timestamp": 1628784265407,
     "user": {
      "displayName": "xiaoyue luo",
      "photoUrl": "",
      "userId": "08961633824417457060"
     },
     "user_tz": 420
    },
    "id": "1iDqEJkMgbZW",
    "outputId": "d6bdd8dc-12dd-4e1d-b546-f4c9d1b77867"
   },
   "outputs": [
    {
     "data": {
      "text/html": [
       "<div>\n",
       "<style scoped>\n",
       "    .dataframe tbody tr th:only-of-type {\n",
       "        vertical-align: middle;\n",
       "    }\n",
       "\n",
       "    .dataframe tbody tr th {\n",
       "        vertical-align: top;\n",
       "    }\n",
       "\n",
       "    .dataframe thead th {\n",
       "        text-align: right;\n",
       "    }\n",
       "</style>\n",
       "<table border=\"1\" class=\"dataframe\">\n",
       "  <thead>\n",
       "    <tr style=\"text-align: right;\">\n",
       "      <th></th>\n",
       "      <th>user_id</th>\n",
       "      <th>song_id</th>\n",
       "      <th>play_count</th>\n",
       "      <th>title</th>\n",
       "      <th>release</th>\n",
       "      <th>artist_name</th>\n",
       "      <th>year</th>\n",
       "      <th>decade</th>\n",
       "    </tr>\n",
       "  </thead>\n",
       "  <tbody>\n",
       "    <tr>\n",
       "      <th>0</th>\n",
       "      <td>fbee1c8ce1a346fa07d2ef648cec81117438b91f</td>\n",
       "      <td>SOSXLTC12AF72A7F54</td>\n",
       "      <td>1</td>\n",
       "      <td>Revelry</td>\n",
       "      <td>Only By The Night</td>\n",
       "      <td>Kings Of Leon</td>\n",
       "      <td>2008</td>\n",
       "      <td>2000s</td>\n",
       "    </tr>\n",
       "    <tr>\n",
       "      <th>1</th>\n",
       "      <td>fbee1c8ce1a346fa07d2ef648cec81117438b91f</td>\n",
       "      <td>SOWCKVR12A8C142411</td>\n",
       "      <td>4</td>\n",
       "      <td>Use Somebody</td>\n",
       "      <td>Use Somebody</td>\n",
       "      <td>Kings Of Leon</td>\n",
       "      <td>2008</td>\n",
       "      <td>2000s</td>\n",
       "    </tr>\n",
       "    <tr>\n",
       "      <th>2</th>\n",
       "      <td>fbee1c8ce1a346fa07d2ef648cec81117438b91f</td>\n",
       "      <td>SOKLRPJ12A8C13C3FE</td>\n",
       "      <td>2</td>\n",
       "      <td>The Scientist</td>\n",
       "      <td>The Scientist</td>\n",
       "      <td>Coldplay</td>\n",
       "      <td>2002</td>\n",
       "      <td>2000s</td>\n",
       "    </tr>\n",
       "    <tr>\n",
       "      <th>3</th>\n",
       "      <td>fbee1c8ce1a346fa07d2ef648cec81117438b91f</td>\n",
       "      <td>SOCVTLJ12A6310F0FD</td>\n",
       "      <td>7</td>\n",
       "      <td>Clocks</td>\n",
       "      <td>A Rush Of Blood To The Head</td>\n",
       "      <td>Coldplay</td>\n",
       "      <td>2002</td>\n",
       "      <td>2000s</td>\n",
       "    </tr>\n",
       "    <tr>\n",
       "      <th>4</th>\n",
       "      <td>fbee1c8ce1a346fa07d2ef648cec81117438b91f</td>\n",
       "      <td>SOSCIZP12AB0181D2F</td>\n",
       "      <td>1</td>\n",
       "      <td>Alejandro</td>\n",
       "      <td>The Fame Monster</td>\n",
       "      <td>Lady GaGa</td>\n",
       "      <td>2009</td>\n",
       "      <td>2000s</td>\n",
       "    </tr>\n",
       "  </tbody>\n",
       "</table>\n",
       "</div>"
      ],
      "text/plain": [
       "                                    user_id             song_id  play_count  \\\n",
       "0  fbee1c8ce1a346fa07d2ef648cec81117438b91f  SOSXLTC12AF72A7F54           1   \n",
       "1  fbee1c8ce1a346fa07d2ef648cec81117438b91f  SOWCKVR12A8C142411           4   \n",
       "2  fbee1c8ce1a346fa07d2ef648cec81117438b91f  SOKLRPJ12A8C13C3FE           2   \n",
       "3  fbee1c8ce1a346fa07d2ef648cec81117438b91f  SOCVTLJ12A6310F0FD           7   \n",
       "4  fbee1c8ce1a346fa07d2ef648cec81117438b91f  SOSCIZP12AB0181D2F           1   \n",
       "\n",
       "           title                      release    artist_name  year decade  \n",
       "0        Revelry            Only By The Night  Kings Of Leon  2008  2000s  \n",
       "1   Use Somebody                 Use Somebody  Kings Of Leon  2008  2000s  \n",
       "2  The Scientist                The Scientist       Coldplay  2002  2000s  \n",
       "3         Clocks  A Rush Of Blood To The Head       Coldplay  2002  2000s  \n",
       "4      Alejandro             The Fame Monster      Lady GaGa  2009  2000s  "
      ]
     },
     "execution_count": 45,
     "metadata": {},
     "output_type": "execute_result"
    }
   ],
   "source": [
    "df_small.head()"
   ]
  },
  {
   "cell_type": "markdown",
   "metadata": {
    "id": "XsRnpS2Jp2ee"
   },
   "source": [
    "Now we can build our sparse matrix:"
   ]
  },
  {
   "cell_type": "code",
   "execution_count": 46,
   "metadata": {
    "colab": {
     "base_uri": "https://localhost:8080/",
     "height": 0
    },
    "executionInfo": {
     "elapsed": 466,
     "status": "ok",
     "timestamp": 1628784265866,
     "user": {
      "displayName": "xiaoyue luo",
      "photoUrl": "",
      "userId": "08961633824417457060"
     },
     "user_tz": 420
    },
    "id": "FsNKgRuVinD0",
    "outputId": "b77706dd-2a0b-4e85-811e-99980efd4f5f"
   },
   "outputs": [
    {
     "data": {
      "text/plain": [
       "(5000, 5000)"
      ]
     },
     "execution_count": 46,
     "metadata": {},
     "output_type": "execute_result"
    }
   ],
   "source": [
    "interactions_matrix_small = df_small.pivot(index='user_id', columns='song_id', values='play_count')\n",
    "interactions_matrix_small.shape"
   ]
  },
  {
   "cell_type": "code",
   "execution_count": 47,
   "metadata": {
    "colab": {
     "base_uri": "https://localhost:8080/",
     "height": 467
    },
    "executionInfo": {
     "elapsed": 525,
     "status": "ok",
     "timestamp": 1628784266388,
     "user": {
      "displayName": "xiaoyue luo",
      "photoUrl": "",
      "userId": "08961633824417457060"
     },
     "user_tz": 420
    },
    "id": "-_b7AM81ku1P",
    "outputId": "48d7746a-fa05-46ea-dbdf-244b7be2f8ed"
   },
   "outputs": [
    {
     "data": {
      "text/html": [
       "<div>\n",
       "<style scoped>\n",
       "    .dataframe tbody tr th:only-of-type {\n",
       "        vertical-align: middle;\n",
       "    }\n",
       "\n",
       "    .dataframe tbody tr th {\n",
       "        vertical-align: top;\n",
       "    }\n",
       "\n",
       "    .dataframe thead th {\n",
       "        text-align: right;\n",
       "    }\n",
       "</style>\n",
       "<table border=\"1\" class=\"dataframe\">\n",
       "  <thead>\n",
       "    <tr style=\"text-align: right;\">\n",
       "      <th>song_id</th>\n",
       "      <th>SOAACPJ12A81C21360</th>\n",
       "      <th>SOAAFAC12A67ADF7EB</th>\n",
       "      <th>SOAAFYH12A8C13717A</th>\n",
       "      <th>SOAAROC12A6D4FA420</th>\n",
       "      <th>SOAATLI12A8C13E319</th>\n",
       "      <th>SOAAUKC12AB017F868</th>\n",
       "      <th>SOAAVUV12AB0186646</th>\n",
       "      <th>SOAAWEE12A6D4FBEC8</th>\n",
       "      <th>SOABHYV12A6D4F6D0F</th>\n",
       "      <th>SOABJBU12A8C13F63F</th>\n",
       "      <th>...</th>\n",
       "      <th>SOZYBGN12A8C13A93C</th>\n",
       "      <th>SOZYDZR12A8C13F4F0</th>\n",
       "      <th>SOZYSDT12A8C13BFD7</th>\n",
       "      <th>SOZYUGZ12A8AE472AC</th>\n",
       "      <th>SOZZHQT12AB018B714</th>\n",
       "      <th>SOZZIOH12A67ADE300</th>\n",
       "      <th>SOZZLZN12A8AE48D6D</th>\n",
       "      <th>SOZZTCU12AB0182C58</th>\n",
       "      <th>SOZZTNF12A8C139916</th>\n",
       "      <th>SOZZVWB12AB0189C30</th>\n",
       "    </tr>\n",
       "    <tr>\n",
       "      <th>user_id</th>\n",
       "      <th></th>\n",
       "      <th></th>\n",
       "      <th></th>\n",
       "      <th></th>\n",
       "      <th></th>\n",
       "      <th></th>\n",
       "      <th></th>\n",
       "      <th></th>\n",
       "      <th></th>\n",
       "      <th></th>\n",
       "      <th></th>\n",
       "      <th></th>\n",
       "      <th></th>\n",
       "      <th></th>\n",
       "      <th></th>\n",
       "      <th></th>\n",
       "      <th></th>\n",
       "      <th></th>\n",
       "      <th></th>\n",
       "      <th></th>\n",
       "      <th></th>\n",
       "    </tr>\n",
       "  </thead>\n",
       "  <tbody>\n",
       "    <tr>\n",
       "      <th>000ebc858861aca26bac9b49f650ed424cf882fc</th>\n",
       "      <td>NaN</td>\n",
       "      <td>NaN</td>\n",
       "      <td>NaN</td>\n",
       "      <td>NaN</td>\n",
       "      <td>NaN</td>\n",
       "      <td>NaN</td>\n",
       "      <td>NaN</td>\n",
       "      <td>NaN</td>\n",
       "      <td>NaN</td>\n",
       "      <td>NaN</td>\n",
       "      <td>...</td>\n",
       "      <td>NaN</td>\n",
       "      <td>NaN</td>\n",
       "      <td>NaN</td>\n",
       "      <td>NaN</td>\n",
       "      <td>NaN</td>\n",
       "      <td>NaN</td>\n",
       "      <td>NaN</td>\n",
       "      <td>NaN</td>\n",
       "      <td>NaN</td>\n",
       "      <td>NaN</td>\n",
       "    </tr>\n",
       "    <tr>\n",
       "      <th>00185e316f07f0f00c325ca034be59c15b362401</th>\n",
       "      <td>NaN</td>\n",
       "      <td>NaN</td>\n",
       "      <td>NaN</td>\n",
       "      <td>NaN</td>\n",
       "      <td>NaN</td>\n",
       "      <td>NaN</td>\n",
       "      <td>NaN</td>\n",
       "      <td>NaN</td>\n",
       "      <td>NaN</td>\n",
       "      <td>NaN</td>\n",
       "      <td>...</td>\n",
       "      <td>NaN</td>\n",
       "      <td>NaN</td>\n",
       "      <td>NaN</td>\n",
       "      <td>NaN</td>\n",
       "      <td>NaN</td>\n",
       "      <td>NaN</td>\n",
       "      <td>NaN</td>\n",
       "      <td>NaN</td>\n",
       "      <td>NaN</td>\n",
       "      <td>NaN</td>\n",
       "    </tr>\n",
       "    <tr>\n",
       "      <th>0028292aa536122c1f86fd48a39bd83fe582d27f</th>\n",
       "      <td>NaN</td>\n",
       "      <td>NaN</td>\n",
       "      <td>NaN</td>\n",
       "      <td>NaN</td>\n",
       "      <td>NaN</td>\n",
       "      <td>NaN</td>\n",
       "      <td>NaN</td>\n",
       "      <td>NaN</td>\n",
       "      <td>NaN</td>\n",
       "      <td>NaN</td>\n",
       "      <td>...</td>\n",
       "      <td>NaN</td>\n",
       "      <td>NaN</td>\n",
       "      <td>NaN</td>\n",
       "      <td>NaN</td>\n",
       "      <td>NaN</td>\n",
       "      <td>NaN</td>\n",
       "      <td>NaN</td>\n",
       "      <td>NaN</td>\n",
       "      <td>NaN</td>\n",
       "      <td>NaN</td>\n",
       "    </tr>\n",
       "    <tr>\n",
       "      <th>0031572620fa7f18487d3ea22935eb28410ecc4c</th>\n",
       "      <td>NaN</td>\n",
       "      <td>NaN</td>\n",
       "      <td>NaN</td>\n",
       "      <td>NaN</td>\n",
       "      <td>NaN</td>\n",
       "      <td>NaN</td>\n",
       "      <td>NaN</td>\n",
       "      <td>NaN</td>\n",
       "      <td>NaN</td>\n",
       "      <td>NaN</td>\n",
       "      <td>...</td>\n",
       "      <td>NaN</td>\n",
       "      <td>NaN</td>\n",
       "      <td>NaN</td>\n",
       "      <td>NaN</td>\n",
       "      <td>NaN</td>\n",
       "      <td>NaN</td>\n",
       "      <td>NaN</td>\n",
       "      <td>NaN</td>\n",
       "      <td>NaN</td>\n",
       "      <td>NaN</td>\n",
       "    </tr>\n",
       "    <tr>\n",
       "      <th>003d0f3aac94fd261bb74c0124a90750579972d4</th>\n",
       "      <td>NaN</td>\n",
       "      <td>NaN</td>\n",
       "      <td>5.0</td>\n",
       "      <td>NaN</td>\n",
       "      <td>NaN</td>\n",
       "      <td>NaN</td>\n",
       "      <td>NaN</td>\n",
       "      <td>NaN</td>\n",
       "      <td>NaN</td>\n",
       "      <td>NaN</td>\n",
       "      <td>...</td>\n",
       "      <td>NaN</td>\n",
       "      <td>NaN</td>\n",
       "      <td>NaN</td>\n",
       "      <td>NaN</td>\n",
       "      <td>NaN</td>\n",
       "      <td>NaN</td>\n",
       "      <td>NaN</td>\n",
       "      <td>NaN</td>\n",
       "      <td>NaN</td>\n",
       "      <td>NaN</td>\n",
       "    </tr>\n",
       "    <tr>\n",
       "      <th>...</th>\n",
       "      <td>...</td>\n",
       "      <td>...</td>\n",
       "      <td>...</td>\n",
       "      <td>...</td>\n",
       "      <td>...</td>\n",
       "      <td>...</td>\n",
       "      <td>...</td>\n",
       "      <td>...</td>\n",
       "      <td>...</td>\n",
       "      <td>...</td>\n",
       "      <td>...</td>\n",
       "      <td>...</td>\n",
       "      <td>...</td>\n",
       "      <td>...</td>\n",
       "      <td>...</td>\n",
       "      <td>...</td>\n",
       "      <td>...</td>\n",
       "      <td>...</td>\n",
       "      <td>...</td>\n",
       "      <td>...</td>\n",
       "      <td>...</td>\n",
       "    </tr>\n",
       "    <tr>\n",
       "      <th>ffc564b85d81f0ea427cee3eea2415cc2fc5c4be</th>\n",
       "      <td>NaN</td>\n",
       "      <td>NaN</td>\n",
       "      <td>NaN</td>\n",
       "      <td>NaN</td>\n",
       "      <td>NaN</td>\n",
       "      <td>NaN</td>\n",
       "      <td>NaN</td>\n",
       "      <td>NaN</td>\n",
       "      <td>NaN</td>\n",
       "      <td>NaN</td>\n",
       "      <td>...</td>\n",
       "      <td>NaN</td>\n",
       "      <td>NaN</td>\n",
       "      <td>NaN</td>\n",
       "      <td>NaN</td>\n",
       "      <td>NaN</td>\n",
       "      <td>NaN</td>\n",
       "      <td>NaN</td>\n",
       "      <td>NaN</td>\n",
       "      <td>NaN</td>\n",
       "      <td>NaN</td>\n",
       "    </tr>\n",
       "    <tr>\n",
       "      <th>ffd458f903d49854685cf4540245c1d297e8bafa</th>\n",
       "      <td>NaN</td>\n",
       "      <td>1.0</td>\n",
       "      <td>NaN</td>\n",
       "      <td>NaN</td>\n",
       "      <td>NaN</td>\n",
       "      <td>NaN</td>\n",
       "      <td>NaN</td>\n",
       "      <td>NaN</td>\n",
       "      <td>NaN</td>\n",
       "      <td>NaN</td>\n",
       "      <td>...</td>\n",
       "      <td>NaN</td>\n",
       "      <td>NaN</td>\n",
       "      <td>NaN</td>\n",
       "      <td>NaN</td>\n",
       "      <td>NaN</td>\n",
       "      <td>NaN</td>\n",
       "      <td>NaN</td>\n",
       "      <td>NaN</td>\n",
       "      <td>NaN</td>\n",
       "      <td>NaN</td>\n",
       "    </tr>\n",
       "    <tr>\n",
       "      <th>ffdaab327f2fc6b9fa01a4e3e7f41fdd0e468046</th>\n",
       "      <td>NaN</td>\n",
       "      <td>NaN</td>\n",
       "      <td>NaN</td>\n",
       "      <td>NaN</td>\n",
       "      <td>NaN</td>\n",
       "      <td>NaN</td>\n",
       "      <td>NaN</td>\n",
       "      <td>NaN</td>\n",
       "      <td>NaN</td>\n",
       "      <td>NaN</td>\n",
       "      <td>...</td>\n",
       "      <td>NaN</td>\n",
       "      <td>NaN</td>\n",
       "      <td>NaN</td>\n",
       "      <td>NaN</td>\n",
       "      <td>NaN</td>\n",
       "      <td>NaN</td>\n",
       "      <td>NaN</td>\n",
       "      <td>NaN</td>\n",
       "      <td>NaN</td>\n",
       "      <td>NaN</td>\n",
       "    </tr>\n",
       "    <tr>\n",
       "      <th>fff03efd1550136063389fa71125194614e1c68f</th>\n",
       "      <td>NaN</td>\n",
       "      <td>NaN</td>\n",
       "      <td>NaN</td>\n",
       "      <td>NaN</td>\n",
       "      <td>NaN</td>\n",
       "      <td>NaN</td>\n",
       "      <td>NaN</td>\n",
       "      <td>NaN</td>\n",
       "      <td>4.0</td>\n",
       "      <td>NaN</td>\n",
       "      <td>...</td>\n",
       "      <td>NaN</td>\n",
       "      <td>NaN</td>\n",
       "      <td>NaN</td>\n",
       "      <td>NaN</td>\n",
       "      <td>NaN</td>\n",
       "      <td>NaN</td>\n",
       "      <td>NaN</td>\n",
       "      <td>NaN</td>\n",
       "      <td>NaN</td>\n",
       "      <td>NaN</td>\n",
       "    </tr>\n",
       "    <tr>\n",
       "      <th>fff6c30c773e6ffafcac213c9afd9666afaf6d63</th>\n",
       "      <td>NaN</td>\n",
       "      <td>NaN</td>\n",
       "      <td>NaN</td>\n",
       "      <td>NaN</td>\n",
       "      <td>NaN</td>\n",
       "      <td>NaN</td>\n",
       "      <td>NaN</td>\n",
       "      <td>NaN</td>\n",
       "      <td>NaN</td>\n",
       "      <td>NaN</td>\n",
       "      <td>...</td>\n",
       "      <td>NaN</td>\n",
       "      <td>NaN</td>\n",
       "      <td>NaN</td>\n",
       "      <td>NaN</td>\n",
       "      <td>NaN</td>\n",
       "      <td>NaN</td>\n",
       "      <td>NaN</td>\n",
       "      <td>NaN</td>\n",
       "      <td>NaN</td>\n",
       "      <td>NaN</td>\n",
       "    </tr>\n",
       "  </tbody>\n",
       "</table>\n",
       "<p>5000 rows × 5000 columns</p>\n",
       "</div>"
      ],
      "text/plain": [
       "song_id                                   SOAACPJ12A81C21360  \\\n",
       "user_id                                                        \n",
       "000ebc858861aca26bac9b49f650ed424cf882fc                 NaN   \n",
       "00185e316f07f0f00c325ca034be59c15b362401                 NaN   \n",
       "0028292aa536122c1f86fd48a39bd83fe582d27f                 NaN   \n",
       "0031572620fa7f18487d3ea22935eb28410ecc4c                 NaN   \n",
       "003d0f3aac94fd261bb74c0124a90750579972d4                 NaN   \n",
       "...                                                      ...   \n",
       "ffc564b85d81f0ea427cee3eea2415cc2fc5c4be                 NaN   \n",
       "ffd458f903d49854685cf4540245c1d297e8bafa                 NaN   \n",
       "ffdaab327f2fc6b9fa01a4e3e7f41fdd0e468046                 NaN   \n",
       "fff03efd1550136063389fa71125194614e1c68f                 NaN   \n",
       "fff6c30c773e6ffafcac213c9afd9666afaf6d63                 NaN   \n",
       "\n",
       "song_id                                   SOAAFAC12A67ADF7EB  \\\n",
       "user_id                                                        \n",
       "000ebc858861aca26bac9b49f650ed424cf882fc                 NaN   \n",
       "00185e316f07f0f00c325ca034be59c15b362401                 NaN   \n",
       "0028292aa536122c1f86fd48a39bd83fe582d27f                 NaN   \n",
       "0031572620fa7f18487d3ea22935eb28410ecc4c                 NaN   \n",
       "003d0f3aac94fd261bb74c0124a90750579972d4                 NaN   \n",
       "...                                                      ...   \n",
       "ffc564b85d81f0ea427cee3eea2415cc2fc5c4be                 NaN   \n",
       "ffd458f903d49854685cf4540245c1d297e8bafa                 1.0   \n",
       "ffdaab327f2fc6b9fa01a4e3e7f41fdd0e468046                 NaN   \n",
       "fff03efd1550136063389fa71125194614e1c68f                 NaN   \n",
       "fff6c30c773e6ffafcac213c9afd9666afaf6d63                 NaN   \n",
       "\n",
       "song_id                                   SOAAFYH12A8C13717A  \\\n",
       "user_id                                                        \n",
       "000ebc858861aca26bac9b49f650ed424cf882fc                 NaN   \n",
       "00185e316f07f0f00c325ca034be59c15b362401                 NaN   \n",
       "0028292aa536122c1f86fd48a39bd83fe582d27f                 NaN   \n",
       "0031572620fa7f18487d3ea22935eb28410ecc4c                 NaN   \n",
       "003d0f3aac94fd261bb74c0124a90750579972d4                 5.0   \n",
       "...                                                      ...   \n",
       "ffc564b85d81f0ea427cee3eea2415cc2fc5c4be                 NaN   \n",
       "ffd458f903d49854685cf4540245c1d297e8bafa                 NaN   \n",
       "ffdaab327f2fc6b9fa01a4e3e7f41fdd0e468046                 NaN   \n",
       "fff03efd1550136063389fa71125194614e1c68f                 NaN   \n",
       "fff6c30c773e6ffafcac213c9afd9666afaf6d63                 NaN   \n",
       "\n",
       "song_id                                   SOAAROC12A6D4FA420  \\\n",
       "user_id                                                        \n",
       "000ebc858861aca26bac9b49f650ed424cf882fc                 NaN   \n",
       "00185e316f07f0f00c325ca034be59c15b362401                 NaN   \n",
       "0028292aa536122c1f86fd48a39bd83fe582d27f                 NaN   \n",
       "0031572620fa7f18487d3ea22935eb28410ecc4c                 NaN   \n",
       "003d0f3aac94fd261bb74c0124a90750579972d4                 NaN   \n",
       "...                                                      ...   \n",
       "ffc564b85d81f0ea427cee3eea2415cc2fc5c4be                 NaN   \n",
       "ffd458f903d49854685cf4540245c1d297e8bafa                 NaN   \n",
       "ffdaab327f2fc6b9fa01a4e3e7f41fdd0e468046                 NaN   \n",
       "fff03efd1550136063389fa71125194614e1c68f                 NaN   \n",
       "fff6c30c773e6ffafcac213c9afd9666afaf6d63                 NaN   \n",
       "\n",
       "song_id                                   SOAATLI12A8C13E319  \\\n",
       "user_id                                                        \n",
       "000ebc858861aca26bac9b49f650ed424cf882fc                 NaN   \n",
       "00185e316f07f0f00c325ca034be59c15b362401                 NaN   \n",
       "0028292aa536122c1f86fd48a39bd83fe582d27f                 NaN   \n",
       "0031572620fa7f18487d3ea22935eb28410ecc4c                 NaN   \n",
       "003d0f3aac94fd261bb74c0124a90750579972d4                 NaN   \n",
       "...                                                      ...   \n",
       "ffc564b85d81f0ea427cee3eea2415cc2fc5c4be                 NaN   \n",
       "ffd458f903d49854685cf4540245c1d297e8bafa                 NaN   \n",
       "ffdaab327f2fc6b9fa01a4e3e7f41fdd0e468046                 NaN   \n",
       "fff03efd1550136063389fa71125194614e1c68f                 NaN   \n",
       "fff6c30c773e6ffafcac213c9afd9666afaf6d63                 NaN   \n",
       "\n",
       "song_id                                   SOAAUKC12AB017F868  \\\n",
       "user_id                                                        \n",
       "000ebc858861aca26bac9b49f650ed424cf882fc                 NaN   \n",
       "00185e316f07f0f00c325ca034be59c15b362401                 NaN   \n",
       "0028292aa536122c1f86fd48a39bd83fe582d27f                 NaN   \n",
       "0031572620fa7f18487d3ea22935eb28410ecc4c                 NaN   \n",
       "003d0f3aac94fd261bb74c0124a90750579972d4                 NaN   \n",
       "...                                                      ...   \n",
       "ffc564b85d81f0ea427cee3eea2415cc2fc5c4be                 NaN   \n",
       "ffd458f903d49854685cf4540245c1d297e8bafa                 NaN   \n",
       "ffdaab327f2fc6b9fa01a4e3e7f41fdd0e468046                 NaN   \n",
       "fff03efd1550136063389fa71125194614e1c68f                 NaN   \n",
       "fff6c30c773e6ffafcac213c9afd9666afaf6d63                 NaN   \n",
       "\n",
       "song_id                                   SOAAVUV12AB0186646  \\\n",
       "user_id                                                        \n",
       "000ebc858861aca26bac9b49f650ed424cf882fc                 NaN   \n",
       "00185e316f07f0f00c325ca034be59c15b362401                 NaN   \n",
       "0028292aa536122c1f86fd48a39bd83fe582d27f                 NaN   \n",
       "0031572620fa7f18487d3ea22935eb28410ecc4c                 NaN   \n",
       "003d0f3aac94fd261bb74c0124a90750579972d4                 NaN   \n",
       "...                                                      ...   \n",
       "ffc564b85d81f0ea427cee3eea2415cc2fc5c4be                 NaN   \n",
       "ffd458f903d49854685cf4540245c1d297e8bafa                 NaN   \n",
       "ffdaab327f2fc6b9fa01a4e3e7f41fdd0e468046                 NaN   \n",
       "fff03efd1550136063389fa71125194614e1c68f                 NaN   \n",
       "fff6c30c773e6ffafcac213c9afd9666afaf6d63                 NaN   \n",
       "\n",
       "song_id                                   SOAAWEE12A6D4FBEC8  \\\n",
       "user_id                                                        \n",
       "000ebc858861aca26bac9b49f650ed424cf882fc                 NaN   \n",
       "00185e316f07f0f00c325ca034be59c15b362401                 NaN   \n",
       "0028292aa536122c1f86fd48a39bd83fe582d27f                 NaN   \n",
       "0031572620fa7f18487d3ea22935eb28410ecc4c                 NaN   \n",
       "003d0f3aac94fd261bb74c0124a90750579972d4                 NaN   \n",
       "...                                                      ...   \n",
       "ffc564b85d81f0ea427cee3eea2415cc2fc5c4be                 NaN   \n",
       "ffd458f903d49854685cf4540245c1d297e8bafa                 NaN   \n",
       "ffdaab327f2fc6b9fa01a4e3e7f41fdd0e468046                 NaN   \n",
       "fff03efd1550136063389fa71125194614e1c68f                 NaN   \n",
       "fff6c30c773e6ffafcac213c9afd9666afaf6d63                 NaN   \n",
       "\n",
       "song_id                                   SOABHYV12A6D4F6D0F  \\\n",
       "user_id                                                        \n",
       "000ebc858861aca26bac9b49f650ed424cf882fc                 NaN   \n",
       "00185e316f07f0f00c325ca034be59c15b362401                 NaN   \n",
       "0028292aa536122c1f86fd48a39bd83fe582d27f                 NaN   \n",
       "0031572620fa7f18487d3ea22935eb28410ecc4c                 NaN   \n",
       "003d0f3aac94fd261bb74c0124a90750579972d4                 NaN   \n",
       "...                                                      ...   \n",
       "ffc564b85d81f0ea427cee3eea2415cc2fc5c4be                 NaN   \n",
       "ffd458f903d49854685cf4540245c1d297e8bafa                 NaN   \n",
       "ffdaab327f2fc6b9fa01a4e3e7f41fdd0e468046                 NaN   \n",
       "fff03efd1550136063389fa71125194614e1c68f                 4.0   \n",
       "fff6c30c773e6ffafcac213c9afd9666afaf6d63                 NaN   \n",
       "\n",
       "song_id                                   SOABJBU12A8C13F63F  ...  \\\n",
       "user_id                                                       ...   \n",
       "000ebc858861aca26bac9b49f650ed424cf882fc                 NaN  ...   \n",
       "00185e316f07f0f00c325ca034be59c15b362401                 NaN  ...   \n",
       "0028292aa536122c1f86fd48a39bd83fe582d27f                 NaN  ...   \n",
       "0031572620fa7f18487d3ea22935eb28410ecc4c                 NaN  ...   \n",
       "003d0f3aac94fd261bb74c0124a90750579972d4                 NaN  ...   \n",
       "...                                                      ...  ...   \n",
       "ffc564b85d81f0ea427cee3eea2415cc2fc5c4be                 NaN  ...   \n",
       "ffd458f903d49854685cf4540245c1d297e8bafa                 NaN  ...   \n",
       "ffdaab327f2fc6b9fa01a4e3e7f41fdd0e468046                 NaN  ...   \n",
       "fff03efd1550136063389fa71125194614e1c68f                 NaN  ...   \n",
       "fff6c30c773e6ffafcac213c9afd9666afaf6d63                 NaN  ...   \n",
       "\n",
       "song_id                                   SOZYBGN12A8C13A93C  \\\n",
       "user_id                                                        \n",
       "000ebc858861aca26bac9b49f650ed424cf882fc                 NaN   \n",
       "00185e316f07f0f00c325ca034be59c15b362401                 NaN   \n",
       "0028292aa536122c1f86fd48a39bd83fe582d27f                 NaN   \n",
       "0031572620fa7f18487d3ea22935eb28410ecc4c                 NaN   \n",
       "003d0f3aac94fd261bb74c0124a90750579972d4                 NaN   \n",
       "...                                                      ...   \n",
       "ffc564b85d81f0ea427cee3eea2415cc2fc5c4be                 NaN   \n",
       "ffd458f903d49854685cf4540245c1d297e8bafa                 NaN   \n",
       "ffdaab327f2fc6b9fa01a4e3e7f41fdd0e468046                 NaN   \n",
       "fff03efd1550136063389fa71125194614e1c68f                 NaN   \n",
       "fff6c30c773e6ffafcac213c9afd9666afaf6d63                 NaN   \n",
       "\n",
       "song_id                                   SOZYDZR12A8C13F4F0  \\\n",
       "user_id                                                        \n",
       "000ebc858861aca26bac9b49f650ed424cf882fc                 NaN   \n",
       "00185e316f07f0f00c325ca034be59c15b362401                 NaN   \n",
       "0028292aa536122c1f86fd48a39bd83fe582d27f                 NaN   \n",
       "0031572620fa7f18487d3ea22935eb28410ecc4c                 NaN   \n",
       "003d0f3aac94fd261bb74c0124a90750579972d4                 NaN   \n",
       "...                                                      ...   \n",
       "ffc564b85d81f0ea427cee3eea2415cc2fc5c4be                 NaN   \n",
       "ffd458f903d49854685cf4540245c1d297e8bafa                 NaN   \n",
       "ffdaab327f2fc6b9fa01a4e3e7f41fdd0e468046                 NaN   \n",
       "fff03efd1550136063389fa71125194614e1c68f                 NaN   \n",
       "fff6c30c773e6ffafcac213c9afd9666afaf6d63                 NaN   \n",
       "\n",
       "song_id                                   SOZYSDT12A8C13BFD7  \\\n",
       "user_id                                                        \n",
       "000ebc858861aca26bac9b49f650ed424cf882fc                 NaN   \n",
       "00185e316f07f0f00c325ca034be59c15b362401                 NaN   \n",
       "0028292aa536122c1f86fd48a39bd83fe582d27f                 NaN   \n",
       "0031572620fa7f18487d3ea22935eb28410ecc4c                 NaN   \n",
       "003d0f3aac94fd261bb74c0124a90750579972d4                 NaN   \n",
       "...                                                      ...   \n",
       "ffc564b85d81f0ea427cee3eea2415cc2fc5c4be                 NaN   \n",
       "ffd458f903d49854685cf4540245c1d297e8bafa                 NaN   \n",
       "ffdaab327f2fc6b9fa01a4e3e7f41fdd0e468046                 NaN   \n",
       "fff03efd1550136063389fa71125194614e1c68f                 NaN   \n",
       "fff6c30c773e6ffafcac213c9afd9666afaf6d63                 NaN   \n",
       "\n",
       "song_id                                   SOZYUGZ12A8AE472AC  \\\n",
       "user_id                                                        \n",
       "000ebc858861aca26bac9b49f650ed424cf882fc                 NaN   \n",
       "00185e316f07f0f00c325ca034be59c15b362401                 NaN   \n",
       "0028292aa536122c1f86fd48a39bd83fe582d27f                 NaN   \n",
       "0031572620fa7f18487d3ea22935eb28410ecc4c                 NaN   \n",
       "003d0f3aac94fd261bb74c0124a90750579972d4                 NaN   \n",
       "...                                                      ...   \n",
       "ffc564b85d81f0ea427cee3eea2415cc2fc5c4be                 NaN   \n",
       "ffd458f903d49854685cf4540245c1d297e8bafa                 NaN   \n",
       "ffdaab327f2fc6b9fa01a4e3e7f41fdd0e468046                 NaN   \n",
       "fff03efd1550136063389fa71125194614e1c68f                 NaN   \n",
       "fff6c30c773e6ffafcac213c9afd9666afaf6d63                 NaN   \n",
       "\n",
       "song_id                                   SOZZHQT12AB018B714  \\\n",
       "user_id                                                        \n",
       "000ebc858861aca26bac9b49f650ed424cf882fc                 NaN   \n",
       "00185e316f07f0f00c325ca034be59c15b362401                 NaN   \n",
       "0028292aa536122c1f86fd48a39bd83fe582d27f                 NaN   \n",
       "0031572620fa7f18487d3ea22935eb28410ecc4c                 NaN   \n",
       "003d0f3aac94fd261bb74c0124a90750579972d4                 NaN   \n",
       "...                                                      ...   \n",
       "ffc564b85d81f0ea427cee3eea2415cc2fc5c4be                 NaN   \n",
       "ffd458f903d49854685cf4540245c1d297e8bafa                 NaN   \n",
       "ffdaab327f2fc6b9fa01a4e3e7f41fdd0e468046                 NaN   \n",
       "fff03efd1550136063389fa71125194614e1c68f                 NaN   \n",
       "fff6c30c773e6ffafcac213c9afd9666afaf6d63                 NaN   \n",
       "\n",
       "song_id                                   SOZZIOH12A67ADE300  \\\n",
       "user_id                                                        \n",
       "000ebc858861aca26bac9b49f650ed424cf882fc                 NaN   \n",
       "00185e316f07f0f00c325ca034be59c15b362401                 NaN   \n",
       "0028292aa536122c1f86fd48a39bd83fe582d27f                 NaN   \n",
       "0031572620fa7f18487d3ea22935eb28410ecc4c                 NaN   \n",
       "003d0f3aac94fd261bb74c0124a90750579972d4                 NaN   \n",
       "...                                                      ...   \n",
       "ffc564b85d81f0ea427cee3eea2415cc2fc5c4be                 NaN   \n",
       "ffd458f903d49854685cf4540245c1d297e8bafa                 NaN   \n",
       "ffdaab327f2fc6b9fa01a4e3e7f41fdd0e468046                 NaN   \n",
       "fff03efd1550136063389fa71125194614e1c68f                 NaN   \n",
       "fff6c30c773e6ffafcac213c9afd9666afaf6d63                 NaN   \n",
       "\n",
       "song_id                                   SOZZLZN12A8AE48D6D  \\\n",
       "user_id                                                        \n",
       "000ebc858861aca26bac9b49f650ed424cf882fc                 NaN   \n",
       "00185e316f07f0f00c325ca034be59c15b362401                 NaN   \n",
       "0028292aa536122c1f86fd48a39bd83fe582d27f                 NaN   \n",
       "0031572620fa7f18487d3ea22935eb28410ecc4c                 NaN   \n",
       "003d0f3aac94fd261bb74c0124a90750579972d4                 NaN   \n",
       "...                                                      ...   \n",
       "ffc564b85d81f0ea427cee3eea2415cc2fc5c4be                 NaN   \n",
       "ffd458f903d49854685cf4540245c1d297e8bafa                 NaN   \n",
       "ffdaab327f2fc6b9fa01a4e3e7f41fdd0e468046                 NaN   \n",
       "fff03efd1550136063389fa71125194614e1c68f                 NaN   \n",
       "fff6c30c773e6ffafcac213c9afd9666afaf6d63                 NaN   \n",
       "\n",
       "song_id                                   SOZZTCU12AB0182C58  \\\n",
       "user_id                                                        \n",
       "000ebc858861aca26bac9b49f650ed424cf882fc                 NaN   \n",
       "00185e316f07f0f00c325ca034be59c15b362401                 NaN   \n",
       "0028292aa536122c1f86fd48a39bd83fe582d27f                 NaN   \n",
       "0031572620fa7f18487d3ea22935eb28410ecc4c                 NaN   \n",
       "003d0f3aac94fd261bb74c0124a90750579972d4                 NaN   \n",
       "...                                                      ...   \n",
       "ffc564b85d81f0ea427cee3eea2415cc2fc5c4be                 NaN   \n",
       "ffd458f903d49854685cf4540245c1d297e8bafa                 NaN   \n",
       "ffdaab327f2fc6b9fa01a4e3e7f41fdd0e468046                 NaN   \n",
       "fff03efd1550136063389fa71125194614e1c68f                 NaN   \n",
       "fff6c30c773e6ffafcac213c9afd9666afaf6d63                 NaN   \n",
       "\n",
       "song_id                                   SOZZTNF12A8C139916  \\\n",
       "user_id                                                        \n",
       "000ebc858861aca26bac9b49f650ed424cf882fc                 NaN   \n",
       "00185e316f07f0f00c325ca034be59c15b362401                 NaN   \n",
       "0028292aa536122c1f86fd48a39bd83fe582d27f                 NaN   \n",
       "0031572620fa7f18487d3ea22935eb28410ecc4c                 NaN   \n",
       "003d0f3aac94fd261bb74c0124a90750579972d4                 NaN   \n",
       "...                                                      ...   \n",
       "ffc564b85d81f0ea427cee3eea2415cc2fc5c4be                 NaN   \n",
       "ffd458f903d49854685cf4540245c1d297e8bafa                 NaN   \n",
       "ffdaab327f2fc6b9fa01a4e3e7f41fdd0e468046                 NaN   \n",
       "fff03efd1550136063389fa71125194614e1c68f                 NaN   \n",
       "fff6c30c773e6ffafcac213c9afd9666afaf6d63                 NaN   \n",
       "\n",
       "song_id                                   SOZZVWB12AB0189C30  \n",
       "user_id                                                       \n",
       "000ebc858861aca26bac9b49f650ed424cf882fc                 NaN  \n",
       "00185e316f07f0f00c325ca034be59c15b362401                 NaN  \n",
       "0028292aa536122c1f86fd48a39bd83fe582d27f                 NaN  \n",
       "0031572620fa7f18487d3ea22935eb28410ecc4c                 NaN  \n",
       "003d0f3aac94fd261bb74c0124a90750579972d4                 NaN  \n",
       "...                                                      ...  \n",
       "ffc564b85d81f0ea427cee3eea2415cc2fc5c4be                 NaN  \n",
       "ffd458f903d49854685cf4540245c1d297e8bafa                 NaN  \n",
       "ffdaab327f2fc6b9fa01a4e3e7f41fdd0e468046                 NaN  \n",
       "fff03efd1550136063389fa71125194614e1c68f                 NaN  \n",
       "fff6c30c773e6ffafcac213c9afd9666afaf6d63                 NaN  \n",
       "\n",
       "[5000 rows x 5000 columns]"
      ]
     },
     "execution_count": 47,
     "metadata": {},
     "output_type": "execute_result"
    }
   ],
   "source": [
    "interactions_matrix_small"
   ]
  },
  {
   "cell_type": "markdown",
   "metadata": {
    "id": "bCv3IbqzkKiz"
   },
   "source": [
    "There are 5000 unique songs and 5000 unique users present in the above dataset. So, there is a possibility of 5000 * 5000 = 25,000,000 user-songs interactions. But we only have a total of 461,701, which is why we are getting a sparse user business interactions matrix above with the majority of the values being NaN.\n"
   ]
  },
  {
   "cell_type": "code",
   "execution_count": 48,
   "metadata": {
    "executionInfo": {
     "elapsed": 998,
     "status": "ok",
     "timestamp": 1628784346975,
     "user": {
      "displayName": "xiaoyue luo",
      "photoUrl": "",
      "userId": "08961633824417457060"
     },
     "user_tz": 420
    },
    "id": "Aq7MYpapG6nr"
   },
   "outputs": [],
   "source": [
    "interactions_matrix_small.fillna(0,inplace=True)"
   ]
  },
  {
   "cell_type": "code",
   "execution_count": 49,
   "metadata": {
    "colab": {
     "base_uri": "https://localhost:8080/",
     "height": 0
    },
    "executionInfo": {
     "elapsed": 170,
     "status": "ok",
     "timestamp": 1628784350103,
     "user": {
      "displayName": "xiaoyue luo",
      "photoUrl": "",
      "userId": "08961633824417457060"
     },
     "user_tz": 420
    },
    "id": "JUjL0OIok3m1",
    "outputId": "e0ecd78f-3bfd-4d36-cfa6-5f7c5bb9b131"
   },
   "outputs": [
    {
     "name": "stdout",
     "output_type": "stream",
     "text": [
      "Sparsity of df_small is 98.153552\n"
     ]
    }
   ],
   "source": [
    "sparsity=100*(1-df_small.shape[0]/(interactions_matrix_small.shape[0]*interactions_matrix_small.shape[1]))\n",
    "print('Sparsity of df_small is', sparsity)"
   ]
  },
  {
   "cell_type": "markdown",
   "metadata": {
    "id": "9Zv0CsB_l-_g"
   },
   "source": [
    "Get the song_id names."
   ]
  },
  {
   "cell_type": "code",
   "execution_count": 50,
   "metadata": {
    "colab": {
     "base_uri": "https://localhost:8080/",
     "height": 0
    },
    "executionInfo": {
     "elapsed": 17,
     "status": "ok",
     "timestamp": 1628784351332,
     "user": {
      "displayName": "xiaoyue luo",
      "photoUrl": "",
      "userId": "08961633824417457060"
     },
     "user_tz": 420
    },
    "id": "G2wuAJ4rmBTi",
    "outputId": "92b5101b-ba44-4847-ae15-4ce19629d119"
   },
   "outputs": [],
   "source": [
    "#Get the column names and save it in col_names.\n",
    "col_names=interactions_matrix_small.columns.values.tolist()\n",
    "song_id_names=col_names\n"
   ]
  },
  {
   "cell_type": "markdown",
   "metadata": {
    "id": "R37vAzxbmYyP"
   },
   "source": [
    "Get the user_id names."
   ]
  },
  {
   "cell_type": "code",
   "execution_count": 51,
   "metadata": {
    "executionInfo": {
     "elapsed": 156,
     "status": "ok",
     "timestamp": 1628784353298,
     "user": {
      "displayName": "xiaoyue luo",
      "photoUrl": "",
      "userId": "08961633824417457060"
     },
     "user_tz": 420
    },
    "id": "DGnB1stKmckh"
   },
   "outputs": [],
   "source": [
    "row_names=interactions_matrix_small.index.values.tolist()\n",
    "user_id_names=row_names"
   ]
  },
  {
   "cell_type": "code",
   "execution_count": 52,
   "metadata": {
    "colab": {
     "base_uri": "https://localhost:8080/",
     "height": 0
    },
    "executionInfo": {
     "elapsed": 9,
     "status": "ok",
     "timestamp": 1628784359230,
     "user": {
      "displayName": "xiaoyue luo",
      "photoUrl": "",
      "userId": "08961633824417457060"
     },
     "user_tz": 420
    },
    "id": "kvGzsOtHmdTo",
    "outputId": "f9e67961-6934-426a-e03d-b95c31ddcce3"
   },
   "outputs": [
    {
     "data": {
      "text/plain": [
       "5000"
      ]
     },
     "execution_count": 52,
     "metadata": {},
     "output_type": "execute_result"
    }
   ],
   "source": [
    "len(row_names)"
   ]
  },
  {
   "cell_type": "markdown",
   "metadata": {
    "id": "wPjXJhTfnBVg"
   },
   "source": [
    "Change the column names and row  names to their corresponding index and rebuild the interactions_matrix_new. Now the rows and columns are all indexed by numbers. "
   ]
  },
  {
   "cell_type": "code",
   "execution_count": 53,
   "metadata": {
    "colab": {
     "base_uri": "https://localhost:8080/",
     "height": 0
    },
    "executionInfo": {
     "elapsed": 599,
     "status": "ok",
     "timestamp": 1628784360686,
     "user": {
      "displayName": "xiaoyue luo",
      "photoUrl": "",
      "userId": "08961633824417457060"
     },
     "user_tz": 420
    },
    "id": "TvxJtrHBm0n0",
    "outputId": "2676fc3e-a031-4d3e-9d62-87eaeb6af4f1"
   },
   "outputs": [
    {
     "name": "stdout",
     "output_type": "stream",
     "text": [
      "[0, 1, 2, 3, 4, 5, 6, 7, 8, 9, 10, 11, 12, 13, 14, 15, 16, 17, 18, 19, 20, 21, 22, 23, 24, 25, 26, 27, 28, 29, 30, 31, 32, 33, 34, 35, 36, 37, 38, 39, 40, 41, 42, 43, 44, 45, 46, 47, 48, 49, 50, 51, 52, 53, 54, 55, 56, 57, 58, 59, 60, 61, 62, 63, 64, 65, 66, 67, 68, 69, 70, 71, 72, 73, 74, 75, 76, 77, 78, 79, 80, 81, 82, 83, 84, 85, 86, 87, 88, 89, 90, 91, 92, 93, 94, 95, 96, 97, 98, 99, 100, 101, 102, 103, 104, 105, 106, 107, 108, 109, 110, 111, 112, 113, 114, 115, 116, 117, 118, 119, 120, 121, 122, 123, 124, 125, 126, 127, 128, 129, 130, 131, 132, 133, 134, 135, 136, 137, 138, 139, 140, 141, 142, 143, 144, 145, 146, 147, 148, 149, 150, 151, 152, 153, 154, 155, 156, 157, 158, 159, 160, 161, 162, 163, 164, 165, 166, 167, 168, 169, 170, 171, 172, 173, 174, 175, 176, 177, 178, 179, 180, 181, 182, 183, 184, 185, 186, 187, 188, 189, 190, 191, 192, 193, 194, 195, 196, 197, 198, 199, 200, 201, 202, 203, 204, 205, 206, 207, 208, 209, 210, 211, 212, 213, 214, 215, 216, 217, 218, 219, 220, 221, 222, 223, 224, 225, 226, 227, 228, 229, 230, 231, 232, 233, 234, 235, 236, 237, 238, 239, 240, 241, 242, 243, 244, 245, 246, 247, 248, 249, 250, 251, 252, 253, 254, 255, 256, 257, 258, 259, 260, 261, 262, 263, 264, 265, 266, 267, 268, 269, 270, 271, 272, 273, 274, 275, 276, 277, 278, 279, 280, 281, 282, 283, 284, 285, 286, 287, 288, 289, 290, 291, 292, 293, 294, 295, 296, 297, 298, 299, 300, 301, 302, 303, 304, 305, 306, 307, 308, 309, 310, 311, 312, 313, 314, 315, 316, 317, 318, 319, 320, 321, 322, 323, 324, 325, 326, 327, 328, 329, 330, 331, 332, 333, 334, 335, 336, 337, 338, 339, 340, 341, 342, 343, 344, 345, 346, 347, 348, 349, 350, 351, 352, 353, 354, 355, 356, 357, 358, 359, 360, 361, 362, 363, 364, 365, 366, 367, 368, 369, 370, 371, 372, 373, 374, 375, 376, 377, 378, 379, 380, 381, 382, 383, 384, 385, 386, 387, 388, 389, 390, 391, 392, 393, 394, 395, 396, 397, 398, 399, 400, 401, 402, 403, 404, 405, 406, 407, 408, 409, 410, 411, 412, 413, 414, 415, 416, 417, 418, 419, 420, 421, 422, 423, 424, 425, 426, 427, 428, 429, 430, 431, 432, 433, 434, 435, 436, 437, 438, 439, 440, 441, 442, 443, 444, 445, 446, 447, 448, 449, 450, 451, 452, 453, 454, 455, 456, 457, 458, 459, 460, 461, 462, 463, 464, 465, 466, 467, 468, 469, 470, 471, 472, 473, 474, 475, 476, 477, 478, 479, 480, 481, 482, 483, 484, 485, 486, 487, 488, 489, 490, 491, 492, 493, 494, 495, 496, 497, 498, 499, 500, 501, 502, 503, 504, 505, 506, 507, 508, 509, 510, 511, 512, 513, 514, 515, 516, 517, 518, 519, 520, 521, 522, 523, 524, 525, 526, 527, 528, 529, 530, 531, 532, 533, 534, 535, 536, 537, 538, 539, 540, 541, 542, 543, 544, 545, 546, 547, 548, 549, 550, 551, 552, 553, 554, 555, 556, 557, 558, 559, 560, 561, 562, 563, 564, 565, 566, 567, 568, 569, 570, 571, 572, 573, 574, 575, 576, 577, 578, 579, 580, 581, 582, 583, 584, 585, 586, 587, 588, 589, 590, 591, 592, 593, 594, 595, 596, 597, 598, 599, 600, 601, 602, 603, 604, 605, 606, 607, 608, 609, 610, 611, 612, 613, 614, 615, 616, 617, 618, 619, 620, 621, 622, 623, 624, 625, 626, 627, 628, 629, 630, 631, 632, 633, 634, 635, 636, 637, 638, 639, 640, 641, 642, 643, 644, 645, 646, 647, 648, 649, 650, 651, 652, 653, 654, 655, 656, 657, 658, 659, 660, 661, 662, 663, 664, 665, 666, 667, 668, 669, 670, 671, 672, 673, 674, 675, 676, 677, 678, 679, 680, 681, 682, 683, 684, 685, 686, 687, 688, 689, 690, 691, 692, 693, 694, 695, 696, 697, 698, 699, 700, 701, 702, 703, 704, 705, 706, 707, 708, 709, 710, 711, 712, 713, 714, 715, 716, 717, 718, 719, 720, 721, 722, 723, 724, 725, 726, 727, 728, 729, 730, 731, 732, 733, 734, 735, 736, 737, 738, 739, 740, 741, 742, 743, 744, 745, 746, 747, 748, 749, 750, 751, 752, 753, 754, 755, 756, 757, 758, 759, 760, 761, 762, 763, 764, 765, 766, 767, 768, 769, 770, 771, 772, 773, 774, 775, 776, 777, 778, 779, 780, 781, 782, 783, 784, 785, 786, 787, 788, 789, 790, 791, 792, 793, 794, 795, 796, 797, 798, 799, 800, 801, 802, 803, 804, 805, 806, 807, 808, 809, 810, 811, 812, 813, 814, 815, 816, 817, 818, 819, 820, 821, 822, 823, 824, 825, 826, 827, 828, 829, 830, 831, 832, 833, 834, 835, 836, 837, 838, 839, 840, 841, 842, 843, 844, 845, 846, 847, 848, 849, 850, 851, 852, 853, 854, 855, 856, 857, 858, 859, 860, 861, 862, 863, 864, 865, 866, 867, 868, 869, 870, 871, 872, 873, 874, 875, 876, 877, 878, 879, 880, 881, 882, 883, 884, 885, 886, 887, 888, 889, 890, 891, 892, 893, 894, 895, 896, 897, 898, 899, 900, 901, 902, 903, 904, 905, 906, 907, 908, 909, 910, 911, 912, 913, 914, 915, 916, 917, 918, 919, 920, 921, 922, 923, 924, 925, 926, 927, 928, 929, 930, 931, 932, 933, 934, 935, 936, 937, 938, 939, 940, 941, 942, 943, 944, 945, 946, 947, 948, 949, 950, 951, 952, 953, 954, 955, 956, 957, 958, 959, 960, 961, 962, 963, 964, 965, 966, 967, 968, 969, 970, 971, 972, 973, 974, 975, 976, 977, 978, 979, 980, 981, 982, 983, 984, 985, 986, 987, 988, 989, 990, 991, 992, 993, 994, 995, 996, 997, 998, 999, 1000, 1001, 1002, 1003, 1004, 1005, 1006, 1007, 1008, 1009, 1010, 1011, 1012, 1013, 1014, 1015, 1016, 1017, 1018, 1019, 1020, 1021, 1022, 1023, 1024, 1025, 1026, 1027, 1028, 1029, 1030, 1031, 1032, 1033, 1034, 1035, 1036, 1037, 1038, 1039, 1040, 1041, 1042, 1043, 1044, 1045, 1046, 1047, 1048, 1049, 1050, 1051, 1052, 1053, 1054, 1055, 1056, 1057, 1058, 1059, 1060, 1061, 1062, 1063, 1064, 1065, 1066, 1067, 1068, 1069, 1070, 1071, 1072, 1073, 1074, 1075, 1076, 1077, 1078, 1079, 1080, 1081, 1082, 1083, 1084, 1085, 1086, 1087, 1088, 1089, 1090, 1091, 1092, 1093, 1094, 1095, 1096, 1097, 1098, 1099, 1100, 1101, 1102, 1103, 1104, 1105, 1106, 1107, 1108, 1109, 1110, 1111, 1112, 1113, 1114, 1115, 1116, 1117, 1118, 1119, 1120, 1121, 1122, 1123, 1124, 1125, 1126, 1127, 1128, 1129, 1130, 1131, 1132, 1133, 1134, 1135, 1136, 1137, 1138, 1139, 1140, 1141, 1142, 1143, 1144, 1145, 1146, 1147, 1148, 1149, 1150, 1151, 1152, 1153, 1154, 1155, 1156, 1157, 1158, 1159, 1160, 1161, 1162, 1163, 1164, 1165, 1166, 1167, 1168, 1169, 1170, 1171, 1172, 1173, 1174, 1175, 1176, 1177, 1178, 1179, 1180, 1181, 1182, 1183, 1184, 1185, 1186, 1187, 1188, 1189, 1190, 1191, 1192, 1193, 1194, 1195, 1196, 1197, 1198, 1199, 1200, 1201, 1202, 1203, 1204, 1205, 1206, 1207, 1208, 1209, 1210, 1211, 1212, 1213, 1214, 1215, 1216, 1217, 1218, 1219, 1220, 1221, 1222, 1223, 1224, 1225, 1226, 1227, 1228, 1229, 1230, 1231, 1232, 1233, 1234, 1235, 1236, 1237, 1238, 1239, 1240, 1241, 1242, 1243, 1244, 1245, 1246, 1247, 1248, 1249, 1250, 1251, 1252, 1253, 1254, 1255, 1256, 1257, 1258, 1259, 1260, 1261, 1262, 1263, 1264, 1265, 1266, 1267, 1268, 1269, 1270, 1271, 1272, 1273, 1274, 1275, 1276, 1277, 1278, 1279, 1280, 1281, 1282, 1283, 1284, 1285, 1286, 1287, 1288, 1289, 1290, 1291, 1292, 1293, 1294, 1295, 1296, 1297, 1298, 1299, 1300, 1301, 1302, 1303, 1304, 1305, 1306, 1307, 1308, 1309, 1310, 1311, 1312, 1313, 1314, 1315, 1316, 1317, 1318, 1319, 1320, 1321, 1322, 1323, 1324, 1325, 1326, 1327, 1328, 1329, 1330, 1331, 1332, 1333, 1334, 1335, 1336, 1337, 1338, 1339, 1340, 1341, 1342, 1343, 1344, 1345, 1346, 1347, 1348, 1349, 1350, 1351, 1352, 1353, 1354, 1355, 1356, 1357, 1358, 1359, 1360, 1361, 1362, 1363, 1364, 1365, 1366, 1367, 1368, 1369, 1370, 1371, 1372, 1373, 1374, 1375, 1376, 1377, 1378, 1379, 1380, 1381, 1382, 1383, 1384, 1385, 1386, 1387, 1388, 1389, 1390, 1391, 1392, 1393, 1394, 1395, 1396, 1397, 1398, 1399, 1400, 1401, 1402, 1403, 1404, 1405, 1406, 1407, 1408, 1409, 1410, 1411, 1412, 1413, 1414, 1415, 1416, 1417, 1418, 1419, 1420, 1421, 1422, 1423, 1424, 1425, 1426, 1427, 1428, 1429, 1430, 1431, 1432, 1433, 1434, 1435, 1436, 1437, 1438, 1439, 1440, 1441, 1442, 1443, 1444, 1445, 1446, 1447, 1448, 1449, 1450, 1451, 1452, 1453, 1454, 1455, 1456, 1457, 1458, 1459, 1460, 1461, 1462, 1463, 1464, 1465, 1466, 1467, 1468, 1469, 1470, 1471, 1472, 1473, 1474, 1475, 1476, 1477, 1478, 1479, 1480, 1481, 1482, 1483, 1484, 1485, 1486, 1487, 1488, 1489, 1490, 1491, 1492, 1493, 1494, 1495, 1496, 1497, 1498, 1499, 1500, 1501, 1502, 1503, 1504, 1505, 1506, 1507, 1508, 1509, 1510, 1511, 1512, 1513, 1514, 1515, 1516, 1517, 1518, 1519, 1520, 1521, 1522, 1523, 1524, 1525, 1526, 1527, 1528, 1529, 1530, 1531, 1532, 1533, 1534, 1535, 1536, 1537, 1538, 1539, 1540, 1541, 1542, 1543, 1544, 1545, 1546, 1547, 1548, 1549, 1550, 1551, 1552, 1553, 1554, 1555, 1556, 1557, 1558, 1559, 1560, 1561, 1562, 1563, 1564, 1565, 1566, 1567, 1568, 1569, 1570, 1571, 1572, 1573, 1574, 1575, 1576, 1577, 1578, 1579, 1580, 1581, 1582, 1583, 1584, 1585, 1586, 1587, 1588, 1589, 1590, 1591, 1592, 1593, 1594, 1595, 1596, 1597, 1598, 1599, 1600, 1601, 1602, 1603, 1604, 1605, 1606, 1607, 1608, 1609, 1610, 1611, 1612, 1613, 1614, 1615, 1616, 1617, 1618, 1619, 1620, 1621, 1622, 1623, 1624, 1625, 1626, 1627, 1628, 1629, 1630, 1631, 1632, 1633, 1634, 1635, 1636, 1637, 1638, 1639, 1640, 1641, 1642, 1643, 1644, 1645, 1646, 1647, 1648, 1649, 1650, 1651, 1652, 1653, 1654, 1655, 1656, 1657, 1658, 1659, 1660, 1661, 1662, 1663, 1664, 1665, 1666, 1667, 1668, 1669, 1670, 1671, 1672, 1673, 1674, 1675, 1676, 1677, 1678, 1679, 1680, 1681, 1682, 1683, 1684, 1685, 1686, 1687, 1688, 1689, 1690, 1691, 1692, 1693, 1694, 1695, 1696, 1697, 1698, 1699, 1700, 1701, 1702, 1703, 1704, 1705, 1706, 1707, 1708, 1709, 1710, 1711, 1712, 1713, 1714, 1715, 1716, 1717, 1718, 1719, 1720, 1721, 1722, 1723, 1724, 1725, 1726, 1727, 1728, 1729, 1730, 1731, 1732, 1733, 1734, 1735, 1736, 1737, 1738, 1739, 1740, 1741, 1742, 1743, 1744, 1745, 1746, 1747, 1748, 1749, 1750, 1751, 1752, 1753, 1754, 1755, 1756, 1757, 1758, 1759, 1760, 1761, 1762, 1763, 1764, 1765, 1766, 1767, 1768, 1769, 1770, 1771, 1772, 1773, 1774, 1775, 1776, 1777, 1778, 1779, 1780, 1781, 1782, 1783, 1784, 1785, 1786, 1787, 1788, 1789, 1790, 1791, 1792, 1793, 1794, 1795, 1796, 1797, 1798, 1799, 1800, 1801, 1802, 1803, 1804, 1805, 1806, 1807, 1808, 1809, 1810, 1811, 1812, 1813, 1814, 1815, 1816, 1817, 1818, 1819, 1820, 1821, 1822, 1823, 1824, 1825, 1826, 1827, 1828, 1829, 1830, 1831, 1832, 1833, 1834, 1835, 1836, 1837, 1838, 1839, 1840, 1841, 1842, 1843, 1844, 1845, 1846, 1847, 1848, 1849, 1850, 1851, 1852, 1853, 1854, 1855, 1856, 1857, 1858, 1859, 1860, 1861, 1862, 1863, 1864, 1865, 1866, 1867, 1868, 1869, 1870, 1871, 1872, 1873, 1874, 1875, 1876, 1877, 1878, 1879, 1880, 1881, 1882, 1883, 1884, 1885, 1886, 1887, 1888, 1889, 1890, 1891, 1892, 1893, 1894, 1895, 1896, 1897, 1898, 1899, 1900, 1901, 1902, 1903, 1904, 1905, 1906, 1907, 1908, 1909, 1910, 1911, 1912, 1913, 1914, 1915, 1916, 1917, 1918, 1919, 1920, 1921, 1922, 1923, 1924, 1925, 1926, 1927, 1928, 1929, 1930, 1931, 1932, 1933, 1934, 1935, 1936, 1937, 1938, 1939, 1940, 1941, 1942, 1943, 1944, 1945, 1946, 1947, 1948, 1949, 1950, 1951, 1952, 1953, 1954, 1955, 1956, 1957, 1958, 1959, 1960, 1961, 1962, 1963, 1964, 1965, 1966, 1967, 1968, 1969, 1970, 1971, 1972, 1973, 1974, 1975, 1976, 1977, 1978, 1979, 1980, 1981, 1982, 1983, 1984, 1985, 1986, 1987, 1988, 1989, 1990, 1991, 1992, 1993, 1994, 1995, 1996, 1997, 1998, 1999, 2000, 2001, 2002, 2003, 2004, 2005, 2006, 2007, 2008, 2009, 2010, 2011, 2012, 2013, 2014, 2015, 2016, 2017, 2018, 2019, 2020, 2021, 2022, 2023, 2024, 2025, 2026, 2027, 2028, 2029, 2030, 2031, 2032, 2033, 2034, 2035, 2036, 2037, 2038, 2039, 2040, 2041, 2042, 2043, 2044, 2045, 2046, 2047, 2048, 2049, 2050, 2051, 2052, 2053, 2054, 2055, 2056, 2057, 2058, 2059, 2060, 2061, 2062, 2063, 2064, 2065, 2066, 2067, 2068, 2069, 2070, 2071, 2072, 2073, 2074, 2075, 2076, 2077, 2078, 2079, 2080, 2081, 2082, 2083, 2084, 2085, 2086, 2087, 2088, 2089, 2090, 2091, 2092, 2093, 2094, 2095, 2096, 2097, 2098, 2099, 2100, 2101, 2102, 2103, 2104, 2105, 2106, 2107, 2108, 2109, 2110, 2111, 2112, 2113, 2114, 2115, 2116, 2117, 2118, 2119, 2120, 2121, 2122, 2123, 2124, 2125, 2126, 2127, 2128, 2129, 2130, 2131, 2132, 2133, 2134, 2135, 2136, 2137, 2138, 2139, 2140, 2141, 2142, 2143, 2144, 2145, 2146, 2147, 2148, 2149, 2150, 2151, 2152, 2153, 2154, 2155, 2156, 2157, 2158, 2159, 2160, 2161, 2162, 2163, 2164, 2165, 2166, 2167, 2168, 2169, 2170, 2171, 2172, 2173, 2174, 2175, 2176, 2177, 2178, 2179, 2180, 2181, 2182, 2183, 2184, 2185, 2186, 2187, 2188, 2189, 2190, 2191, 2192, 2193, 2194, 2195, 2196, 2197, 2198, 2199, 2200, 2201, 2202, 2203, 2204, 2205, 2206, 2207, 2208, 2209, 2210, 2211, 2212, 2213, 2214, 2215, 2216, 2217, 2218, 2219, 2220, 2221, 2222, 2223, 2224, 2225, 2226, 2227, 2228, 2229, 2230, 2231, 2232, 2233, 2234, 2235, 2236, 2237, 2238, 2239, 2240, 2241, 2242, 2243, 2244, 2245, 2246, 2247, 2248, 2249, 2250, 2251, 2252, 2253, 2254, 2255, 2256, 2257, 2258, 2259, 2260, 2261, 2262, 2263, 2264, 2265, 2266, 2267, 2268, 2269, 2270, 2271, 2272, 2273, 2274, 2275, 2276, 2277, 2278, 2279, 2280, 2281, 2282, 2283, 2284, 2285, 2286, 2287, 2288, 2289, 2290, 2291, 2292, 2293, 2294, 2295, 2296, 2297, 2298, 2299, 2300, 2301, 2302, 2303, 2304, 2305, 2306, 2307, 2308, 2309, 2310, 2311, 2312, 2313, 2314, 2315, 2316, 2317, 2318, 2319, 2320, 2321, 2322, 2323, 2324, 2325, 2326, 2327, 2328, 2329, 2330, 2331, 2332, 2333, 2334, 2335, 2336, 2337, 2338, 2339, 2340, 2341, 2342, 2343, 2344, 2345, 2346, 2347, 2348, 2349, 2350, 2351, 2352, 2353, 2354, 2355, 2356, 2357, 2358, 2359, 2360, 2361, 2362, 2363, 2364, 2365, 2366, 2367, 2368, 2369, 2370, 2371, 2372, 2373, 2374, 2375, 2376, 2377, 2378, 2379, 2380, 2381, 2382, 2383, 2384, 2385, 2386, 2387, 2388, 2389, 2390, 2391, 2392, 2393, 2394, 2395, 2396, 2397, 2398, 2399, 2400, 2401, 2402, 2403, 2404, 2405, 2406, 2407, 2408, 2409, 2410, 2411, 2412, 2413, 2414, 2415, 2416, 2417, 2418, 2419, 2420, 2421, 2422, 2423, 2424, 2425, 2426, 2427, 2428, 2429, 2430, 2431, 2432, 2433, 2434, 2435, 2436, 2437, 2438, 2439, 2440, 2441, 2442, 2443, 2444, 2445, 2446, 2447, 2448, 2449, 2450, 2451, 2452, 2453, 2454, 2455, 2456, 2457, 2458, 2459, 2460, 2461, 2462, 2463, 2464, 2465, 2466, 2467, 2468, 2469, 2470, 2471, 2472, 2473, 2474, 2475, 2476, 2477, 2478, 2479, 2480, 2481, 2482, 2483, 2484, 2485, 2486, 2487, 2488, 2489, 2490, 2491, 2492, 2493, 2494, 2495, 2496, 2497, 2498, 2499, 2500, 2501, 2502, 2503, 2504, 2505, 2506, 2507, 2508, 2509, 2510, 2511, 2512, 2513, 2514, 2515, 2516, 2517, 2518, 2519, 2520, 2521, 2522, 2523, 2524, 2525, 2526, 2527, 2528, 2529, 2530, 2531, 2532, 2533, 2534, 2535, 2536, 2537, 2538, 2539, 2540, 2541, 2542, 2543, 2544, 2545, 2546, 2547, 2548, 2549, 2550, 2551, 2552, 2553, 2554, 2555, 2556, 2557, 2558, 2559, 2560, 2561, 2562, 2563, 2564, 2565, 2566, 2567, 2568, 2569, 2570, 2571, 2572, 2573, 2574, 2575, 2576, 2577, 2578, 2579, 2580, 2581, 2582, 2583, 2584, 2585, 2586, 2587, 2588, 2589, 2590, 2591, 2592, 2593, 2594, 2595, 2596, 2597, 2598, 2599, 2600, 2601, 2602, 2603, 2604, 2605, 2606, 2607, 2608, 2609, 2610, 2611, 2612, 2613, 2614, 2615, 2616, 2617, 2618, 2619, 2620, 2621, 2622, 2623, 2624, 2625, 2626, 2627, 2628, 2629, 2630, 2631, 2632, 2633, 2634, 2635, 2636, 2637, 2638, 2639, 2640, 2641, 2642, 2643, 2644, 2645, 2646, 2647, 2648, 2649, 2650, 2651, 2652, 2653, 2654, 2655, 2656, 2657, 2658, 2659, 2660, 2661, 2662, 2663, 2664, 2665, 2666, 2667, 2668, 2669, 2670, 2671, 2672, 2673, 2674, 2675, 2676, 2677, 2678, 2679, 2680, 2681, 2682, 2683, 2684, 2685, 2686, 2687, 2688, 2689, 2690, 2691, 2692, 2693, 2694, 2695, 2696, 2697, 2698, 2699, 2700, 2701, 2702, 2703, 2704, 2705, 2706, 2707, 2708, 2709, 2710, 2711, 2712, 2713, 2714, 2715, 2716, 2717, 2718, 2719, 2720, 2721, 2722, 2723, 2724, 2725, 2726, 2727, 2728, 2729, 2730, 2731, 2732, 2733, 2734, 2735, 2736, 2737, 2738, 2739, 2740, 2741, 2742, 2743, 2744, 2745, 2746, 2747, 2748, 2749, 2750, 2751, 2752, 2753, 2754, 2755, 2756, 2757, 2758, 2759, 2760, 2761, 2762, 2763, 2764, 2765, 2766, 2767, 2768, 2769, 2770, 2771, 2772, 2773, 2774, 2775, 2776, 2777, 2778, 2779, 2780, 2781, 2782, 2783, 2784, 2785, 2786, 2787, 2788, 2789, 2790, 2791, 2792, 2793, 2794, 2795, 2796, 2797, 2798, 2799, 2800, 2801, 2802, 2803, 2804, 2805, 2806, 2807, 2808, 2809, 2810, 2811, 2812, 2813, 2814, 2815, 2816, 2817, 2818, 2819, 2820, 2821, 2822, 2823, 2824, 2825, 2826, 2827, 2828, 2829, 2830, 2831, 2832, 2833, 2834, 2835, 2836, 2837, 2838, 2839, 2840, 2841, 2842, 2843, 2844, 2845, 2846, 2847, 2848, 2849, 2850, 2851, 2852, 2853, 2854, 2855, 2856, 2857, 2858, 2859, 2860, 2861, 2862, 2863, 2864, 2865, 2866, 2867, 2868, 2869, 2870, 2871, 2872, 2873, 2874, 2875, 2876, 2877, 2878, 2879, 2880, 2881, 2882, 2883, 2884, 2885, 2886, 2887, 2888, 2889, 2890, 2891, 2892, 2893, 2894, 2895, 2896, 2897, 2898, 2899, 2900, 2901, 2902, 2903, 2904, 2905, 2906, 2907, 2908, 2909, 2910, 2911, 2912, 2913, 2914, 2915, 2916, 2917, 2918, 2919, 2920, 2921, 2922, 2923, 2924, 2925, 2926, 2927, 2928, 2929, 2930, 2931, 2932, 2933, 2934, 2935, 2936, 2937, 2938, 2939, 2940, 2941, 2942, 2943, 2944, 2945, 2946, 2947, 2948, 2949, 2950, 2951, 2952, 2953, 2954, 2955, 2956, 2957, 2958, 2959, 2960, 2961, 2962, 2963, 2964, 2965, 2966, 2967, 2968, 2969, 2970, 2971, 2972, 2973, 2974, 2975, 2976, 2977, 2978, 2979, 2980, 2981, 2982, 2983, 2984, 2985, 2986, 2987, 2988, 2989, 2990, 2991, 2992, 2993, 2994, 2995, 2996, 2997, 2998, 2999, 3000, 3001, 3002, 3003, 3004, 3005, 3006, 3007, 3008, 3009, 3010, 3011, 3012, 3013, 3014, 3015, 3016, 3017, 3018, 3019, 3020, 3021, 3022, 3023, 3024, 3025, 3026, 3027, 3028, 3029, 3030, 3031, 3032, 3033, 3034, 3035, 3036, 3037, 3038, 3039, 3040, 3041, 3042, 3043, 3044, 3045, 3046, 3047, 3048, 3049, 3050, 3051, 3052, 3053, 3054, 3055, 3056, 3057, 3058, 3059, 3060, 3061, 3062, 3063, 3064, 3065, 3066, 3067, 3068, 3069, 3070, 3071, 3072, 3073, 3074, 3075, 3076, 3077, 3078, 3079, 3080, 3081, 3082, 3083, 3084, 3085, 3086, 3087, 3088, 3089, 3090, 3091, 3092, 3093, 3094, 3095, 3096, 3097, 3098, 3099, 3100, 3101, 3102, 3103, 3104, 3105, 3106, 3107, 3108, 3109, 3110, 3111, 3112, 3113, 3114, 3115, 3116, 3117, 3118, 3119, 3120, 3121, 3122, 3123, 3124, 3125, 3126, 3127, 3128, 3129, 3130, 3131, 3132, 3133, 3134, 3135, 3136, 3137, 3138, 3139, 3140, 3141, 3142, 3143, 3144, 3145, 3146, 3147, 3148, 3149, 3150, 3151, 3152, 3153, 3154, 3155, 3156, 3157, 3158, 3159, 3160, 3161, 3162, 3163, 3164, 3165, 3166, 3167, 3168, 3169, 3170, 3171, 3172, 3173, 3174, 3175, 3176, 3177, 3178, 3179, 3180, 3181, 3182, 3183, 3184, 3185, 3186, 3187, 3188, 3189, 3190, 3191, 3192, 3193, 3194, 3195, 3196, 3197, 3198, 3199, 3200, 3201, 3202, 3203, 3204, 3205, 3206, 3207, 3208, 3209, 3210, 3211, 3212, 3213, 3214, 3215, 3216, 3217, 3218, 3219, 3220, 3221, 3222, 3223, 3224, 3225, 3226, 3227, 3228, 3229, 3230, 3231, 3232, 3233, 3234, 3235, 3236, 3237, 3238, 3239, 3240, 3241, 3242, 3243, 3244, 3245, 3246, 3247, 3248, 3249, 3250, 3251, 3252, 3253, 3254, 3255, 3256, 3257, 3258, 3259, 3260, 3261, 3262, 3263, 3264, 3265, 3266, 3267, 3268, 3269, 3270, 3271, 3272, 3273, 3274, 3275, 3276, 3277, 3278, 3279, 3280, 3281, 3282, 3283, 3284, 3285, 3286, 3287, 3288, 3289, 3290, 3291, 3292, 3293, 3294, 3295, 3296, 3297, 3298, 3299, 3300, 3301, 3302, 3303, 3304, 3305, 3306, 3307, 3308, 3309, 3310, 3311, 3312, 3313, 3314, 3315, 3316, 3317, 3318, 3319, 3320, 3321, 3322, 3323, 3324, 3325, 3326, 3327, 3328, 3329, 3330, 3331, 3332, 3333, 3334, 3335, 3336, 3337, 3338, 3339, 3340, 3341, 3342, 3343, 3344, 3345, 3346, 3347, 3348, 3349, 3350, 3351, 3352, 3353, 3354, 3355, 3356, 3357, 3358, 3359, 3360, 3361, 3362, 3363, 3364, 3365, 3366, 3367, 3368, 3369, 3370, 3371, 3372, 3373, 3374, 3375, 3376, 3377, 3378, 3379, 3380, 3381, 3382, 3383, 3384, 3385, 3386, 3387, 3388, 3389, 3390, 3391, 3392, 3393, 3394, 3395, 3396, 3397, 3398, 3399, 3400, 3401, 3402, 3403, 3404, 3405, 3406, 3407, 3408, 3409, 3410, 3411, 3412, 3413, 3414, 3415, 3416, 3417, 3418, 3419, 3420, 3421, 3422, 3423, 3424, 3425, 3426, 3427, 3428, 3429, 3430, 3431, 3432, 3433, 3434, 3435, 3436, 3437, 3438, 3439, 3440, 3441, 3442, 3443, 3444, 3445, 3446, 3447, 3448, 3449, 3450, 3451, 3452, 3453, 3454, 3455, 3456, 3457, 3458, 3459, 3460, 3461, 3462, 3463, 3464, 3465, 3466, 3467, 3468, 3469, 3470, 3471, 3472, 3473, 3474, 3475, 3476, 3477, 3478, 3479, 3480, 3481, 3482, 3483, 3484, 3485, 3486, 3487, 3488, 3489, 3490, 3491, 3492, 3493, 3494, 3495, 3496, 3497, 3498, 3499, 3500, 3501, 3502, 3503, 3504, 3505, 3506, 3507, 3508, 3509, 3510, 3511, 3512, 3513, 3514, 3515, 3516, 3517, 3518, 3519, 3520, 3521, 3522, 3523, 3524, 3525, 3526, 3527, 3528, 3529, 3530, 3531, 3532, 3533, 3534, 3535, 3536, 3537, 3538, 3539, 3540, 3541, 3542, 3543, 3544, 3545, 3546, 3547, 3548, 3549, 3550, 3551, 3552, 3553, 3554, 3555, 3556, 3557, 3558, 3559, 3560, 3561, 3562, 3563, 3564, 3565, 3566, 3567, 3568, 3569, 3570, 3571, 3572, 3573, 3574, 3575, 3576, 3577, 3578, 3579, 3580, 3581, 3582, 3583, 3584, 3585, 3586, 3587, 3588, 3589, 3590, 3591, 3592, 3593, 3594, 3595, 3596, 3597, 3598, 3599, 3600, 3601, 3602, 3603, 3604, 3605, 3606, 3607, 3608, 3609, 3610, 3611, 3612, 3613, 3614, 3615, 3616, 3617, 3618, 3619, 3620, 3621, 3622, 3623, 3624, 3625, 3626, 3627, 3628, 3629, 3630, 3631, 3632, 3633, 3634, 3635, 3636, 3637, 3638, 3639, 3640, 3641, 3642, 3643, 3644, 3645, 3646, 3647, 3648, 3649, 3650, 3651, 3652, 3653, 3654, 3655, 3656, 3657, 3658, 3659, 3660, 3661, 3662, 3663, 3664, 3665, 3666, 3667, 3668, 3669, 3670, 3671, 3672, 3673, 3674, 3675, 3676, 3677, 3678, 3679, 3680, 3681, 3682, 3683, 3684, 3685, 3686, 3687, 3688, 3689, 3690, 3691, 3692, 3693, 3694, 3695, 3696, 3697, 3698, 3699, 3700, 3701, 3702, 3703, 3704, 3705, 3706, 3707, 3708, 3709, 3710, 3711, 3712, 3713, 3714, 3715, 3716, 3717, 3718, 3719, 3720, 3721, 3722, 3723, 3724, 3725, 3726, 3727, 3728, 3729, 3730, 3731, 3732, 3733, 3734, 3735, 3736, 3737, 3738, 3739, 3740, 3741, 3742, 3743, 3744, 3745, 3746, 3747, 3748, 3749, 3750, 3751, 3752, 3753, 3754, 3755, 3756, 3757, 3758, 3759, 3760, 3761, 3762, 3763, 3764, 3765, 3766, 3767, 3768, 3769, 3770, 3771, 3772, 3773, 3774, 3775, 3776, 3777, 3778, 3779, 3780, 3781, 3782, 3783, 3784, 3785, 3786, 3787, 3788, 3789, 3790, 3791, 3792, 3793, 3794, 3795, 3796, 3797, 3798, 3799, 3800, 3801, 3802, 3803, 3804, 3805, 3806, 3807, 3808, 3809, 3810, 3811, 3812, 3813, 3814, 3815, 3816, 3817, 3818, 3819, 3820, 3821, 3822, 3823, 3824, 3825, 3826, 3827, 3828, 3829, 3830, 3831, 3832, 3833, 3834, 3835, 3836, 3837, 3838, 3839, 3840, 3841, 3842, 3843, 3844, 3845, 3846, 3847, 3848, 3849, 3850, 3851, 3852, 3853, 3854, 3855, 3856, 3857, 3858, 3859, 3860, 3861, 3862, 3863, 3864, 3865, 3866, 3867, 3868, 3869, 3870, 3871, 3872, 3873, 3874, 3875, 3876, 3877, 3878, 3879, 3880, 3881, 3882, 3883, 3884, 3885, 3886, 3887, 3888, 3889, 3890, 3891, 3892, 3893, 3894, 3895, 3896, 3897, 3898, 3899, 3900, 3901, 3902, 3903, 3904, 3905, 3906, 3907, 3908, 3909, 3910, 3911, 3912, 3913, 3914, 3915, 3916, 3917, 3918, 3919, 3920, 3921, 3922, 3923, 3924, 3925, 3926, 3927, 3928, 3929, 3930, 3931, 3932, 3933, 3934, 3935, 3936, 3937, 3938, 3939, 3940, 3941, 3942, 3943, 3944, 3945, 3946, 3947, 3948, 3949, 3950, 3951, 3952, 3953, 3954, 3955, 3956, 3957, 3958, 3959, 3960, 3961, 3962, 3963, 3964, 3965, 3966, 3967, 3968, 3969, 3970, 3971, 3972, 3973, 3974, 3975, 3976, 3977, 3978, 3979, 3980, 3981, 3982, 3983, 3984, 3985, 3986, 3987, 3988, 3989, 3990, 3991, 3992, 3993, 3994, 3995, 3996, 3997, 3998, 3999, 4000, 4001, 4002, 4003, 4004, 4005, 4006, 4007, 4008, 4009, 4010, 4011, 4012, 4013, 4014, 4015, 4016, 4017, 4018, 4019, 4020, 4021, 4022, 4023, 4024, 4025, 4026, 4027, 4028, 4029, 4030, 4031, 4032, 4033, 4034, 4035, 4036, 4037, 4038, 4039, 4040, 4041, 4042, 4043, 4044, 4045, 4046, 4047, 4048, 4049, 4050, 4051, 4052, 4053, 4054, 4055, 4056, 4057, 4058, 4059, 4060, 4061, 4062, 4063, 4064, 4065, 4066, 4067, 4068, 4069, 4070, 4071, 4072, 4073, 4074, 4075, 4076, 4077, 4078, 4079, 4080, 4081, 4082, 4083, 4084, 4085, 4086, 4087, 4088, 4089, 4090, 4091, 4092, 4093, 4094, 4095, 4096, 4097, 4098, 4099, 4100, 4101, 4102, 4103, 4104, 4105, 4106, 4107, 4108, 4109, 4110, 4111, 4112, 4113, 4114, 4115, 4116, 4117, 4118, 4119, 4120, 4121, 4122, 4123, 4124, 4125, 4126, 4127, 4128, 4129, 4130, 4131, 4132, 4133, 4134, 4135, 4136, 4137, 4138, 4139, 4140, 4141, 4142, 4143, 4144, 4145, 4146, 4147, 4148, 4149, 4150, 4151, 4152, 4153, 4154, 4155, 4156, 4157, 4158, 4159, 4160, 4161, 4162, 4163, 4164, 4165, 4166, 4167, 4168, 4169, 4170, 4171, 4172, 4173, 4174, 4175, 4176, 4177, 4178, 4179, 4180, 4181, 4182, 4183, 4184, 4185, 4186, 4187, 4188, 4189, 4190, 4191, 4192, 4193, 4194, 4195, 4196, 4197, 4198, 4199, 4200, 4201, 4202, 4203, 4204, 4205, 4206, 4207, 4208, 4209, 4210, 4211, 4212, 4213, 4214, 4215, 4216, 4217, 4218, 4219, 4220, 4221, 4222, 4223, 4224, 4225, 4226, 4227, 4228, 4229, 4230, 4231, 4232, 4233, 4234, 4235, 4236, 4237, 4238, 4239, 4240, 4241, 4242, 4243, 4244, 4245, 4246, 4247, 4248, 4249, 4250, 4251, 4252, 4253, 4254, 4255, 4256, 4257, 4258, 4259, 4260, 4261, 4262, 4263, 4264, 4265, 4266, 4267, 4268, 4269, 4270, 4271, 4272, 4273, 4274, 4275, 4276, 4277, 4278, 4279, 4280, 4281, 4282, 4283, 4284, 4285, 4286, 4287, 4288, 4289, 4290, 4291, 4292, 4293, 4294, 4295, 4296, 4297, 4298, 4299, 4300, 4301, 4302, 4303, 4304, 4305, 4306, 4307, 4308, 4309, 4310, 4311, 4312, 4313, 4314, 4315, 4316, 4317, 4318, 4319, 4320, 4321, 4322, 4323, 4324, 4325, 4326, 4327, 4328, 4329, 4330, 4331, 4332, 4333, 4334, 4335, 4336, 4337, 4338, 4339, 4340, 4341, 4342, 4343, 4344, 4345, 4346, 4347, 4348, 4349, 4350, 4351, 4352, 4353, 4354, 4355, 4356, 4357, 4358, 4359, 4360, 4361, 4362, 4363, 4364, 4365, 4366, 4367, 4368, 4369, 4370, 4371, 4372, 4373, 4374, 4375, 4376, 4377, 4378, 4379, 4380, 4381, 4382, 4383, 4384, 4385, 4386, 4387, 4388, 4389, 4390, 4391, 4392, 4393, 4394, 4395, 4396, 4397, 4398, 4399, 4400, 4401, 4402, 4403, 4404, 4405, 4406, 4407, 4408, 4409, 4410, 4411, 4412, 4413, 4414, 4415, 4416, 4417, 4418, 4419, 4420, 4421, 4422, 4423, 4424, 4425, 4426, 4427, 4428, 4429, 4430, 4431, 4432, 4433, 4434, 4435, 4436, 4437, 4438, 4439, 4440, 4441, 4442, 4443, 4444, 4445, 4446, 4447, 4448, 4449, 4450, 4451, 4452, 4453, 4454, 4455, 4456, 4457, 4458, 4459, 4460, 4461, 4462, 4463, 4464, 4465, 4466, 4467, 4468, 4469, 4470, 4471, 4472, 4473, 4474, 4475, 4476, 4477, 4478, 4479, 4480, 4481, 4482, 4483, 4484, 4485, 4486, 4487, 4488, 4489, 4490, 4491, 4492, 4493, 4494, 4495, 4496, 4497, 4498, 4499, 4500, 4501, 4502, 4503, 4504, 4505, 4506, 4507, 4508, 4509, 4510, 4511, 4512, 4513, 4514, 4515, 4516, 4517, 4518, 4519, 4520, 4521, 4522, 4523, 4524, 4525, 4526, 4527, 4528, 4529, 4530, 4531, 4532, 4533, 4534, 4535, 4536, 4537, 4538, 4539, 4540, 4541, 4542, 4543, 4544, 4545, 4546, 4547, 4548, 4549, 4550, 4551, 4552, 4553, 4554, 4555, 4556, 4557, 4558, 4559, 4560, 4561, 4562, 4563, 4564, 4565, 4566, 4567, 4568, 4569, 4570, 4571, 4572, 4573, 4574, 4575, 4576, 4577, 4578, 4579, 4580, 4581, 4582, 4583, 4584, 4585, 4586, 4587, 4588, 4589, 4590, 4591, 4592, 4593, 4594, 4595, 4596, 4597, 4598, 4599, 4600, 4601, 4602, 4603, 4604, 4605, 4606, 4607, 4608, 4609, 4610, 4611, 4612, 4613, 4614, 4615, 4616, 4617, 4618, 4619, 4620, 4621, 4622, 4623, 4624, 4625, 4626, 4627, 4628, 4629, 4630, 4631, 4632, 4633, 4634, 4635, 4636, 4637, 4638, 4639, 4640, 4641, 4642, 4643, 4644, 4645, 4646, 4647, 4648, 4649, 4650, 4651, 4652, 4653, 4654, 4655, 4656, 4657, 4658, 4659, 4660, 4661, 4662, 4663, 4664, 4665, 4666, 4667, 4668, 4669, 4670, 4671, 4672, 4673, 4674, 4675, 4676, 4677, 4678, 4679, 4680, 4681, 4682, 4683, 4684, 4685, 4686, 4687, 4688, 4689, 4690, 4691, 4692, 4693, 4694, 4695, 4696, 4697, 4698, 4699, 4700, 4701, 4702, 4703, 4704, 4705, 4706, 4707, 4708, 4709, 4710, 4711, 4712, 4713, 4714, 4715, 4716, 4717, 4718, 4719, 4720, 4721, 4722, 4723, 4724, 4725, 4726, 4727, 4728, 4729, 4730, 4731, 4732, 4733, 4734, 4735, 4736, 4737, 4738, 4739, 4740, 4741, 4742, 4743, 4744, 4745, 4746, 4747, 4748, 4749, 4750, 4751, 4752, 4753, 4754, 4755, 4756, 4757, 4758, 4759, 4760, 4761, 4762, 4763, 4764, 4765, 4766, 4767, 4768, 4769, 4770, 4771, 4772, 4773, 4774, 4775, 4776, 4777, 4778, 4779, 4780, 4781, 4782, 4783, 4784, 4785, 4786, 4787, 4788, 4789, 4790, 4791, 4792, 4793, 4794, 4795, 4796, 4797, 4798, 4799, 4800, 4801, 4802, 4803, 4804, 4805, 4806, 4807, 4808, 4809, 4810, 4811, 4812, 4813, 4814, 4815, 4816, 4817, 4818, 4819, 4820, 4821, 4822, 4823, 4824, 4825, 4826, 4827, 4828, 4829, 4830, 4831, 4832, 4833, 4834, 4835, 4836, 4837, 4838, 4839, 4840, 4841, 4842, 4843, 4844, 4845, 4846, 4847, 4848, 4849, 4850, 4851, 4852, 4853, 4854, 4855, 4856, 4857, 4858, 4859, 4860, 4861, 4862, 4863, 4864, 4865, 4866, 4867, 4868, 4869, 4870, 4871, 4872, 4873, 4874, 4875, 4876, 4877, 4878, 4879, 4880, 4881, 4882, 4883, 4884, 4885, 4886, 4887, 4888, 4889, 4890, 4891, 4892, 4893, 4894, 4895, 4896, 4897, 4898, 4899, 4900, 4901, 4902, 4903, 4904, 4905, 4906, 4907, 4908, 4909, 4910, 4911, 4912, 4913, 4914, 4915, 4916, 4917, 4918, 4919, 4920, 4921, 4922, 4923, 4924, 4925, 4926, 4927, 4928, 4929, 4930, 4931, 4932, 4933, 4934, 4935, 4936, 4937, 4938, 4939, 4940, 4941, 4942, 4943, 4944, 4945, 4946, 4947, 4948, 4949, 4950, 4951, 4952, 4953, 4954, 4955, 4956, 4957, 4958, 4959, 4960, 4961, 4962, 4963, 4964, 4965, 4966, 4967, 4968, 4969, 4970, 4971, 4972, 4973, 4974, 4975, 4976, 4977, 4978, 4979, 4980, 4981, 4982, 4983, 4984, 4985, 4986, 4987, 4988, 4989, 4990, 4991, 4992, 4993, 4994, 4995, 4996, 4997, 4998, 4999]\n",
      "      0     1     2     3     4     5     6     7     8     9     ...  4990  \\\n",
      "0      0.0   0.0   0.0   0.0   0.0   0.0   0.0   0.0   0.0   0.0  ...   0.0   \n",
      "1      0.0   0.0   0.0   0.0   0.0   0.0   0.0   0.0   0.0   0.0  ...   0.0   \n",
      "2      0.0   0.0   0.0   0.0   0.0   0.0   0.0   0.0   0.0   0.0  ...   0.0   \n",
      "3      0.0   0.0   0.0   0.0   0.0   0.0   0.0   0.0   0.0   0.0  ...   0.0   \n",
      "4      0.0   0.0   5.0   0.0   0.0   0.0   0.0   0.0   0.0   0.0  ...   0.0   \n",
      "...    ...   ...   ...   ...   ...   ...   ...   ...   ...   ...  ...   ...   \n",
      "4995   0.0   0.0   0.0   0.0   0.0   0.0   0.0   0.0   0.0   0.0  ...   0.0   \n",
      "4996   0.0   1.0   0.0   0.0   0.0   0.0   0.0   0.0   0.0   0.0  ...   0.0   \n",
      "4997   0.0   0.0   0.0   0.0   0.0   0.0   0.0   0.0   0.0   0.0  ...   0.0   \n",
      "4998   0.0   0.0   0.0   0.0   0.0   0.0   0.0   0.0   4.0   0.0  ...   0.0   \n",
      "4999   0.0   0.0   0.0   0.0   0.0   0.0   0.0   0.0   0.0   0.0  ...   0.0   \n",
      "\n",
      "      4991  4992  4993  4994  4995  4996  4997  4998  4999  \n",
      "0      0.0   0.0   0.0   0.0   0.0   0.0   0.0   0.0   0.0  \n",
      "1      0.0   0.0   0.0   0.0   0.0   0.0   0.0   0.0   0.0  \n",
      "2      0.0   0.0   0.0   0.0   0.0   0.0   0.0   0.0   0.0  \n",
      "3      0.0   0.0   0.0   0.0   0.0   0.0   0.0   0.0   0.0  \n",
      "4      0.0   0.0   0.0   0.0   0.0   0.0   0.0   0.0   0.0  \n",
      "...    ...   ...   ...   ...   ...   ...   ...   ...   ...  \n",
      "4995   0.0   0.0   0.0   0.0   0.0   0.0   0.0   0.0   0.0  \n",
      "4996   0.0   0.0   0.0   0.0   0.0   0.0   0.0   0.0   0.0  \n",
      "4997   0.0   0.0   0.0   0.0   0.0   0.0   0.0   0.0   0.0  \n",
      "4998   0.0   0.0   0.0   0.0   0.0   0.0   0.0   0.0   0.0  \n",
      "4999   0.0   0.0   0.0   0.0   0.0   0.0   0.0   0.0   0.0  \n",
      "\n",
      "[5000 rows x 5000 columns]\n"
     ]
    }
   ],
   "source": [
    "for i in range(0,5000):\n",
    "  col_names[i]=i\n",
    "print(col_names)  \n",
    "interactions_matrix_small.columns=col_names\n",
    "\n",
    "\n",
    "for i in range(0,5000):\n",
    "  row_names[i]=i\n",
    "interactions_matrix_small.index=row_names  \n",
    "\n",
    "print(interactions_matrix_small)"
   ]
  },
  {
   "cell_type": "markdown",
   "metadata": {
    "id": "igwUDVYNnuOs"
   },
   "source": [
    "Below is one of the techniques to measure similarity of different users using **cosine similarities**.  Here each user is denoted by a **vector of 5000 dimensions**. Then we will find out pairwise **cosine similarities** for all the users. If two vectors i.e. users are exactly same or lie on top each other, then they are most similar and cosine similarity will be 1"
   ]
  },
  {
   "cell_type": "markdown",
   "metadata": {
    "id": "eYksF_ie4Fce"
   },
   "source": [
    "Now, create a **function to find similar users and similarity scores for given user_id and interaction matrix**"
   ]
  },
  {
   "cell_type": "code",
   "execution_count": 54,
   "metadata": {
    "executionInfo": {
     "elapsed": 135,
     "status": "ok",
     "timestamp": 1628784363612,
     "user": {
      "displayName": "xiaoyue luo",
      "photoUrl": "",
      "userId": "08961633824417457060"
     },
     "user_tz": 420
    },
    "id": "uKtKt2-KssG4"
   },
   "outputs": [],
   "source": [
    "def similar_users(j, interactions_matrix_small):\n",
    "    similarity = [] \n",
    "    for user in interactions_matrix_small.index:\n",
    "        \n",
    "        #finding cosine similarity between the user_id and each user\n",
    "        \n",
    "        sim = cosine_similarity([interactions_matrix_small.loc[j]], [interactions_matrix_small.loc[user]])\n",
    "        \n",
    "            #Appending the user and the corresponding similarity score with user_id as a tuple \n",
    "        similarity.append((user, sim))\n",
    "        \n",
    "    similarity.sort(key=lambda x: x[1], reverse=True)   #Sorting the list on the basis of similarity scores\n",
    "    \n",
    "    most_similar_users = [tup[0] for tup in similarity] #Extracting the user from each tuple in the sorted list\n",
    "    \n",
    "    similarity_score = [tup[1] for tup in similarity]   #Extracting the similarity score from each tuple in the sorted list\n",
    "    \n",
    "    most_similar_users.remove(j)                  #Removing the original user and keeping only other similar users       \n",
    "    similarity_score.remove(similarity_score[0])\n",
    "       \n",
    "    return most_similar_users, similarity_score"
   ]
  },
  {
   "cell_type": "markdown",
   "metadata": {
    "id": "JmpEcU6nb7zP"
   },
   "source": [
    "**We can use this function to find similar users for different user_id.**"
   ]
  },
  {
   "cell_type": "markdown",
   "metadata": {
    "id": "bgrNym8KZXs6"
   },
   "source": [
    "#### Find out top 10 similar users to the user_id corresponding to index=3 and their similarity score.\n"
   ]
  },
  {
   "cell_type": "code",
   "execution_count": 55,
   "metadata": {
    "colab": {
     "base_uri": "https://localhost:8080/",
     "height": 0
    },
    "executionInfo": {
     "elapsed": 3651,
     "status": "ok",
     "timestamp": 1628784379739,
     "user": {
      "displayName": "xiaoyue luo",
      "photoUrl": "",
      "userId": "08961633824417457060"
     },
     "user_tz": 420
    },
    "id": "pDwp0uZljdpK",
    "outputId": "07e90e3a-1d6a-459f-c5dc-97cda2211840"
   },
   "outputs": [
    {
     "data": {
      "text/plain": [
       "[4353, 3693, 4349, 1600, 3550, 3696, 223, 3123, 2731, 4323]"
      ]
     },
     "execution_count": 55,
     "metadata": {},
     "output_type": "execute_result"
    }
   ],
   "source": [
    "similar_users(3, interactions_matrix_small)[0][:10]"
   ]
  },
  {
   "cell_type": "markdown",
   "metadata": {
    "id": "n2aOgS55mKLC"
   },
   "source": [
    "#### Find out top 10 similar users to the user_id corresponding to index=200 and their similarity score."
   ]
  },
  {
   "cell_type": "code",
   "execution_count": 56,
   "metadata": {
    "colab": {
     "base_uri": "https://localhost:8080/",
     "height": 0
    },
    "executionInfo": {
     "elapsed": 3666,
     "status": "ok",
     "timestamp": 1628784434693,
     "user": {
      "displayName": "xiaoyue luo",
      "photoUrl": "",
      "userId": "08961633824417457060"
     },
     "user_tz": 420
    },
    "id": "_skSPyD-ssG4",
    "outputId": "6fa1a64f-2cef-40d1-ef4e-0d20b91bd9c6"
   },
   "outputs": [
    {
     "data": {
      "text/plain": [
       "[1725, 3353, 3552, 1256, 1325, 1417, 1493, 2583, 3196, 1438]"
      ]
     },
     "execution_count": 56,
     "metadata": {},
     "output_type": "execute_result"
    }
   ],
   "source": [
    "similar_users(200, interactions_matrix_small)[0][:10]"
   ]
  },
  {
   "cell_type": "markdown",
   "metadata": {
    "id": "Blf-Kh84wxzQ"
   },
   "source": [
    "- These are the top 10 users that are most similar to the user with index 200.\n",
    "\n",
    "We can also find the level of similarity between similar users and the user with index n."
   ]
  },
  {
   "cell_type": "code",
   "execution_count": 57,
   "metadata": {
    "id": "m26ZFNlGssG4"
   },
   "outputs": [
    {
     "data": {
      "text/plain": [
       "[array([[0.31673558]]),\n",
       " array([[0.28423399]]),\n",
       " array([[0.25854406]]),\n",
       " array([[0.25389626]]),\n",
       " array([[0.24911423]]),\n",
       " array([[0.24771717]]),\n",
       " array([[0.24124435]]),\n",
       " array([[0.24047396]]),\n",
       " array([[0.23285617]]),\n",
       " array([[0.22003988]])]"
      ]
     },
     "execution_count": 57,
     "metadata": {},
     "output_type": "execute_result"
    }
   ],
   "source": [
    "similar_users(200, interactions_matrix_small)[1][:10]"
   ]
  },
  {
   "cell_type": "markdown",
   "metadata": {
    "id": "vq6VtHdExr3K"
   },
   "source": [
    "Next, we find the **songs which have been played the most by similar users** but not by the user of interest.\n",
    "\n",
    "Now, create a function to do it."
   ]
  },
  {
   "cell_type": "code",
   "execution_count": 58,
   "metadata": {
    "executionInfo": {
     "elapsed": 162,
     "status": "ok",
     "timestamp": 1628784566462,
     "user": {
      "displayName": "xiaoyue luo",
      "photoUrl": "",
      "userId": "08961633824417457060"
     },
     "user_tz": 420
    },
    "id": "MSLGrPtZssG5"
   },
   "outputs": [],
   "source": [
    "def recommendations(j, num_of_songs, interactions_matrix_small):\n",
    "    \n",
    "    #Saving similar users using the function similar_users defined above\n",
    "    most_similar_users = similar_users(j, interactions_matrix_small)[0]  \n",
    "    \n",
    "    #Finding song_id s with which the user j has interacted\n",
    "    song_ids = set(list(interactions_matrix_small.columns[np.where(interactions_matrix_small.loc[j] > 0)]))\n",
    "    recommendations = []\n",
    "    \n",
    "    observed_interactions = song_ids.copy()\n",
    "    for similar_user in most_similar_users:\n",
    "        if len(recommendations) < num_of_songs:\n",
    "            #Finding 'n' songs which have been played by similar users but not by the user_id\n",
    "            similar_user_song_ids = set(list(interactions_matrix_small.columns[np.where(interactions_matrix_small.loc[similar_user] > 0)]))\n",
    "            recommendations.extend(list(similar_user_song_ids.difference(observed_interactions)))\n",
    "            observed_interactions = observed_interactions.union(similar_user_song_ids)\n",
    "        else:\n",
    "            break\n",
    "    \n",
    "    return recommendations[:num_of_songs]"
   ]
  },
  {
   "cell_type": "markdown",
   "metadata": {
    "id": "mGlPQa0TzJjY"
   },
   "source": [
    "Finally, we can recommend **`n`** number of songs to any user using the function defined above. "
   ]
  },
  {
   "cell_type": "markdown",
   "metadata": {
    "id": "8vVlowChzPEA"
   },
   "source": [
    "#### **Recommend 10 songs to user with index 200 based on similarity based collaborative filtering**"
   ]
  },
  {
   "cell_type": "code",
   "execution_count": 59,
   "metadata": {
    "colab": {
     "base_uri": "https://localhost:8080/",
     "height": 0
    },
    "executionInfo": {
     "elapsed": 3672,
     "status": "ok",
     "timestamp": 1628784582219,
     "user": {
      "displayName": "xiaoyue luo",
      "photoUrl": "",
      "userId": "08961633824417457060"
     },
     "user_tz": 420
    },
    "id": "b7Agm9g4zZBX",
    "outputId": "f2e76d06-a3da-42fb-d104-9ae8ccb2ac75"
   },
   "outputs": [
    {
     "data": {
      "text/plain": [
       "[896, 4481, 3, 3076, 2565, 3715, 1670, 3082, 2828, 2830]"
      ]
     },
     "execution_count": 59,
     "metadata": {},
     "output_type": "execute_result"
    }
   ],
   "source": [
    "recommendations(200, 10, interactions_matrix_small)"
   ]
  },
  {
   "cell_type": "code",
   "execution_count": 60,
   "metadata": {
    "executionInfo": {
     "elapsed": 149,
     "status": "ok",
     "timestamp": 1628784602177,
     "user": {
      "displayName": "xiaoyue luo",
      "photoUrl": "",
      "userId": "08961633824417457060"
     },
     "user_tz": 420
    },
    "id": "GJWA17534ZSP"
   },
   "outputs": [],
   "source": [
    "def get_the_title(index):\n",
    "    return df_small[df_small.index==index]['title'].values[0]\n",
    "    "
   ]
  },
  {
   "cell_type": "code",
   "execution_count": 61,
   "metadata": {
    "colab": {
     "base_uri": "https://localhost:8080/",
     "height": 35
    },
    "executionInfo": {
     "elapsed": 146,
     "status": "ok",
     "timestamp": 1628784611278,
     "user": {
      "displayName": "xiaoyue luo",
      "photoUrl": "",
      "userId": "08961633824417457060"
     },
     "user_tz": 420
    },
    "id": "qCeCMxHR4pmq",
    "outputId": "23e50ee9-e368-4750-8d51-453afb27be4b"
   },
   "outputs": [
    {
     "data": {
      "text/plain": [
       "'Clocks'"
      ]
     },
     "execution_count": 61,
     "metadata": {},
     "output_type": "execute_result"
    }
   ],
   "source": [
    "get_the_title(3)"
   ]
  },
  {
   "cell_type": "markdown",
   "metadata": {
    "id": "cmMyqkcl5CHW"
   },
   "source": [
    "**Similarity based collaborative filtering requires the interaction matrix to be not too sparse so that similar users or items can be identified. Our data set is too sparse with sparsity 98.15316%. This means we only have about 2% of non empty entries. So similarity based colllaborative filtering does not work well in this situation. Therefore, I will consider model based collaborative filtering using matrix factorization.**"
   ]
  },
  {
   "cell_type": "markdown",
   "metadata": {
    "id": "B_YA9hlg0IeM"
   },
   "source": [
    "### **3. Model Based Collaborative Filtering - Matrix Factorization.**"
   ]
  },
  {
   "cell_type": "markdown",
   "metadata": {
    "id": "65LJHqBn0PhJ"
   },
   "source": [
    "- Model-based Collaborative Filtering is a **personalized recommendation system**, the recommendations are based on the past behavior of the user and it is not dependent on any additional information. We use **latent features** to find recommendations for each user.\n",
    "- I will use **SVD** to compute the latent features from the user-item matrix that we already learned earlier. But SVD does not work when we missing values in the user-item matrix.\n",
    "- I already found the user-item matrix when computing cosine similarity. The matrix is given by **interactions_matrix_small**."
   ]
  },
  {
   "cell_type": "markdown",
   "metadata": {
    "id": "TO33J_ar1E0b"
   },
   "source": [
    "Perform the decomposition using the **`svd() function`** from the linalg module of the NumPy library."
   ]
  },
  {
   "cell_type": "code",
   "execution_count": 62,
   "metadata": {
    "executionInfo": {
     "elapsed": 99226,
     "status": "ok",
     "timestamp": 1628784775077,
     "user": {
      "displayName": "xiaoyue luo",
      "photoUrl": "",
      "userId": "08961633824417457060"
     },
     "user_tz": 420
    },
    "id": "VkyfZoFY1N6E"
   },
   "outputs": [],
   "source": [
    "u, s, vt = np.linalg.svd(interactions_matrix_small, full_matrices=False)"
   ]
  },
  {
   "cell_type": "code",
   "execution_count": 63,
   "metadata": {
    "colab": {
     "base_uri": "https://localhost:8080/",
     "height": 0
    },
    "executionInfo": {
     "elapsed": 154,
     "status": "ok",
     "timestamp": 1628784778378,
     "user": {
      "displayName": "xiaoyue luo",
      "photoUrl": "",
      "userId": "08961633824417457060"
     },
     "user_tz": 420
    },
    "id": "XbsmfImA1cr-",
    "outputId": "3d942f86-64c0-4fb1-88a9-8fa8b2cdf399"
   },
   "outputs": [
    {
     "data": {
      "text/plain": [
       "(5000, 5000)"
      ]
     },
     "execution_count": 63,
     "metadata": {},
     "output_type": "execute_result"
    }
   ],
   "source": [
    "u.shape "
   ]
  },
  {
   "cell_type": "code",
   "execution_count": 64,
   "metadata": {
    "colab": {
     "base_uri": "https://localhost:8080/",
     "height": 0
    },
    "executionInfo": {
     "elapsed": 142,
     "status": "ok",
     "timestamp": 1628784780012,
     "user": {
      "displayName": "xiaoyue luo",
      "photoUrl": "",
      "userId": "08961633824417457060"
     },
     "user_tz": 420
    },
    "id": "GwZqC-Xl1dtm",
    "outputId": "55c66366-3a6e-4027-88bc-f8978906cc99"
   },
   "outputs": [
    {
     "data": {
      "text/plain": [
       "(5000,)"
      ]
     },
     "execution_count": 64,
     "metadata": {},
     "output_type": "execute_result"
    }
   ],
   "source": [
    "s.shape"
   ]
  },
  {
   "cell_type": "code",
   "execution_count": 65,
   "metadata": {
    "colab": {
     "base_uri": "https://localhost:8080/",
     "height": 0
    },
    "executionInfo": {
     "elapsed": 182,
     "status": "ok",
     "timestamp": 1628784781547,
     "user": {
      "displayName": "xiaoyue luo",
      "photoUrl": "",
      "userId": "08961633824417457060"
     },
     "user_tz": 420
    },
    "id": "anIkBd5e1gR5",
    "outputId": "90deb44b-01cf-4905-a21a-fcf3fc722d68"
   },
   "outputs": [
    {
     "data": {
      "text/plain": [
       "(5000, 5000)"
      ]
     },
     "execution_count": 65,
     "metadata": {},
     "output_type": "execute_result"
    }
   ],
   "source": [
    "vt.shape"
   ]
  },
  {
   "cell_type": "markdown",
   "metadata": {
    "id": "pZ0XEQyO1itz"
   },
   "source": [
    "**Splitting the dataset and selecting optimal latent variables**\n",
    "Now, we need to find the appropriate K to use in order to re-generate the interaction matrix and make predictions. We will split the data into **train and test data** and make predictions for different value of K. We will choose the K which gives good performance on the train and test data.\n",
    "\n",
    "Split the data into train and test data."
   ]
  },
  {
   "cell_type": "code",
   "execution_count": 66,
   "metadata": {
    "executionInfo": {
     "elapsed": 314,
     "status": "ok",
     "timestamp": 1628784786581,
     "user": {
      "displayName": "xiaoyue luo",
      "photoUrl": "",
      "userId": "08961633824417457060"
     },
     "user_tz": 420
    },
    "id": "NxEC0j1R1zyy"
   },
   "outputs": [],
   "source": [
    "X_train, X_test = train_test_split(df_small, test_size=0.2, random_state=42)"
   ]
  },
  {
   "cell_type": "code",
   "execution_count": 67,
   "metadata": {
    "colab": {
     "base_uri": "https://localhost:8080/",
     "height": 0
    },
    "executionInfo": {
     "elapsed": 202,
     "status": "ok",
     "timestamp": 1628784788038,
     "user": {
      "displayName": "xiaoyue luo",
      "photoUrl": "",
      "userId": "08961633824417457060"
     },
     "user_tz": 420
    },
    "id": "OR7_cfKa11ct",
    "outputId": "11d13698-1edb-432b-b6cb-8623a28c891e"
   },
   "outputs": [
    {
     "data": {
      "text/plain": [
       "(369289, 8)"
      ]
     },
     "execution_count": 67,
     "metadata": {},
     "output_type": "execute_result"
    }
   ],
   "source": [
    "X_train.shape # want to do this to get the best version of number of ..."
   ]
  },
  {
   "cell_type": "code",
   "execution_count": 68,
   "metadata": {
    "colab": {
     "base_uri": "https://localhost:8080/",
     "height": 0
    },
    "executionInfo": {
     "elapsed": 141,
     "status": "ok",
     "timestamp": 1628784790418,
     "user": {
      "displayName": "xiaoyue luo",
      "photoUrl": "",
      "userId": "08961633824417457060"
     },
     "user_tz": 420
    },
    "id": "xnCpOMpu16zj",
    "outputId": "ab54b30a-dee9-4d1a-dae2-c1cd30e44be7"
   },
   "outputs": [
    {
     "data": {
      "text/plain": [
       "(92323, 8)"
      ]
     },
     "execution_count": 68,
     "metadata": {},
     "output_type": "execute_result"
    }
   ],
   "source": [
    "X_test.shape"
   ]
  },
  {
   "cell_type": "markdown",
   "metadata": {
    "id": "GR1VJZRi2AnO"
   },
   "source": [
    "Create the **train and test interactions matrices**."
   ]
  },
  {
   "cell_type": "code",
   "execution_count": 69,
   "metadata": {
    "executionInfo": {
     "elapsed": 1468,
     "status": "ok",
     "timestamp": 1628784803128,
     "user": {
      "displayName": "xiaoyue luo",
      "photoUrl": "",
      "userId": "08961633824417457060"
     },
     "user_tz": 420
    },
    "id": "hbofysWzv73n"
   },
   "outputs": [],
   "source": [
    "#Train interaction matrix\n",
    "interactions_matrix_train = X_train.pivot(index='user_id', columns='song_id', values='play_count')\n",
    "interactions_matrix_train.fillna(0, inplace=True)"
   ]
  },
  {
   "cell_type": "code",
   "execution_count": 70,
   "metadata": {
    "colab": {
     "base_uri": "https://localhost:8080/",
     "height": 0
    },
    "executionInfo": {
     "elapsed": 142,
     "status": "ok",
     "timestamp": 1628784805833,
     "user": {
      "displayName": "xiaoyue luo",
      "photoUrl": "",
      "userId": "08961633824417457060"
     },
     "user_tz": 420
    },
    "id": "2rGQx0-028X-",
    "outputId": "dd209723-9c52-4315-f0c1-ab0fc94b6f58"
   },
   "outputs": [
    {
     "data": {
      "text/plain": [
       "(5000, 5000)"
      ]
     },
     "execution_count": 70,
     "metadata": {},
     "output_type": "execute_result"
    }
   ],
   "source": [
    "interactions_matrix_train.shape"
   ]
  },
  {
   "cell_type": "code",
   "execution_count": 71,
   "metadata": {
    "executionInfo": {
     "elapsed": 1608,
     "status": "ok",
     "timestamp": 1628784810391,
     "user": {
      "displayName": "xiaoyue luo",
      "photoUrl": "",
      "userId": "08961633824417457060"
     },
     "user_tz": 420
    },
    "id": "Ro_szwbtwaLy"
   },
   "outputs": [],
   "source": [
    "#Test interaction matrix\n",
    "interactions_matrix_test = X_test.pivot(index='user_id', columns='song_id', values='play_count')\n",
    "interactions_matrix_test.fillna(0, inplace=True)"
   ]
  },
  {
   "cell_type": "code",
   "execution_count": 72,
   "metadata": {
    "colab": {
     "base_uri": "https://localhost:8080/",
     "height": 0
    },
    "executionInfo": {
     "elapsed": 135,
     "status": "ok",
     "timestamp": 1628784813765,
     "user": {
      "displayName": "xiaoyue luo",
      "photoUrl": "",
      "userId": "08961633824417457060"
     },
     "user_tz": 420
    },
    "id": "UPUxH80dwkaf",
    "outputId": "80eb3458-9496-4bbe-d561-851bd9fc556d"
   },
   "outputs": [
    {
     "data": {
      "text/plain": [
       "(5000, 4996)"
      ]
     },
     "execution_count": 72,
     "metadata": {},
     "output_type": "execute_result"
    }
   ],
   "source": [
    "interactions_matrix_test.shape"
   ]
  },
  {
   "cell_type": "markdown",
   "metadata": {
    "id": "wzIsom1s3HI9"
   },
   "source": [
    "I will use the **interactions_matrix_train** to find U, S, and V transpose using SVD. Then find the subset of rows in the **interactions_matrix_test** dataset which I can predict using this matrix decomposition with different numbers of latent features."
   ]
  },
  {
   "cell_type": "code",
   "execution_count": 73,
   "metadata": {
    "executionInfo": {
     "elapsed": 352,
     "status": "ok",
     "timestamp": 1628784821023,
     "user": {
      "displayName": "xiaoyue luo",
      "photoUrl": "",
      "userId": "08961633824417457060"
     },
     "user_tz": 420
    },
    "id": "-zX78nDb3Spw"
   },
   "outputs": [],
   "source": [
    "#Finding unique users in train and test data and then taking their intersection i.e. common users in train and test data \n",
    "train_idx = set(interactions_matrix_train.index)\n",
    "test_idx = set(interactions_matrix_test.index)\n",
    "match_idx = train_idx.intersection(test_idx)\n",
    "    \n",
    "#Finding unique songs in train and test data and then taking their intersection\n",
    "#i.e. common songs in train and test data \n",
    "train_songs = set(interactions_matrix_train.columns)\n",
    "test_songs = set(interactions_matrix_test.columns)\n",
    "match_cols = train_songs.intersection(test_songs)\n",
    "\n",
    "#Selecting only common users and songs from the test interaction matrix\n",
    "interactions_matrix_test = interactions_matrix_test.loc[match_idx, match_cols]"
   ]
  },
  {
   "cell_type": "code",
   "execution_count": 74,
   "metadata": {
    "colab": {
     "base_uri": "https://localhost:8080/",
     "height": 0
    },
    "executionInfo": {
     "elapsed": 133,
     "status": "ok",
     "timestamp": 1628784823946,
     "user": {
      "displayName": "xiaoyue luo",
      "photoUrl": "",
      "userId": "08961633824417457060"
     },
     "user_tz": 420
    },
    "id": "KHmC5T_x3j1w",
    "outputId": "382303a1-43dd-42d5-dfdf-b15d28c0cc6d"
   },
   "outputs": [
    {
     "data": {
      "text/plain": [
       "(5000, 4996)"
      ]
     },
     "execution_count": 74,
     "metadata": {},
     "output_type": "execute_result"
    }
   ],
   "source": [
    "interactions_matrix_test.shape"
   ]
  },
  {
   "cell_type": "markdown",
   "metadata": {
    "id": "Wxi4C5WW3oYZ"
   },
   "source": [
    "Now, let's decompose the **interactions_matrix_train** and **find the U and Vt for the test data** using the common users and movies in the train and test data."
   ]
  },
  {
   "cell_type": "code",
   "execution_count": 75,
   "metadata": {
    "executionInfo": {
     "elapsed": 99940,
     "status": "ok",
     "timestamp": 1628784928324,
     "user": {
      "displayName": "xiaoyue luo",
      "photoUrl": "",
      "userId": "08961633824417457060"
     },
     "user_tz": 420
    },
    "id": "q2M0kV1r3uY9"
   },
   "outputs": [],
   "source": [
    "u_train, s_train, vt_train = np.linalg.svd(interactions_matrix_train, full_matrices=False)"
   ]
  },
  {
   "cell_type": "code",
   "execution_count": 76,
   "metadata": {
    "executionInfo": {
     "elapsed": 534,
     "status": "ok",
     "timestamp": 1628784960086,
     "user": {
      "displayName": "xiaoyue luo",
      "photoUrl": "",
      "userId": "08961633824417457060"
     },
     "user_tz": 420
    },
    "id": "J2gX-hqO2GRk"
   },
   "outputs": [],
   "source": [
    "#Finding u_test and vt_test matrices using u_train, vt_train and common user/movies in train and test data\n",
    "row_idxs = interactions_matrix_train.index.isin(test_idx)\n",
    "col_idxs = interactions_matrix_train.columns.isin(test_songs)\n",
    "u_test = u_train[row_idxs, :]\n",
    "vt_test = vt_train[:, col_idxs]"
   ]
  },
  {
   "cell_type": "markdown",
   "metadata": {
    "id": "G0DDULv9x-ED"
   },
   "source": [
    "We have calculated U and Vt matrices for the train as well as test data. Now, we need to find the number of latent features that give us the **lowest RMSE on the train and the test data**."
   ]
  },
  {
   "cell_type": "code",
   "execution_count": 77,
   "metadata": {
    "colab": {
     "base_uri": "https://localhost:8080/",
     "height": 448
    },
    "executionInfo": {
     "elapsed": 71261,
     "status": "ok",
     "timestamp": 1628785050950,
     "user": {
      "displayName": "xiaoyue luo",
      "photoUrl": "",
      "userId": "08961633824417457060"
     },
     "user_tz": 420
    },
    "id": "nwazu2vSx9WB",
    "outputId": "807ea8c2-87f0-445a-bec2-295a69f61119"
   },
   "outputs": [
    {
     "data": {
      "image/png": "[encoded data removed]",
      "text/plain": [
       "<Figure size 720x504 with 1 Axes>"
      ]
     },
     "metadata": {},
     "output_type": "display_data"
    }
   ],
   "source": [
    "#Creating array for number of latent features and empty lists to store train and test errors\n",
    "latent_features = np.arange(0, 710, 20) \n",
    "train_error = []\n",
    "test_error = []\n",
    "\n",
    "for k in latent_features:\n",
    "    #Slicing the U, S, and Vt matrices to get k latent features from train and test data \n",
    "    s_train_lat, u_train_lat, vt_train_lat = np.diag(s_train[:k]), u_train[:, :k], vt_train[:k, :]\n",
    "    u_test_lat, vt_test_lat = u_test[:, :k], vt_test[:k, :]\n",
    "    \n",
    "    #Regenerating train and test interaction matrices using k latent features\n",
    "    interactions_matrix_train_preds = np.around(np.matmul(np.matmul(u_train_lat, s_train_lat), vt_train_lat))\n",
    "    interactions_matrix_test_preds = np.around(np.matmul(np.matmul(u_test_lat, s_train_lat), vt_test_lat))\n",
    "    \n",
    "    #Calculating the actual and predicted average play_count for each song in the training data\n",
    "    avg_play_count_train = interactions_matrix_train.mean(axis=0)\n",
    "    avg_play_count_train_pred = interactions_matrix_train_preds.mean(axis=0)\n",
    "    \n",
    "    #Calculating the actual and predicted average play_count for each song in the test data\n",
    "    avg_play_count_test = interactions_matrix_test.mean(axis=0)\n",
    "    avg_play_count_test_pred = interactions_matrix_test_preds.mean(axis=0)\n",
    "    \n",
    "    #Calculating train and test RMSE\n",
    "    train_rmse = mean_squared_error(avg_play_count_train, avg_play_count_train_pred, squared=False)\n",
    "    test_rmse = mean_squared_error(avg_play_count_test, avg_play_count_test_pred, squared=False)\n",
    "    \n",
    "    train_error.append(train_rmse)\n",
    "    test_error.append(test_rmse)\n",
    "    \n",
    "#Plotting train and test RMSE\n",
    "plt.figure(figsize=(10,7))\n",
    "plt.plot(latent_features, train_error, label='Train', marker='o');\n",
    "plt.plot(latent_features, test_error, label='Test', marker='o');\n",
    "plt.xlabel('Number of Latent Features');\n",
    "plt.ylabel('RMSE');\n",
    "plt.legend();"
   ]
  },
  {
   "cell_type": "markdown",
   "metadata": {
    "id": "TzIJg6ikz40m"
   },
   "source": [
    "From the above plot we can see that we got a **reasonable RMSE in both train and test dataset has  latent features be less than 100.** If we increase the latent features it will be overfitted and decreasing the latent features will underfit the model."
   ]
  },
  {
   "cell_type": "markdown",
   "metadata": {
    "id": "zlwPSgxT0CV6"
   },
   "source": [
    "Reconstruct the original interaction matrix using latent features = 10 in the same way as above"
   ]
  },
  {
   "cell_type": "code",
   "execution_count": 78,
   "metadata": {
    "colab": {
     "base_uri": "https://localhost:8080/",
     "height": 252
    },
    "executionInfo": {
     "elapsed": 591,
     "status": "ok",
     "timestamp": 1628785141114,
     "user": {
      "displayName": "xiaoyue luo",
      "photoUrl": "",
      "userId": "08961633824417457060"
     },
     "user_tz": 420
    },
    "id": "yAmlSrqT0HNg",
    "outputId": "fd3bd3b9-244e-40bb-c865-56b7ff535d45"
   },
   "outputs": [
    {
     "data": {
      "text/html": [
       "<div>\n",
       "<style scoped>\n",
       "    .dataframe tbody tr th:only-of-type {\n",
       "        vertical-align: middle;\n",
       "    }\n",
       "\n",
       "    .dataframe tbody tr th {\n",
       "        vertical-align: top;\n",
       "    }\n",
       "\n",
       "    .dataframe thead th {\n",
       "        text-align: right;\n",
       "    }\n",
       "</style>\n",
       "<table border=\"1\" class=\"dataframe\">\n",
       "  <thead>\n",
       "    <tr style=\"text-align: right;\">\n",
       "      <th></th>\n",
       "      <th>0</th>\n",
       "      <th>1</th>\n",
       "      <th>2</th>\n",
       "      <th>3</th>\n",
       "      <th>4</th>\n",
       "      <th>5</th>\n",
       "      <th>6</th>\n",
       "      <th>7</th>\n",
       "      <th>8</th>\n",
       "      <th>9</th>\n",
       "      <th>...</th>\n",
       "      <th>4990</th>\n",
       "      <th>4991</th>\n",
       "      <th>4992</th>\n",
       "      <th>4993</th>\n",
       "      <th>4994</th>\n",
       "      <th>4995</th>\n",
       "      <th>4996</th>\n",
       "      <th>4997</th>\n",
       "      <th>4998</th>\n",
       "      <th>4999</th>\n",
       "    </tr>\n",
       "  </thead>\n",
       "  <tbody>\n",
       "    <tr>\n",
       "      <th>0</th>\n",
       "      <td>0.0</td>\n",
       "      <td>0.0</td>\n",
       "      <td>0.0</td>\n",
       "      <td>0.0</td>\n",
       "      <td>0.0</td>\n",
       "      <td>0.0</td>\n",
       "      <td>0.0</td>\n",
       "      <td>0.0</td>\n",
       "      <td>0.0</td>\n",
       "      <td>0.0</td>\n",
       "      <td>...</td>\n",
       "      <td>0.0</td>\n",
       "      <td>0.0</td>\n",
       "      <td>0.0</td>\n",
       "      <td>0.0</td>\n",
       "      <td>0.0</td>\n",
       "      <td>0.0</td>\n",
       "      <td>0.0</td>\n",
       "      <td>0.0</td>\n",
       "      <td>0.0</td>\n",
       "      <td>0.0</td>\n",
       "    </tr>\n",
       "    <tr>\n",
       "      <th>1</th>\n",
       "      <td>0.0</td>\n",
       "      <td>0.0</td>\n",
       "      <td>0.0</td>\n",
       "      <td>0.0</td>\n",
       "      <td>0.0</td>\n",
       "      <td>0.0</td>\n",
       "      <td>0.0</td>\n",
       "      <td>0.0</td>\n",
       "      <td>0.0</td>\n",
       "      <td>0.0</td>\n",
       "      <td>...</td>\n",
       "      <td>0.0</td>\n",
       "      <td>0.0</td>\n",
       "      <td>0.0</td>\n",
       "      <td>0.0</td>\n",
       "      <td>0.0</td>\n",
       "      <td>0.0</td>\n",
       "      <td>0.0</td>\n",
       "      <td>0.0</td>\n",
       "      <td>0.0</td>\n",
       "      <td>0.0</td>\n",
       "    </tr>\n",
       "    <tr>\n",
       "      <th>2</th>\n",
       "      <td>0.0</td>\n",
       "      <td>0.0</td>\n",
       "      <td>0.0</td>\n",
       "      <td>0.0</td>\n",
       "      <td>0.0</td>\n",
       "      <td>0.0</td>\n",
       "      <td>0.0</td>\n",
       "      <td>0.0</td>\n",
       "      <td>0.0</td>\n",
       "      <td>0.0</td>\n",
       "      <td>...</td>\n",
       "      <td>0.0</td>\n",
       "      <td>0.0</td>\n",
       "      <td>0.0</td>\n",
       "      <td>0.0</td>\n",
       "      <td>0.0</td>\n",
       "      <td>0.0</td>\n",
       "      <td>0.0</td>\n",
       "      <td>0.0</td>\n",
       "      <td>0.0</td>\n",
       "      <td>0.0</td>\n",
       "    </tr>\n",
       "    <tr>\n",
       "      <th>3</th>\n",
       "      <td>0.0</td>\n",
       "      <td>0.0</td>\n",
       "      <td>0.0</td>\n",
       "      <td>0.0</td>\n",
       "      <td>0.0</td>\n",
       "      <td>0.0</td>\n",
       "      <td>0.0</td>\n",
       "      <td>0.0</td>\n",
       "      <td>0.0</td>\n",
       "      <td>0.0</td>\n",
       "      <td>...</td>\n",
       "      <td>0.0</td>\n",
       "      <td>0.0</td>\n",
       "      <td>0.0</td>\n",
       "      <td>0.0</td>\n",
       "      <td>0.0</td>\n",
       "      <td>0.0</td>\n",
       "      <td>0.0</td>\n",
       "      <td>0.0</td>\n",
       "      <td>0.0</td>\n",
       "      <td>0.0</td>\n",
       "    </tr>\n",
       "    <tr>\n",
       "      <th>4</th>\n",
       "      <td>0.0</td>\n",
       "      <td>0.0</td>\n",
       "      <td>0.0</td>\n",
       "      <td>0.0</td>\n",
       "      <td>0.0</td>\n",
       "      <td>0.0</td>\n",
       "      <td>0.0</td>\n",
       "      <td>0.0</td>\n",
       "      <td>0.0</td>\n",
       "      <td>0.0</td>\n",
       "      <td>...</td>\n",
       "      <td>0.0</td>\n",
       "      <td>0.0</td>\n",
       "      <td>0.0</td>\n",
       "      <td>0.0</td>\n",
       "      <td>0.0</td>\n",
       "      <td>0.0</td>\n",
       "      <td>0.0</td>\n",
       "      <td>0.0</td>\n",
       "      <td>0.0</td>\n",
       "      <td>0.0</td>\n",
       "    </tr>\n",
       "  </tbody>\n",
       "</table>\n",
       "<p>5 rows × 5000 columns</p>\n",
       "</div>"
      ],
      "text/plain": [
       "   0     1     2     3     4     5     6     7     8     9     ...  4990  \\\n",
       "0   0.0   0.0   0.0   0.0   0.0   0.0   0.0   0.0   0.0   0.0  ...   0.0   \n",
       "1   0.0   0.0   0.0   0.0   0.0   0.0   0.0   0.0   0.0   0.0  ...   0.0   \n",
       "2   0.0   0.0   0.0   0.0   0.0   0.0   0.0   0.0   0.0   0.0  ...   0.0   \n",
       "3   0.0   0.0   0.0   0.0   0.0   0.0   0.0   0.0   0.0   0.0  ...   0.0   \n",
       "4   0.0   0.0   0.0   0.0   0.0   0.0   0.0   0.0   0.0   0.0  ...   0.0   \n",
       "\n",
       "   4991  4992  4993  4994  4995  4996  4997  4998  4999  \n",
       "0   0.0   0.0   0.0   0.0   0.0   0.0   0.0   0.0   0.0  \n",
       "1   0.0   0.0   0.0   0.0   0.0   0.0   0.0   0.0   0.0  \n",
       "2   0.0   0.0   0.0   0.0   0.0   0.0   0.0   0.0   0.0  \n",
       "3   0.0   0.0   0.0   0.0   0.0   0.0   0.0   0.0   0.0  \n",
       "4   0.0   0.0   0.0   0.0   0.0   0.0   0.0   0.0   0.0  \n",
       "\n",
       "[5 rows x 5000 columns]"
      ]
     },
     "execution_count": 78,
     "metadata": {},
     "output_type": "execute_result"
    }
   ],
   "source": [
    "s_final, u_final, vt_final = np.diag(s[:10]), u[:, :10], vt[:10, :]\n",
    "songs_predicted_play_count = np.around(np.matmul(np.matmul(u_final, s_final), vt_final))\n",
    "songs_predicted_play_count = pd.DataFrame(abs(songs_predicted_play_count), columns = interactions_matrix_small.columns, index = interactions_matrix_small.index)\n",
    "songs_predicted_play_count.head()"
   ]
  },
  {
   "cell_type": "markdown",
   "metadata": {
    "id": "uvLuMsaO7FX2"
   },
   "source": [
    "We have the predictions of play counts but we need to create a **function to recommend songs** to the users on the basis of predicted play counts for each song."
   ]
  },
  {
   "cell_type": "code",
   "execution_count": 79,
   "metadata": {
    "executionInfo": {
     "elapsed": 157,
     "status": "ok",
     "timestamp": 1628785277811,
     "user": {
      "displayName": "xiaoyue luo",
      "photoUrl": "",
      "userId": "08961633824417457060"
     },
     "user_tz": 420
    },
    "id": "hEYcY_iE7PdN"
   },
   "outputs": [],
   "source": [
    "# Recommend the songs with the highest predicted play counts\n",
    "\n",
    "def recommend_songs(user_idx, interactions_matrix_small, preds_df, num_recommendations):\n",
    "          \n",
    "    # Get and sort the user's ratings from the actual and predicted interaction matrix\n",
    "    sorted_user_play_count = interactions_matrix_small.loc[user_idx].sort_values(ascending=False)\n",
    "    sorted_user_predictions = preds_df.loc[user_idx].sort_values(ascending=False)\n",
    "    \n",
    "    #Creating a dataframe with actual and predicted ratings columns\n",
    "    temp = pd.concat([sorted_user_play_count, sorted_user_predictions], axis=1)\n",
    "    temp.index.name = 'Recommended Songs'\n",
    "    temp.columns = ['user_play_count', 'user_predictions']\n",
    "    \n",
    "    #Filtering the dataframe where actual play count are 0 which implies that the user has not interacted with that song.\n",
    "    temp = temp.loc[temp.user_play_count == 0]   \n",
    "    \n",
    "    #Recommending movies with top predicted play counts.\n",
    "    temp = temp.sort_values('user_predictions', ascending=False)\n",
    "    print('\\nBelow are the recommended songs for user(user_id = {}):\\n'.format(user_index))\n",
    "    print(temp['user_predictions'].head(num_recommendations))"
   ]
  },
  {
   "cell_type": "markdown",
   "metadata": {
    "id": "5-8PEDCj78jb"
   },
   "source": [
    "Now, let's use the function defined above to **recommend songs to a user**"
   ]
  },
  {
   "cell_type": "code",
   "execution_count": 80,
   "metadata": {
    "colab": {
     "base_uri": "https://localhost:8080/",
     "height": 0
    },
    "executionInfo": {
     "elapsed": 182,
     "status": "ok",
     "timestamp": 1628785286510,
     "user": {
      "displayName": "xiaoyue luo",
      "photoUrl": "",
      "userId": "08961633824417457060"
     },
     "user_tz": 420
    },
    "id": "WLZ7qSZ08ESJ",
    "outputId": "369ead39-8266-49db-b8eb-e64c12b662b8"
   },
   "outputs": [
    {
     "name": "stdout",
     "output_type": "stream",
     "text": [
      "\n",
      "Below are the recommended songs for user(user_id = 121):\n",
      "\n",
      "Recommended Songs\n",
      "4940    1.0\n",
      "172     1.0\n",
      "3103    1.0\n",
      "1079    1.0\n",
      "3967    1.0\n",
      "43      1.0\n",
      "3356    0.0\n",
      "3335    0.0\n",
      "3340    0.0\n",
      "3339    0.0\n",
      "Name: user_predictions, dtype: float64\n"
     ]
    }
   ],
   "source": [
    "user_index = 121\n",
    "num_recommendations = 10\n",
    "recommend_songs(user_index, interactions_matrix_small, songs_predicted_play_count, num_recommendations)"
   ]
  },
  {
   "cell_type": "markdown",
   "metadata": {
    "id": "6hgu254L8rzP"
   },
   "source": [
    "Finally, we can **calculate the RMSE** for the final play counts predicted using the model-based recommendation system."
   ]
  },
  {
   "cell_type": "code",
   "execution_count": 81,
   "metadata": {
    "colab": {
     "base_uri": "https://localhost:8080/",
     "height": 417
    },
    "executionInfo": {
     "elapsed": 661,
     "status": "ok",
     "timestamp": 1628785316463,
     "user": {
      "displayName": "xiaoyue luo",
      "photoUrl": "",
      "userId": "08961633824417457060"
     },
     "user_tz": 420
    },
    "id": "B4MhUQ-J8vQ5",
    "outputId": "6f145241-dea9-48c7-a72b-08a1b3bd9a44"
   },
   "outputs": [
    {
     "data": {
      "text/html": [
       "<div>\n",
       "<style scoped>\n",
       "    .dataframe tbody tr th:only-of-type {\n",
       "        vertical-align: middle;\n",
       "    }\n",
       "\n",
       "    .dataframe tbody tr th {\n",
       "        vertical-align: top;\n",
       "    }\n",
       "\n",
       "    .dataframe thead th {\n",
       "        text-align: right;\n",
       "    }\n",
       "</style>\n",
       "<table border=\"1\" class=\"dataframe\">\n",
       "  <thead>\n",
       "    <tr style=\"text-align: right;\">\n",
       "      <th></th>\n",
       "      <th>Avg_actual_play_count</th>\n",
       "      <th>Avg_predicted_play_count</th>\n",
       "    </tr>\n",
       "  </thead>\n",
       "  <tbody>\n",
       "    <tr>\n",
       "      <th>0</th>\n",
       "      <td>0.0392</td>\n",
       "      <td>0.0000</td>\n",
       "    </tr>\n",
       "    <tr>\n",
       "      <th>1</th>\n",
       "      <td>0.0204</td>\n",
       "      <td>0.0000</td>\n",
       "    </tr>\n",
       "    <tr>\n",
       "      <th>2</th>\n",
       "      <td>0.0476</td>\n",
       "      <td>0.0012</td>\n",
       "    </tr>\n",
       "    <tr>\n",
       "      <th>3</th>\n",
       "      <td>0.0350</td>\n",
       "      <td>0.0002</td>\n",
       "    </tr>\n",
       "    <tr>\n",
       "      <th>4</th>\n",
       "      <td>0.0116</td>\n",
       "      <td>0.0000</td>\n",
       "    </tr>\n",
       "    <tr>\n",
       "      <th>...</th>\n",
       "      <td>...</td>\n",
       "      <td>...</td>\n",
       "    </tr>\n",
       "    <tr>\n",
       "      <th>4995</th>\n",
       "      <td>0.0428</td>\n",
       "      <td>0.0000</td>\n",
       "    </tr>\n",
       "    <tr>\n",
       "      <th>4996</th>\n",
       "      <td>0.0148</td>\n",
       "      <td>0.0000</td>\n",
       "    </tr>\n",
       "    <tr>\n",
       "      <th>4997</th>\n",
       "      <td>0.0278</td>\n",
       "      <td>0.0016</td>\n",
       "    </tr>\n",
       "    <tr>\n",
       "      <th>4998</th>\n",
       "      <td>0.0218</td>\n",
       "      <td>0.0000</td>\n",
       "    </tr>\n",
       "    <tr>\n",
       "      <th>4999</th>\n",
       "      <td>0.0192</td>\n",
       "      <td>0.0000</td>\n",
       "    </tr>\n",
       "  </tbody>\n",
       "</table>\n",
       "<p>5000 rows × 2 columns</p>\n",
       "</div>"
      ],
      "text/plain": [
       "      Avg_actual_play_count  Avg_predicted_play_count\n",
       "0                    0.0392                    0.0000\n",
       "1                    0.0204                    0.0000\n",
       "2                    0.0476                    0.0012\n",
       "3                    0.0350                    0.0002\n",
       "4                    0.0116                    0.0000\n",
       "...                     ...                       ...\n",
       "4995                 0.0428                    0.0000\n",
       "4996                 0.0148                    0.0000\n",
       "4997                 0.0278                    0.0016\n",
       "4998                 0.0218                    0.0000\n",
       "4999                 0.0192                    0.0000\n",
       "\n",
       "[5000 rows x 2 columns]"
      ]
     },
     "execution_count": 81,
     "metadata": {},
     "output_type": "execute_result"
    }
   ],
   "source": [
    "#Create a dataframe containing average actual play counts and avearge predicted play counts of the songs\n",
    "rmse_df = pd.concat([interactions_matrix_small.mean(), songs_predicted_play_count.mean()], axis=1)\n",
    "rmse_df.columns = ['Avg_actual_play_count', 'Avg_predicted_play_count']\n",
    "rmse_df"
   ]
  },
  {
   "cell_type": "code",
   "execution_count": 82,
   "metadata": {
    "colab": {
     "base_uri": "https://localhost:8080/",
     "height": 0
    },
    "executionInfo": {
     "elapsed": 249,
     "status": "ok",
     "timestamp": 1628785413494,
     "user": {
      "displayName": "xiaoyue luo",
      "photoUrl": "",
      "userId": "08961633824417457060"
     },
     "user_tz": 420
    },
    "id": "K88PPxl59N7Z",
    "outputId": "1a2c7ed2-8c3c-4902-eee5-a255db1e413a"
   },
   "outputs": [
    {
     "name": "stdout",
     "output_type": "stream",
     "text": [
      "\n",
      "RMSE SVD Model = 0.052709027917426064 \n",
      "\n"
     ]
    }
   ],
   "source": [
    "RMSE = mean_squared_error(rmse_df['Avg_actual_play_count'], rmse_df['Avg_predicted_play_count'], squared=False)\n",
    "print('\\nRMSE SVD Model = {} \\n'.format(RMSE))"
   ]
  },
  {
   "cell_type": "markdown",
   "metadata": {
    "id": "g7xfzvv8-DnJ"
   },
   "source": [
    "**RMSE** for the SVD model with **10 latent features** is **0.05167420369971849**."
   ]
  },
  {
   "cell_type": "markdown",
   "metadata": {
    "id": "zdAwPCOJ9gFA"
   },
   "source": [
    "Use latent feature 5."
   ]
  },
  {
   "cell_type": "code",
   "execution_count": 83,
   "metadata": {
    "colab": {
     "base_uri": "https://localhost:8080/",
     "height": 252
    },
    "executionInfo": {
     "elapsed": 340,
     "status": "ok",
     "timestamp": 1628785436334,
     "user": {
      "displayName": "xiaoyue luo",
      "photoUrl": "",
      "userId": "08961633824417457060"
     },
     "user_tz": 420
    },
    "id": "LdSmgXC49iwM",
    "outputId": "7c9e792e-3590-47fc-c9b9-a9e13094b938"
   },
   "outputs": [
    {
     "data": {
      "text/html": [
       "<div>\n",
       "<style scoped>\n",
       "    .dataframe tbody tr th:only-of-type {\n",
       "        vertical-align: middle;\n",
       "    }\n",
       "\n",
       "    .dataframe tbody tr th {\n",
       "        vertical-align: top;\n",
       "    }\n",
       "\n",
       "    .dataframe thead th {\n",
       "        text-align: right;\n",
       "    }\n",
       "</style>\n",
       "<table border=\"1\" class=\"dataframe\">\n",
       "  <thead>\n",
       "    <tr style=\"text-align: right;\">\n",
       "      <th></th>\n",
       "      <th>0</th>\n",
       "      <th>1</th>\n",
       "      <th>2</th>\n",
       "      <th>3</th>\n",
       "      <th>4</th>\n",
       "      <th>5</th>\n",
       "      <th>6</th>\n",
       "      <th>7</th>\n",
       "      <th>8</th>\n",
       "      <th>9</th>\n",
       "      <th>...</th>\n",
       "      <th>4990</th>\n",
       "      <th>4991</th>\n",
       "      <th>4992</th>\n",
       "      <th>4993</th>\n",
       "      <th>4994</th>\n",
       "      <th>4995</th>\n",
       "      <th>4996</th>\n",
       "      <th>4997</th>\n",
       "      <th>4998</th>\n",
       "      <th>4999</th>\n",
       "    </tr>\n",
       "  </thead>\n",
       "  <tbody>\n",
       "    <tr>\n",
       "      <th>0</th>\n",
       "      <td>0.0</td>\n",
       "      <td>0.0</td>\n",
       "      <td>0.0</td>\n",
       "      <td>0.0</td>\n",
       "      <td>0.0</td>\n",
       "      <td>0.0</td>\n",
       "      <td>0.0</td>\n",
       "      <td>0.0</td>\n",
       "      <td>0.0</td>\n",
       "      <td>0.0</td>\n",
       "      <td>...</td>\n",
       "      <td>0.0</td>\n",
       "      <td>0.0</td>\n",
       "      <td>0.0</td>\n",
       "      <td>0.0</td>\n",
       "      <td>0.0</td>\n",
       "      <td>0.0</td>\n",
       "      <td>0.0</td>\n",
       "      <td>0.0</td>\n",
       "      <td>0.0</td>\n",
       "      <td>0.0</td>\n",
       "    </tr>\n",
       "    <tr>\n",
       "      <th>1</th>\n",
       "      <td>0.0</td>\n",
       "      <td>0.0</td>\n",
       "      <td>0.0</td>\n",
       "      <td>0.0</td>\n",
       "      <td>0.0</td>\n",
       "      <td>0.0</td>\n",
       "      <td>0.0</td>\n",
       "      <td>0.0</td>\n",
       "      <td>0.0</td>\n",
       "      <td>0.0</td>\n",
       "      <td>...</td>\n",
       "      <td>0.0</td>\n",
       "      <td>0.0</td>\n",
       "      <td>0.0</td>\n",
       "      <td>0.0</td>\n",
       "      <td>0.0</td>\n",
       "      <td>0.0</td>\n",
       "      <td>0.0</td>\n",
       "      <td>0.0</td>\n",
       "      <td>0.0</td>\n",
       "      <td>0.0</td>\n",
       "    </tr>\n",
       "    <tr>\n",
       "      <th>2</th>\n",
       "      <td>0.0</td>\n",
       "      <td>0.0</td>\n",
       "      <td>0.0</td>\n",
       "      <td>0.0</td>\n",
       "      <td>0.0</td>\n",
       "      <td>0.0</td>\n",
       "      <td>0.0</td>\n",
       "      <td>0.0</td>\n",
       "      <td>0.0</td>\n",
       "      <td>0.0</td>\n",
       "      <td>...</td>\n",
       "      <td>0.0</td>\n",
       "      <td>0.0</td>\n",
       "      <td>0.0</td>\n",
       "      <td>0.0</td>\n",
       "      <td>0.0</td>\n",
       "      <td>0.0</td>\n",
       "      <td>0.0</td>\n",
       "      <td>0.0</td>\n",
       "      <td>0.0</td>\n",
       "      <td>0.0</td>\n",
       "    </tr>\n",
       "    <tr>\n",
       "      <th>3</th>\n",
       "      <td>0.0</td>\n",
       "      <td>0.0</td>\n",
       "      <td>0.0</td>\n",
       "      <td>0.0</td>\n",
       "      <td>0.0</td>\n",
       "      <td>0.0</td>\n",
       "      <td>0.0</td>\n",
       "      <td>0.0</td>\n",
       "      <td>0.0</td>\n",
       "      <td>0.0</td>\n",
       "      <td>...</td>\n",
       "      <td>0.0</td>\n",
       "      <td>0.0</td>\n",
       "      <td>0.0</td>\n",
       "      <td>0.0</td>\n",
       "      <td>0.0</td>\n",
       "      <td>0.0</td>\n",
       "      <td>0.0</td>\n",
       "      <td>0.0</td>\n",
       "      <td>0.0</td>\n",
       "      <td>0.0</td>\n",
       "    </tr>\n",
       "    <tr>\n",
       "      <th>4</th>\n",
       "      <td>0.0</td>\n",
       "      <td>0.0</td>\n",
       "      <td>0.0</td>\n",
       "      <td>0.0</td>\n",
       "      <td>0.0</td>\n",
       "      <td>0.0</td>\n",
       "      <td>0.0</td>\n",
       "      <td>0.0</td>\n",
       "      <td>0.0</td>\n",
       "      <td>0.0</td>\n",
       "      <td>...</td>\n",
       "      <td>0.0</td>\n",
       "      <td>0.0</td>\n",
       "      <td>0.0</td>\n",
       "      <td>0.0</td>\n",
       "      <td>0.0</td>\n",
       "      <td>0.0</td>\n",
       "      <td>0.0</td>\n",
       "      <td>0.0</td>\n",
       "      <td>0.0</td>\n",
       "      <td>0.0</td>\n",
       "    </tr>\n",
       "  </tbody>\n",
       "</table>\n",
       "<p>5 rows × 5000 columns</p>\n",
       "</div>"
      ],
      "text/plain": [
       "   0     1     2     3     4     5     6     7     8     9     ...  4990  \\\n",
       "0   0.0   0.0   0.0   0.0   0.0   0.0   0.0   0.0   0.0   0.0  ...   0.0   \n",
       "1   0.0   0.0   0.0   0.0   0.0   0.0   0.0   0.0   0.0   0.0  ...   0.0   \n",
       "2   0.0   0.0   0.0   0.0   0.0   0.0   0.0   0.0   0.0   0.0  ...   0.0   \n",
       "3   0.0   0.0   0.0   0.0   0.0   0.0   0.0   0.0   0.0   0.0  ...   0.0   \n",
       "4   0.0   0.0   0.0   0.0   0.0   0.0   0.0   0.0   0.0   0.0  ...   0.0   \n",
       "\n",
       "   4991  4992  4993  4994  4995  4996  4997  4998  4999  \n",
       "0   0.0   0.0   0.0   0.0   0.0   0.0   0.0   0.0   0.0  \n",
       "1   0.0   0.0   0.0   0.0   0.0   0.0   0.0   0.0   0.0  \n",
       "2   0.0   0.0   0.0   0.0   0.0   0.0   0.0   0.0   0.0  \n",
       "3   0.0   0.0   0.0   0.0   0.0   0.0   0.0   0.0   0.0  \n",
       "4   0.0   0.0   0.0   0.0   0.0   0.0   0.0   0.0   0.0  \n",
       "\n",
       "[5 rows x 5000 columns]"
      ]
     },
     "execution_count": 83,
     "metadata": {},
     "output_type": "execute_result"
    }
   ],
   "source": [
    "s_final, u_final, vt_final = np.diag(s[:5]), u[:, :5], vt[:5, :]\n",
    "songs_predicted_play_count = np.around(np.matmul(np.matmul(u_final, s_final), vt_final))\n",
    "songs_predicted_play_count = pd.DataFrame(abs(songs_predicted_play_count), columns = interactions_matrix_small.columns, index = interactions_matrix_small.index)\n",
    "songs_predicted_play_count.head()"
   ]
  },
  {
   "cell_type": "code",
   "execution_count": 84,
   "metadata": {
    "executionInfo": {
     "elapsed": 131,
     "status": "ok",
     "timestamp": 1628785459034,
     "user": {
      "displayName": "xiaoyue luo",
      "photoUrl": "",
      "userId": "08961633824417457060"
     },
     "user_tz": 420
    },
    "id": "WlKk2giZ9rVP"
   },
   "outputs": [],
   "source": [
    "# Recommend the songs with the highest predicted play counts\n",
    "\n",
    "def recommend_songs(user_idx, interactions_matrix_small, preds_df, num_recommendations):\n",
    "          \n",
    "    # Get and sort the user's ratings from the actual and predicted interaction matrix\n",
    "    sorted_user_play_count = interactions_matrix_small.loc[user_idx].sort_values(ascending=False)\n",
    "    sorted_user_predictions = preds_df.loc[user_idx].sort_values(ascending=False)\n",
    "    \n",
    "    #Creating a dataframe with actual and predicted ratings columns\n",
    "    temp = pd.concat([sorted_user_play_count, sorted_user_predictions], axis=1)\n",
    "    temp.index.name = 'Recommended Songs'\n",
    "    temp.columns = ['user_play_count', 'user_predictions']\n",
    "    \n",
    "    #Filtering the dataframe where actual play count are 0 which implies that the user has not interacted with that song.\n",
    "    temp = temp.loc[temp.user_play_count == 0]   \n",
    "    \n",
    "    #Recommending movies with top predicted play counts.\n",
    "    temp = temp.sort_values('user_predictions', ascending=False)\n",
    "    print('\\nBelow are the recommended songs for user(user_id = {}):\\n'.format(user_index))\n",
    "    print(temp['user_predictions'].head(num_recommendations))"
   ]
  },
  {
   "cell_type": "code",
   "execution_count": 85,
   "metadata": {
    "colab": {
     "base_uri": "https://localhost:8080/",
     "height": 0
    },
    "executionInfo": {
     "elapsed": 145,
     "status": "ok",
     "timestamp": 1628785472562,
     "user": {
      "displayName": "xiaoyue luo",
      "photoUrl": "",
      "userId": "08961633824417457060"
     },
     "user_tz": 420
    },
    "id": "QiSSf4Os9vQM",
    "outputId": "09640600-7458-4326-fb7f-d4440265e866"
   },
   "outputs": [
    {
     "name": "stdout",
     "output_type": "stream",
     "text": [
      "\n",
      "Below are the recommended songs for user(user_id = 121):\n",
      "\n",
      "Recommended Songs\n",
      "3907    1.0\n",
      "156     1.0\n",
      "1507    1.0\n",
      "1079    1.0\n",
      "4625    1.0\n",
      "172     1.0\n",
      "3332    0.0\n",
      "3333    0.0\n",
      "3334    0.0\n",
      "3335    0.0\n",
      "Name: user_predictions, dtype: float64\n"
     ]
    }
   ],
   "source": [
    "user_index = 121\n",
    "num_recommendations = 10\n",
    "recommend_songs(user_index, interactions_matrix_small, songs_predicted_play_count, num_recommendations)"
   ]
  },
  {
   "cell_type": "code",
   "execution_count": 86,
   "metadata": {
    "colab": {
     "base_uri": "https://localhost:8080/",
     "height": 417
    },
    "executionInfo": {
     "elapsed": 640,
     "status": "ok",
     "timestamp": 1628785483604,
     "user": {
      "displayName": "xiaoyue luo",
      "photoUrl": "",
      "userId": "08961633824417457060"
     },
     "user_tz": 420
    },
    "id": "kWkv52Nk91Z0",
    "outputId": "1a9b9049-97ec-4f88-ffa8-ecffaf8ff79b"
   },
   "outputs": [
    {
     "data": {
      "text/html": [
       "<div>\n",
       "<style scoped>\n",
       "    .dataframe tbody tr th:only-of-type {\n",
       "        vertical-align: middle;\n",
       "    }\n",
       "\n",
       "    .dataframe tbody tr th {\n",
       "        vertical-align: top;\n",
       "    }\n",
       "\n",
       "    .dataframe thead th {\n",
       "        text-align: right;\n",
       "    }\n",
       "</style>\n",
       "<table border=\"1\" class=\"dataframe\">\n",
       "  <thead>\n",
       "    <tr style=\"text-align: right;\">\n",
       "      <th></th>\n",
       "      <th>Avg_actual_play_count</th>\n",
       "      <th>Avg_predicted_play_count</th>\n",
       "    </tr>\n",
       "  </thead>\n",
       "  <tbody>\n",
       "    <tr>\n",
       "      <th>0</th>\n",
       "      <td>0.0392</td>\n",
       "      <td>0.0000</td>\n",
       "    </tr>\n",
       "    <tr>\n",
       "      <th>1</th>\n",
       "      <td>0.0204</td>\n",
       "      <td>0.0000</td>\n",
       "    </tr>\n",
       "    <tr>\n",
       "      <th>2</th>\n",
       "      <td>0.0476</td>\n",
       "      <td>0.0006</td>\n",
       "    </tr>\n",
       "    <tr>\n",
       "      <th>3</th>\n",
       "      <td>0.0350</td>\n",
       "      <td>0.0000</td>\n",
       "    </tr>\n",
       "    <tr>\n",
       "      <th>4</th>\n",
       "      <td>0.0116</td>\n",
       "      <td>0.0000</td>\n",
       "    </tr>\n",
       "    <tr>\n",
       "      <th>...</th>\n",
       "      <td>...</td>\n",
       "      <td>...</td>\n",
       "    </tr>\n",
       "    <tr>\n",
       "      <th>4995</th>\n",
       "      <td>0.0428</td>\n",
       "      <td>0.0000</td>\n",
       "    </tr>\n",
       "    <tr>\n",
       "      <th>4996</th>\n",
       "      <td>0.0148</td>\n",
       "      <td>0.0000</td>\n",
       "    </tr>\n",
       "    <tr>\n",
       "      <th>4997</th>\n",
       "      <td>0.0278</td>\n",
       "      <td>0.0002</td>\n",
       "    </tr>\n",
       "    <tr>\n",
       "      <th>4998</th>\n",
       "      <td>0.0218</td>\n",
       "      <td>0.0000</td>\n",
       "    </tr>\n",
       "    <tr>\n",
       "      <th>4999</th>\n",
       "      <td>0.0192</td>\n",
       "      <td>0.0000</td>\n",
       "    </tr>\n",
       "  </tbody>\n",
       "</table>\n",
       "<p>5000 rows × 2 columns</p>\n",
       "</div>"
      ],
      "text/plain": [
       "      Avg_actual_play_count  Avg_predicted_play_count\n",
       "0                    0.0392                    0.0000\n",
       "1                    0.0204                    0.0000\n",
       "2                    0.0476                    0.0006\n",
       "3                    0.0350                    0.0000\n",
       "4                    0.0116                    0.0000\n",
       "...                     ...                       ...\n",
       "4995                 0.0428                    0.0000\n",
       "4996                 0.0148                    0.0000\n",
       "4997                 0.0278                    0.0002\n",
       "4998                 0.0218                    0.0000\n",
       "4999                 0.0192                    0.0000\n",
       "\n",
       "[5000 rows x 2 columns]"
      ]
     },
     "execution_count": 86,
     "metadata": {},
     "output_type": "execute_result"
    }
   ],
   "source": [
    "#Create a dataframe containing average actual play counts and avearge predicted play counts of the songs\n",
    "rmse_df = pd.concat([interactions_matrix_small.mean(), songs_predicted_play_count.mean()], axis=1)\n",
    "rmse_df.columns = ['Avg_actual_play_count', 'Avg_predicted_play_count']\n",
    "rmse_df"
   ]
  },
  {
   "cell_type": "code",
   "execution_count": 87,
   "metadata": {
    "colab": {
     "base_uri": "https://localhost:8080/",
     "height": 0
    },
    "executionInfo": {
     "elapsed": 139,
     "status": "ok",
     "timestamp": 1628785490020,
     "user": {
      "displayName": "xiaoyue luo",
      "photoUrl": "",
      "userId": "08961633824417457060"
     },
     "user_tz": 420
    },
    "id": "jFJIyroi97mS",
    "outputId": "e4255317-1442-4919-961b-f6735e54e1d3"
   },
   "outputs": [
    {
     "name": "stdout",
     "output_type": "stream",
     "text": [
      "\n",
      "RMSE SVD Model = 0.05757616645800587 \n",
      "\n"
     ]
    }
   ],
   "source": [
    "RMSE = mean_squared_error(rmse_df['Avg_actual_play_count'], rmse_df['Avg_predicted_play_count'], squared=False)\n",
    "print('\\nRMSE SVD Model = {} \\n'.format(RMSE))"
   ]
  },
  {
   "cell_type": "markdown",
   "metadata": {
    "id": "NySSpREr-_WF"
   },
   "source": [
    "**RMSE** for the SVD model with **5 latent features** is **0.05767311671827698**."
   ]
  },
  {
   "cell_type": "markdown",
   "metadata": {
    "id": "CDUsjhve-Yr1"
   },
   "source": [
    "Try latent feature 7."
   ]
  },
  {
   "cell_type": "code",
   "execution_count": 88,
   "metadata": {
    "colab": {
     "base_uri": "https://localhost:8080/",
     "height": 252
    },
    "executionInfo": {
     "elapsed": 567,
     "status": "ok",
     "timestamp": 1628785621206,
     "user": {
      "displayName": "xiaoyue luo",
      "photoUrl": "",
      "userId": "08961633824417457060"
     },
     "user_tz": 420
    },
    "id": "VJr4cZDU-a_B",
    "outputId": "89f4d801-4b3b-4a70-e6c2-cb4d20b43aba"
   },
   "outputs": [
    {
     "data": {
      "text/html": [
       "<div>\n",
       "<style scoped>\n",
       "    .dataframe tbody tr th:only-of-type {\n",
       "        vertical-align: middle;\n",
       "    }\n",
       "\n",
       "    .dataframe tbody tr th {\n",
       "        vertical-align: top;\n",
       "    }\n",
       "\n",
       "    .dataframe thead th {\n",
       "        text-align: right;\n",
       "    }\n",
       "</style>\n",
       "<table border=\"1\" class=\"dataframe\">\n",
       "  <thead>\n",
       "    <tr style=\"text-align: right;\">\n",
       "      <th></th>\n",
       "      <th>0</th>\n",
       "      <th>1</th>\n",
       "      <th>2</th>\n",
       "      <th>3</th>\n",
       "      <th>4</th>\n",
       "      <th>5</th>\n",
       "      <th>6</th>\n",
       "      <th>7</th>\n",
       "      <th>8</th>\n",
       "      <th>9</th>\n",
       "      <th>...</th>\n",
       "      <th>4990</th>\n",
       "      <th>4991</th>\n",
       "      <th>4992</th>\n",
       "      <th>4993</th>\n",
       "      <th>4994</th>\n",
       "      <th>4995</th>\n",
       "      <th>4996</th>\n",
       "      <th>4997</th>\n",
       "      <th>4998</th>\n",
       "      <th>4999</th>\n",
       "    </tr>\n",
       "  </thead>\n",
       "  <tbody>\n",
       "    <tr>\n",
       "      <th>0</th>\n",
       "      <td>0.0</td>\n",
       "      <td>0.0</td>\n",
       "      <td>0.0</td>\n",
       "      <td>0.0</td>\n",
       "      <td>0.0</td>\n",
       "      <td>0.0</td>\n",
       "      <td>0.0</td>\n",
       "      <td>0.0</td>\n",
       "      <td>0.0</td>\n",
       "      <td>0.0</td>\n",
       "      <td>...</td>\n",
       "      <td>0.0</td>\n",
       "      <td>0.0</td>\n",
       "      <td>0.0</td>\n",
       "      <td>0.0</td>\n",
       "      <td>0.0</td>\n",
       "      <td>0.0</td>\n",
       "      <td>0.0</td>\n",
       "      <td>0.0</td>\n",
       "      <td>0.0</td>\n",
       "      <td>0.0</td>\n",
       "    </tr>\n",
       "    <tr>\n",
       "      <th>1</th>\n",
       "      <td>0.0</td>\n",
       "      <td>0.0</td>\n",
       "      <td>0.0</td>\n",
       "      <td>0.0</td>\n",
       "      <td>0.0</td>\n",
       "      <td>0.0</td>\n",
       "      <td>0.0</td>\n",
       "      <td>0.0</td>\n",
       "      <td>0.0</td>\n",
       "      <td>0.0</td>\n",
       "      <td>...</td>\n",
       "      <td>0.0</td>\n",
       "      <td>0.0</td>\n",
       "      <td>0.0</td>\n",
       "      <td>0.0</td>\n",
       "      <td>0.0</td>\n",
       "      <td>0.0</td>\n",
       "      <td>0.0</td>\n",
       "      <td>0.0</td>\n",
       "      <td>0.0</td>\n",
       "      <td>0.0</td>\n",
       "    </tr>\n",
       "    <tr>\n",
       "      <th>2</th>\n",
       "      <td>0.0</td>\n",
       "      <td>0.0</td>\n",
       "      <td>0.0</td>\n",
       "      <td>0.0</td>\n",
       "      <td>0.0</td>\n",
       "      <td>0.0</td>\n",
       "      <td>0.0</td>\n",
       "      <td>0.0</td>\n",
       "      <td>0.0</td>\n",
       "      <td>0.0</td>\n",
       "      <td>...</td>\n",
       "      <td>0.0</td>\n",
       "      <td>0.0</td>\n",
       "      <td>0.0</td>\n",
       "      <td>0.0</td>\n",
       "      <td>0.0</td>\n",
       "      <td>0.0</td>\n",
       "      <td>0.0</td>\n",
       "      <td>0.0</td>\n",
       "      <td>0.0</td>\n",
       "      <td>0.0</td>\n",
       "    </tr>\n",
       "    <tr>\n",
       "      <th>3</th>\n",
       "      <td>0.0</td>\n",
       "      <td>0.0</td>\n",
       "      <td>0.0</td>\n",
       "      <td>0.0</td>\n",
       "      <td>0.0</td>\n",
       "      <td>0.0</td>\n",
       "      <td>0.0</td>\n",
       "      <td>0.0</td>\n",
       "      <td>0.0</td>\n",
       "      <td>0.0</td>\n",
       "      <td>...</td>\n",
       "      <td>0.0</td>\n",
       "      <td>0.0</td>\n",
       "      <td>0.0</td>\n",
       "      <td>0.0</td>\n",
       "      <td>0.0</td>\n",
       "      <td>0.0</td>\n",
       "      <td>0.0</td>\n",
       "      <td>0.0</td>\n",
       "      <td>0.0</td>\n",
       "      <td>0.0</td>\n",
       "    </tr>\n",
       "    <tr>\n",
       "      <th>4</th>\n",
       "      <td>0.0</td>\n",
       "      <td>0.0</td>\n",
       "      <td>0.0</td>\n",
       "      <td>0.0</td>\n",
       "      <td>0.0</td>\n",
       "      <td>0.0</td>\n",
       "      <td>0.0</td>\n",
       "      <td>0.0</td>\n",
       "      <td>0.0</td>\n",
       "      <td>0.0</td>\n",
       "      <td>...</td>\n",
       "      <td>0.0</td>\n",
       "      <td>0.0</td>\n",
       "      <td>0.0</td>\n",
       "      <td>0.0</td>\n",
       "      <td>0.0</td>\n",
       "      <td>0.0</td>\n",
       "      <td>0.0</td>\n",
       "      <td>0.0</td>\n",
       "      <td>0.0</td>\n",
       "      <td>0.0</td>\n",
       "    </tr>\n",
       "  </tbody>\n",
       "</table>\n",
       "<p>5 rows × 5000 columns</p>\n",
       "</div>"
      ],
      "text/plain": [
       "   0     1     2     3     4     5     6     7     8     9     ...  4990  \\\n",
       "0   0.0   0.0   0.0   0.0   0.0   0.0   0.0   0.0   0.0   0.0  ...   0.0   \n",
       "1   0.0   0.0   0.0   0.0   0.0   0.0   0.0   0.0   0.0   0.0  ...   0.0   \n",
       "2   0.0   0.0   0.0   0.0   0.0   0.0   0.0   0.0   0.0   0.0  ...   0.0   \n",
       "3   0.0   0.0   0.0   0.0   0.0   0.0   0.0   0.0   0.0   0.0  ...   0.0   \n",
       "4   0.0   0.0   0.0   0.0   0.0   0.0   0.0   0.0   0.0   0.0  ...   0.0   \n",
       "\n",
       "   4991  4992  4993  4994  4995  4996  4997  4998  4999  \n",
       "0   0.0   0.0   0.0   0.0   0.0   0.0   0.0   0.0   0.0  \n",
       "1   0.0   0.0   0.0   0.0   0.0   0.0   0.0   0.0   0.0  \n",
       "2   0.0   0.0   0.0   0.0   0.0   0.0   0.0   0.0   0.0  \n",
       "3   0.0   0.0   0.0   0.0   0.0   0.0   0.0   0.0   0.0  \n",
       "4   0.0   0.0   0.0   0.0   0.0   0.0   0.0   0.0   0.0  \n",
       "\n",
       "[5 rows x 5000 columns]"
      ]
     },
     "execution_count": 88,
     "metadata": {},
     "output_type": "execute_result"
    }
   ],
   "source": [
    "s_final, u_final, vt_final = np.diag(s[:7]), u[:, :7], vt[:7, :]\n",
    "songs_predicted_play_count = np.around(np.matmul(np.matmul(u_final, s_final), vt_final))\n",
    "songs_predicted_play_count = pd.DataFrame(abs(songs_predicted_play_count), columns = interactions_matrix_small.columns, index = interactions_matrix_small.index)\n",
    "songs_predicted_play_count.head()"
   ]
  },
  {
   "cell_type": "code",
   "execution_count": 89,
   "metadata": {
    "executionInfo": {
     "elapsed": 143,
     "status": "ok",
     "timestamp": 1628785647261,
     "user": {
      "displayName": "xiaoyue luo",
      "photoUrl": "",
      "userId": "08961633824417457060"
     },
     "user_tz": 420
    },
    "id": "k-iZmlgr-npw"
   },
   "outputs": [],
   "source": [
    "# Recommend the songs with the highest predicted play counts\n",
    "\n",
    "def recommend_songs(user_idx, interactions_matrix_small, preds_df, num_recommendations):\n",
    "          \n",
    "    # Get and sort the user's ratings from the actual and predicted interaction matrix\n",
    "    sorted_user_play_count = interactions_matrix_small.loc[user_idx].sort_values(ascending=False)\n",
    "    sorted_user_predictions = preds_df.loc[user_idx].sort_values(ascending=False)\n",
    "    \n",
    "    #Creating a dataframe with actual and predicted ratings columns\n",
    "    temp = pd.concat([sorted_user_play_count, sorted_user_predictions], axis=1)\n",
    "    temp.index.name = 'Recommended Songs'\n",
    "    temp.columns = ['user_play_count', 'user_predictions']\n",
    "    \n",
    "    #Filtering the dataframe where actual play count are 0 which implies that the user has not interacted with that song.\n",
    "    temp = temp.loc[temp.user_play_count == 0]   \n",
    "    \n",
    "    #Recommending movies with top predicted play counts.\n",
    "    temp = temp.sort_values('user_predictions', ascending=False)\n",
    "    print('\\nBelow are the recommended songs for user(user_id = {}):\\n'.format(user_index))\n",
    "    print(temp['user_predictions'].head(num_recommendations))"
   ]
  },
  {
   "cell_type": "code",
   "execution_count": 90,
   "metadata": {
    "colab": {
     "base_uri": "https://localhost:8080/",
     "height": 0
    },
    "executionInfo": {
     "elapsed": 139,
     "status": "ok",
     "timestamp": 1628785658477,
     "user": {
      "displayName": "xiaoyue luo",
      "photoUrl": "",
      "userId": "08961633824417457060"
     },
     "user_tz": 420
    },
    "id": "1J5jGJKn-rQa",
    "outputId": "41baa85e-f449-49f0-ce5e-bf4c24710fe3"
   },
   "outputs": [
    {
     "name": "stdout",
     "output_type": "stream",
     "text": [
      "\n",
      "Below are the recommended songs for user(user_id = 121):\n",
      "\n",
      "Recommended Songs\n",
      "4940    1.0\n",
      "3907    1.0\n",
      "172     1.0\n",
      "3103    1.0\n",
      "1079    1.0\n",
      "3337    0.0\n",
      "3343    0.0\n",
      "3342    0.0\n",
      "3341    0.0\n",
      "3340    0.0\n",
      "Name: user_predictions, dtype: float64\n"
     ]
    }
   ],
   "source": [
    "user_index = 121\n",
    "num_recommendations = 10\n",
    "recommend_songs(user_index, interactions_matrix_small, songs_predicted_play_count, num_recommendations)"
   ]
  },
  {
   "cell_type": "code",
   "execution_count": 91,
   "metadata": {
    "colab": {
     "base_uri": "https://localhost:8080/",
     "height": 417
    },
    "executionInfo": {
     "elapsed": 320,
     "status": "ok",
     "timestamp": 1628785666757,
     "user": {
      "displayName": "xiaoyue luo",
      "photoUrl": "",
      "userId": "08961633824417457060"
     },
     "user_tz": 420
    },
    "id": "yQ2Vlh7X-vRf",
    "outputId": "3952bad3-d5a9-4e5e-e35a-a15ffe7ddd84"
   },
   "outputs": [
    {
     "data": {
      "text/html": [
       "<div>\n",
       "<style scoped>\n",
       "    .dataframe tbody tr th:only-of-type {\n",
       "        vertical-align: middle;\n",
       "    }\n",
       "\n",
       "    .dataframe tbody tr th {\n",
       "        vertical-align: top;\n",
       "    }\n",
       "\n",
       "    .dataframe thead th {\n",
       "        text-align: right;\n",
       "    }\n",
       "</style>\n",
       "<table border=\"1\" class=\"dataframe\">\n",
       "  <thead>\n",
       "    <tr style=\"text-align: right;\">\n",
       "      <th></th>\n",
       "      <th>Avg_actual_play_count</th>\n",
       "      <th>Avg_predicted_play_count</th>\n",
       "    </tr>\n",
       "  </thead>\n",
       "  <tbody>\n",
       "    <tr>\n",
       "      <th>0</th>\n",
       "      <td>0.0392</td>\n",
       "      <td>0.0000</td>\n",
       "    </tr>\n",
       "    <tr>\n",
       "      <th>1</th>\n",
       "      <td>0.0204</td>\n",
       "      <td>0.0000</td>\n",
       "    </tr>\n",
       "    <tr>\n",
       "      <th>2</th>\n",
       "      <td>0.0476</td>\n",
       "      <td>0.0008</td>\n",
       "    </tr>\n",
       "    <tr>\n",
       "      <th>3</th>\n",
       "      <td>0.0350</td>\n",
       "      <td>0.0000</td>\n",
       "    </tr>\n",
       "    <tr>\n",
       "      <th>4</th>\n",
       "      <td>0.0116</td>\n",
       "      <td>0.0000</td>\n",
       "    </tr>\n",
       "    <tr>\n",
       "      <th>...</th>\n",
       "      <td>...</td>\n",
       "      <td>...</td>\n",
       "    </tr>\n",
       "    <tr>\n",
       "      <th>4995</th>\n",
       "      <td>0.0428</td>\n",
       "      <td>0.0000</td>\n",
       "    </tr>\n",
       "    <tr>\n",
       "      <th>4996</th>\n",
       "      <td>0.0148</td>\n",
       "      <td>0.0000</td>\n",
       "    </tr>\n",
       "    <tr>\n",
       "      <th>4997</th>\n",
       "      <td>0.0278</td>\n",
       "      <td>0.0002</td>\n",
       "    </tr>\n",
       "    <tr>\n",
       "      <th>4998</th>\n",
       "      <td>0.0218</td>\n",
       "      <td>0.0000</td>\n",
       "    </tr>\n",
       "    <tr>\n",
       "      <th>4999</th>\n",
       "      <td>0.0192</td>\n",
       "      <td>0.0000</td>\n",
       "    </tr>\n",
       "  </tbody>\n",
       "</table>\n",
       "<p>5000 rows × 2 columns</p>\n",
       "</div>"
      ],
      "text/plain": [
       "      Avg_actual_play_count  Avg_predicted_play_count\n",
       "0                    0.0392                    0.0000\n",
       "1                    0.0204                    0.0000\n",
       "2                    0.0476                    0.0008\n",
       "3                    0.0350                    0.0000\n",
       "4                    0.0116                    0.0000\n",
       "...                     ...                       ...\n",
       "4995                 0.0428                    0.0000\n",
       "4996                 0.0148                    0.0000\n",
       "4997                 0.0278                    0.0002\n",
       "4998                 0.0218                    0.0000\n",
       "4999                 0.0192                    0.0000\n",
       "\n",
       "[5000 rows x 2 columns]"
      ]
     },
     "execution_count": 91,
     "metadata": {},
     "output_type": "execute_result"
    }
   ],
   "source": [
    "#Create a dataframe containing average actual play counts and avearge predicted play counts of the songs\n",
    "rmse_df = pd.concat([interactions_matrix_small.mean(), songs_predicted_play_count.mean()], axis=1)\n",
    "rmse_df.columns = ['Avg_actual_play_count', 'Avg_predicted_play_count']\n",
    "rmse_df"
   ]
  },
  {
   "cell_type": "code",
   "execution_count": 92,
   "metadata": {
    "colab": {
     "base_uri": "https://localhost:8080/",
     "height": 0
    },
    "executionInfo": {
     "elapsed": 152,
     "status": "ok",
     "timestamp": 1628785672780,
     "user": {
      "displayName": "xiaoyue luo",
      "photoUrl": "",
      "userId": "08961633824417457060"
     },
     "user_tz": 420
    },
    "id": "riZIdnNX-y_2",
    "outputId": "e087f903-2152-48bd-90ba-8ca447243545"
   },
   "outputs": [
    {
     "name": "stdout",
     "output_type": "stream",
     "text": [
      "\n",
      "RMSE SVD Model = 0.05387188439251035 \n",
      "\n"
     ]
    }
   ],
   "source": [
    "RMSE = mean_squared_error(rmse_df['Avg_actual_play_count'], rmse_df['Avg_predicted_play_count'], squared=False)\n",
    "print('\\nRMSE SVD Model = {} \\n'.format(RMSE))"
   ]
  },
  {
   "cell_type": "markdown",
   "metadata": {
    "id": "bR-b5sGo_RHV"
   },
   "source": [
    "**RMSE** for the SVD model with **7 latent features** is **0.05459135345455359**."
   ]
  },
  {
   "cell_type": "markdown",
   "metadata": {
    "id": "2wk64lea_Yim"
   },
   "source": [
    "Try 16 latent features."
   ]
  },
  {
   "cell_type": "code",
   "execution_count": 93,
   "metadata": {
    "colab": {
     "base_uri": "https://localhost:8080/",
     "height": 252
    },
    "executionInfo": {
     "elapsed": 713,
     "status": "ok",
     "timestamp": 1628785731069,
     "user": {
      "displayName": "xiaoyue luo",
      "photoUrl": "",
      "userId": "08961633824417457060"
     },
     "user_tz": 420
    },
    "id": "GRTKBtMB_dLa",
    "outputId": "52b3cba3-7efa-467b-9111-ea5afeb1b31b"
   },
   "outputs": [
    {
     "data": {
      "text/html": [
       "<div>\n",
       "<style scoped>\n",
       "    .dataframe tbody tr th:only-of-type {\n",
       "        vertical-align: middle;\n",
       "    }\n",
       "\n",
       "    .dataframe tbody tr th {\n",
       "        vertical-align: top;\n",
       "    }\n",
       "\n",
       "    .dataframe thead th {\n",
       "        text-align: right;\n",
       "    }\n",
       "</style>\n",
       "<table border=\"1\" class=\"dataframe\">\n",
       "  <thead>\n",
       "    <tr style=\"text-align: right;\">\n",
       "      <th></th>\n",
       "      <th>0</th>\n",
       "      <th>1</th>\n",
       "      <th>2</th>\n",
       "      <th>3</th>\n",
       "      <th>4</th>\n",
       "      <th>5</th>\n",
       "      <th>6</th>\n",
       "      <th>7</th>\n",
       "      <th>8</th>\n",
       "      <th>9</th>\n",
       "      <th>...</th>\n",
       "      <th>4990</th>\n",
       "      <th>4991</th>\n",
       "      <th>4992</th>\n",
       "      <th>4993</th>\n",
       "      <th>4994</th>\n",
       "      <th>4995</th>\n",
       "      <th>4996</th>\n",
       "      <th>4997</th>\n",
       "      <th>4998</th>\n",
       "      <th>4999</th>\n",
       "    </tr>\n",
       "  </thead>\n",
       "  <tbody>\n",
       "    <tr>\n",
       "      <th>0</th>\n",
       "      <td>0.0</td>\n",
       "      <td>0.0</td>\n",
       "      <td>0.0</td>\n",
       "      <td>0.0</td>\n",
       "      <td>0.0</td>\n",
       "      <td>0.0</td>\n",
       "      <td>0.0</td>\n",
       "      <td>0.0</td>\n",
       "      <td>0.0</td>\n",
       "      <td>0.0</td>\n",
       "      <td>...</td>\n",
       "      <td>0.0</td>\n",
       "      <td>0.0</td>\n",
       "      <td>0.0</td>\n",
       "      <td>0.0</td>\n",
       "      <td>0.0</td>\n",
       "      <td>0.0</td>\n",
       "      <td>0.0</td>\n",
       "      <td>0.0</td>\n",
       "      <td>0.0</td>\n",
       "      <td>0.0</td>\n",
       "    </tr>\n",
       "    <tr>\n",
       "      <th>1</th>\n",
       "      <td>0.0</td>\n",
       "      <td>0.0</td>\n",
       "      <td>0.0</td>\n",
       "      <td>0.0</td>\n",
       "      <td>0.0</td>\n",
       "      <td>0.0</td>\n",
       "      <td>0.0</td>\n",
       "      <td>0.0</td>\n",
       "      <td>0.0</td>\n",
       "      <td>0.0</td>\n",
       "      <td>...</td>\n",
       "      <td>0.0</td>\n",
       "      <td>0.0</td>\n",
       "      <td>0.0</td>\n",
       "      <td>0.0</td>\n",
       "      <td>0.0</td>\n",
       "      <td>0.0</td>\n",
       "      <td>0.0</td>\n",
       "      <td>0.0</td>\n",
       "      <td>0.0</td>\n",
       "      <td>0.0</td>\n",
       "    </tr>\n",
       "    <tr>\n",
       "      <th>2</th>\n",
       "      <td>0.0</td>\n",
       "      <td>0.0</td>\n",
       "      <td>0.0</td>\n",
       "      <td>0.0</td>\n",
       "      <td>0.0</td>\n",
       "      <td>0.0</td>\n",
       "      <td>0.0</td>\n",
       "      <td>0.0</td>\n",
       "      <td>0.0</td>\n",
       "      <td>0.0</td>\n",
       "      <td>...</td>\n",
       "      <td>0.0</td>\n",
       "      <td>0.0</td>\n",
       "      <td>0.0</td>\n",
       "      <td>0.0</td>\n",
       "      <td>0.0</td>\n",
       "      <td>0.0</td>\n",
       "      <td>0.0</td>\n",
       "      <td>0.0</td>\n",
       "      <td>0.0</td>\n",
       "      <td>0.0</td>\n",
       "    </tr>\n",
       "    <tr>\n",
       "      <th>3</th>\n",
       "      <td>0.0</td>\n",
       "      <td>0.0</td>\n",
       "      <td>0.0</td>\n",
       "      <td>0.0</td>\n",
       "      <td>0.0</td>\n",
       "      <td>0.0</td>\n",
       "      <td>0.0</td>\n",
       "      <td>0.0</td>\n",
       "      <td>0.0</td>\n",
       "      <td>0.0</td>\n",
       "      <td>...</td>\n",
       "      <td>0.0</td>\n",
       "      <td>0.0</td>\n",
       "      <td>0.0</td>\n",
       "      <td>0.0</td>\n",
       "      <td>0.0</td>\n",
       "      <td>0.0</td>\n",
       "      <td>0.0</td>\n",
       "      <td>0.0</td>\n",
       "      <td>0.0</td>\n",
       "      <td>0.0</td>\n",
       "    </tr>\n",
       "    <tr>\n",
       "      <th>4</th>\n",
       "      <td>0.0</td>\n",
       "      <td>0.0</td>\n",
       "      <td>0.0</td>\n",
       "      <td>0.0</td>\n",
       "      <td>0.0</td>\n",
       "      <td>0.0</td>\n",
       "      <td>0.0</td>\n",
       "      <td>0.0</td>\n",
       "      <td>0.0</td>\n",
       "      <td>0.0</td>\n",
       "      <td>...</td>\n",
       "      <td>0.0</td>\n",
       "      <td>0.0</td>\n",
       "      <td>0.0</td>\n",
       "      <td>0.0</td>\n",
       "      <td>0.0</td>\n",
       "      <td>0.0</td>\n",
       "      <td>0.0</td>\n",
       "      <td>0.0</td>\n",
       "      <td>0.0</td>\n",
       "      <td>0.0</td>\n",
       "    </tr>\n",
       "  </tbody>\n",
       "</table>\n",
       "<p>5 rows × 5000 columns</p>\n",
       "</div>"
      ],
      "text/plain": [
       "   0     1     2     3     4     5     6     7     8     9     ...  4990  \\\n",
       "0   0.0   0.0   0.0   0.0   0.0   0.0   0.0   0.0   0.0   0.0  ...   0.0   \n",
       "1   0.0   0.0   0.0   0.0   0.0   0.0   0.0   0.0   0.0   0.0  ...   0.0   \n",
       "2   0.0   0.0   0.0   0.0   0.0   0.0   0.0   0.0   0.0   0.0  ...   0.0   \n",
       "3   0.0   0.0   0.0   0.0   0.0   0.0   0.0   0.0   0.0   0.0  ...   0.0   \n",
       "4   0.0   0.0   0.0   0.0   0.0   0.0   0.0   0.0   0.0   0.0  ...   0.0   \n",
       "\n",
       "   4991  4992  4993  4994  4995  4996  4997  4998  4999  \n",
       "0   0.0   0.0   0.0   0.0   0.0   0.0   0.0   0.0   0.0  \n",
       "1   0.0   0.0   0.0   0.0   0.0   0.0   0.0   0.0   0.0  \n",
       "2   0.0   0.0   0.0   0.0   0.0   0.0   0.0   0.0   0.0  \n",
       "3   0.0   0.0   0.0   0.0   0.0   0.0   0.0   0.0   0.0  \n",
       "4   0.0   0.0   0.0   0.0   0.0   0.0   0.0   0.0   0.0  \n",
       "\n",
       "[5 rows x 5000 columns]"
      ]
     },
     "execution_count": 93,
     "metadata": {},
     "output_type": "execute_result"
    }
   ],
   "source": [
    "s_final, u_final, vt_final = np.diag(s[:16]), u[:, :16], vt[:16, :]\n",
    "songs_predicted_play_count = np.around(np.matmul(np.matmul(u_final, s_final), vt_final))\n",
    "songs_predicted_play_count = pd.DataFrame(abs(songs_predicted_play_count), columns = interactions_matrix_small.columns, index = interactions_matrix_small.index)\n",
    "songs_predicted_play_count.head()"
   ]
  },
  {
   "cell_type": "code",
   "execution_count": 94,
   "metadata": {
    "executionInfo": {
     "elapsed": 146,
     "status": "ok",
     "timestamp": 1628786070044,
     "user": {
      "displayName": "xiaoyue luo",
      "photoUrl": "",
      "userId": "08961633824417457060"
     },
     "user_tz": 420
    },
    "id": "UtqVd8nH_O8n"
   },
   "outputs": [],
   "source": [
    "# Recommend the songs with the highest predicted play counts\n",
    "\n",
    "def recommend_songs(user_idx, interactions_matrix_small, preds_df, num_recommendations):\n",
    "          \n",
    "    # Get and sort the user's ratings from the actual and predicted interaction matrix\n",
    "    sorted_user_play_count = interactions_matrix_small.loc[user_idx].sort_values(ascending=False)\n",
    "    sorted_user_predictions = preds_df.loc[user_idx].sort_values(ascending=False)\n",
    "    \n",
    "    #Creating a dataframe with actual and predicted ratings columns\n",
    "    temp = pd.concat([sorted_user_play_count, sorted_user_predictions], axis=1)\n",
    "    temp.index.name = 'Recommended Songs'\n",
    "    temp.columns = ['user_play_count', 'user_predictions']\n",
    "    \n",
    "    #Filtering the dataframe where actual play count are 0 which implies that the user has not interacted with that song.\n",
    "    temp = temp.loc[temp.user_play_count == 0]   \n",
    "    \n",
    "    #Recommending movies with top predicted play counts.\n",
    "    temp = temp.sort_values('user_predictions', ascending=False)\n",
    "    print('\\nBelow are the recommended songs for user(user_id = {}):\\n'.format(user_index))\n",
    "    print(temp['user_predictions'].head(num_recommendations))"
   ]
  },
  {
   "cell_type": "code",
   "execution_count": 95,
   "metadata": {
    "colab": {
     "base_uri": "https://localhost:8080/",
     "height": 0
    },
    "executionInfo": {
     "elapsed": 154,
     "status": "ok",
     "timestamp": 1628786076366,
     "user": {
      "displayName": "xiaoyue luo",
      "photoUrl": "",
      "userId": "08961633824417457060"
     },
     "user_tz": 420
    },
    "id": "kkfosT2o_xvD",
    "outputId": "5b6a2b36-560c-4b6c-ba8a-91120845e7f4"
   },
   "outputs": [
    {
     "name": "stdout",
     "output_type": "stream",
     "text": [
      "\n",
      "Below are the recommended songs for user(user_id = 121):\n",
      "\n",
      "Recommended Songs\n",
      "4940    1.0\n",
      "1079    1.0\n",
      "2662    1.0\n",
      "4312    1.0\n",
      "3103    1.0\n",
      "172     1.0\n",
      "304     1.0\n",
      "3337    0.0\n",
      "3341    0.0\n",
      "3340    0.0\n",
      "Name: user_predictions, dtype: float64\n"
     ]
    }
   ],
   "source": [
    "user_index = 121\n",
    "num_recommendations = 10\n",
    "recommend_songs(user_index, interactions_matrix_small, songs_predicted_play_count, num_recommendations)"
   ]
  },
  {
   "cell_type": "code",
   "execution_count": 96,
   "metadata": {
    "colab": {
     "base_uri": "https://localhost:8080/",
     "height": 417
    },
    "executionInfo": {
     "elapsed": 285,
     "status": "ok",
     "timestamp": 1628786086157,
     "user": {
      "displayName": "xiaoyue luo",
      "photoUrl": "",
      "userId": "08961633824417457060"
     },
     "user_tz": 420
    },
    "id": "dBIiaUh-_4Gw",
    "outputId": "1979bc27-d384-4db7-b7e8-745a5173c8e6"
   },
   "outputs": [
    {
     "data": {
      "text/html": [
       "<div>\n",
       "<style scoped>\n",
       "    .dataframe tbody tr th:only-of-type {\n",
       "        vertical-align: middle;\n",
       "    }\n",
       "\n",
       "    .dataframe tbody tr th {\n",
       "        vertical-align: top;\n",
       "    }\n",
       "\n",
       "    .dataframe thead th {\n",
       "        text-align: right;\n",
       "    }\n",
       "</style>\n",
       "<table border=\"1\" class=\"dataframe\">\n",
       "  <thead>\n",
       "    <tr style=\"text-align: right;\">\n",
       "      <th></th>\n",
       "      <th>Avg_actual_play_count</th>\n",
       "      <th>Avg_predicted_play_count</th>\n",
       "    </tr>\n",
       "  </thead>\n",
       "  <tbody>\n",
       "    <tr>\n",
       "      <th>0</th>\n",
       "      <td>0.0392</td>\n",
       "      <td>0.0004</td>\n",
       "    </tr>\n",
       "    <tr>\n",
       "      <th>1</th>\n",
       "      <td>0.0204</td>\n",
       "      <td>0.0000</td>\n",
       "    </tr>\n",
       "    <tr>\n",
       "      <th>2</th>\n",
       "      <td>0.0476</td>\n",
       "      <td>0.0016</td>\n",
       "    </tr>\n",
       "    <tr>\n",
       "      <th>3</th>\n",
       "      <td>0.0350</td>\n",
       "      <td>0.0004</td>\n",
       "    </tr>\n",
       "    <tr>\n",
       "      <th>4</th>\n",
       "      <td>0.0116</td>\n",
       "      <td>0.0000</td>\n",
       "    </tr>\n",
       "    <tr>\n",
       "      <th>...</th>\n",
       "      <td>...</td>\n",
       "      <td>...</td>\n",
       "    </tr>\n",
       "    <tr>\n",
       "      <th>4995</th>\n",
       "      <td>0.0428</td>\n",
       "      <td>0.0000</td>\n",
       "    </tr>\n",
       "    <tr>\n",
       "      <th>4996</th>\n",
       "      <td>0.0148</td>\n",
       "      <td>0.0000</td>\n",
       "    </tr>\n",
       "    <tr>\n",
       "      <th>4997</th>\n",
       "      <td>0.0278</td>\n",
       "      <td>0.0020</td>\n",
       "    </tr>\n",
       "    <tr>\n",
       "      <th>4998</th>\n",
       "      <td>0.0218</td>\n",
       "      <td>0.0000</td>\n",
       "    </tr>\n",
       "    <tr>\n",
       "      <th>4999</th>\n",
       "      <td>0.0192</td>\n",
       "      <td>0.0000</td>\n",
       "    </tr>\n",
       "  </tbody>\n",
       "</table>\n",
       "<p>5000 rows × 2 columns</p>\n",
       "</div>"
      ],
      "text/plain": [
       "      Avg_actual_play_count  Avg_predicted_play_count\n",
       "0                    0.0392                    0.0004\n",
       "1                    0.0204                    0.0000\n",
       "2                    0.0476                    0.0016\n",
       "3                    0.0350                    0.0004\n",
       "4                    0.0116                    0.0000\n",
       "...                     ...                       ...\n",
       "4995                 0.0428                    0.0000\n",
       "4996                 0.0148                    0.0000\n",
       "4997                 0.0278                    0.0020\n",
       "4998                 0.0218                    0.0000\n",
       "4999                 0.0192                    0.0000\n",
       "\n",
       "[5000 rows x 2 columns]"
      ]
     },
     "execution_count": 96,
     "metadata": {},
     "output_type": "execute_result"
    }
   ],
   "source": [
    "#Create a dataframe containing average actual play counts and avearge predicted play counts of the songs\n",
    "rmse_df = pd.concat([interactions_matrix_small.mean(), songs_predicted_play_count.mean()], axis=1)\n",
    "rmse_df.columns = ['Avg_actual_play_count', 'Avg_predicted_play_count']\n",
    "rmse_df"
   ]
  },
  {
   "cell_type": "code",
   "execution_count": 97,
   "metadata": {
    "colab": {
     "base_uri": "https://localhost:8080/",
     "height": 0
    },
    "executionInfo": {
     "elapsed": 158,
     "status": "ok",
     "timestamp": 1628786090274,
     "user": {
      "displayName": "xiaoyue luo",
      "photoUrl": "",
      "userId": "08961633824417457060"
     },
     "user_tz": 420
    },
    "id": "f3tcW70l_9SV",
    "outputId": "26b2be6e-8ea4-4823-a4da-322139f7a04b"
   },
   "outputs": [
    {
     "name": "stdout",
     "output_type": "stream",
     "text": [
      "\n",
      "RMSE SVD Model = 0.049801917714080046 \n",
      "\n"
     ]
    }
   ],
   "source": [
    "RMSE = mean_squared_error(rmse_df['Avg_actual_play_count'], rmse_df['Avg_predicted_play_count'], squared=False)\n",
    "print('\\nRMSE SVD Model = {} \\n'.format(RMSE))"
   ]
  },
  {
   "cell_type": "markdown",
   "metadata": {
    "id": "9yDlsD0OATeC"
   },
   "source": [
    "RMSE **decreases** as I change the number of latent features from 10 to 16. Now increase latent features to try."
   ]
  },
  {
   "cell_type": "code",
   "execution_count": 98,
   "metadata": {
    "colab": {
     "base_uri": "https://localhost:8080/",
     "height": 0
    },
    "executionInfo": {
     "elapsed": 53241,
     "status": "ok",
     "timestamp": 1628794885081,
     "user": {
      "displayName": "xiaoyue luo",
      "photoUrl": "",
      "userId": "08961633824417457060"
     },
     "user_tz": 420
    },
    "id": "HDU1-4EsAjVD",
    "outputId": "c7658370-89d9-420b-c0f8-03f0d903386c"
   },
   "outputs": [
    {
     "data": {
      "text/plain": [
       "(95, 0.038042273433642214)"
      ]
     },
     "execution_count": 98,
     "metadata": {},
     "output_type": "execute_result"
    }
   ],
   "source": [
    "# compute RMSE for latent features=10.\n",
    "s_final, u_final, vt_final = np.diag(s[:10]), u[:, :10], vt[:10, :]\n",
    "songs_predicted_play_count = np.around(np.matmul(np.matmul(u_final, s_final), vt_final))\n",
    "songs_predicted_play_count = pd.DataFrame(abs(songs_predicted_play_count), columns = interactions_matrix_small.columns, index = interactions_matrix_small.index)\n",
    "RMSE = mean_squared_error(rmse_df['Avg_actual_play_count'], rmse_df['Avg_predicted_play_count'], squared=False)\n",
    "a={10:RMSE}\n",
    "# compute RMSE for latent features from 11 to 100\n",
    "for i in range(10,100):\n",
    "    s_final, u_final, vt_final = np.diag(s[:i]), u[:, :i], vt[:i, :]\n",
    "    songs_predicted_play_count = np.around(np.matmul(np.matmul(u_final, s_final), vt_final))\n",
    "    songs_predicted_play_count = pd.DataFrame(abs(songs_predicted_play_count), columns = interactions_matrix_small.columns, index = interactions_matrix_small.index)\n",
    "    RMSE = mean_squared_error(rmse_df['Avg_actual_play_count'], rmse_df['Avg_predicted_play_count'], squared=False)\n",
    "   # print('\\nRMSE SVD Model = {} \\n'.format(RMSE))\n",
    "    a[i]=RMSE  \n",
    "    def recommend_songs(user_idx, interactions_matrix_small, preds_df, num_recommendations):\n",
    "          \n",
    "    # Get and sort the user's ratings from the actual and predicted interaction matrix\n",
    "        sorted_user_play_count = interactions_matrix_small.loc[user_idx].sort_values(ascending=False)\n",
    "        sorted_user_predictions = preds_df.loc[user_idx].sort_values(ascending=False)\n",
    "    \n",
    "    #Creating a dataframe with actual and predicted ratings columns\n",
    "        temp = pd.concat([sorted_user_play_count, sorted_user_predictions], axis=1)\n",
    "        temp.index.name = 'Recommended Songs'\n",
    "        temp.columns = ['user_play_count', 'user_predictions']\n",
    "    \n",
    "    #Filtering the dataframe where actual play count are 0 which implies that the user has not interacted with that song.\n",
    "        temp = temp.loc[temp.user_play_count == 0]   \n",
    "    \n",
    "    #Recommending songs with top predicted play counts.\n",
    "        temp = temp.sort_values('user_predictions', ascending=False)\n",
    "        print('\\nBelow are the recommended songs for user(user_id = {}):\\n'.format(user_index))\n",
    "        print(temp['user_predictions'].head(num_recommendations))\n",
    "#Create a dataframe containing average actual play counts and avearge predicted play counts of the songs\n",
    "    rmse_df = pd.concat([interactions_matrix_small.mean(), songs_predicted_play_count.mean()], axis=1)\n",
    "    rmse_df.columns = ['Avg_actual_play_count', 'Avg_predicted_play_count']\n",
    "a.items()\n",
    "# find the minimum by comparing the second elemnt of each tuple\n",
    "min(a.items(),key=lambda x:x[1])  \n"
   ]
  },
  {
   "cell_type": "code",
   "execution_count": 99,
   "metadata": {},
   "outputs": [
    {
     "name": "stdout",
     "output_type": "stream",
     "text": [
      "dict_items([(10, 0.049801917714080046), (11, 0.052709027917426064), (12, 0.05107363398075371), (13, 0.05102384101574478), (14, 0.05183708494890507), (15, 0.05182253038978317), (16, 0.05005756646102565), (17, 0.049801917714080046), (18, 0.050015311895458575), (19, 0.049047338684173276), (20, 0.048736167186187306), (21, 0.04780269749710784), (22, 0.04689739267805834), (23, 0.0457758755678141), (24, 0.046054865280445674), (25, 0.0460914444989523), (26, 0.044139681738771065), (27, 0.04382246985280497), (28, 0.0437493911271917), (29, 0.04271969606633456), (30, 0.04277024919263389), (31, 0.043059946400338216), (32, 0.04323991406096918), (33, 0.04332805059081241), (34, 0.04281276034081428), (35, 0.042442144620648), (36, 0.042695203477674165), (37, 0.04229468250265038), (38, 0.04199950885427114), (39, 0.042000837039278156), (40, 0.04201228001430058), (41, 0.0418449987453698), (42, 0.04140437715990907), (43, 0.041513338579304844), (44, 0.040888423202662144), (45, 0.040802637855903386), (46, 0.04053932905216859), (47, 0.03974857300583255), (48, 0.03909628606402404), (49, 0.03913200337319826), (50, 0.03898681705397352), (51, 0.039452224170507796), (52, 0.03940069694815055), (53, 0.039072748559577944), (54, 0.03895807952145485), (55, 0.03893452637441478), (56, 0.03917092544222053), (57, 0.03924072802586619), (58, 0.03911746453951227), (59, 0.038944786762800485), (60, 0.03915776224454099), (61, 0.039189809900023756), (62, 0.0392735763586664), (63, 0.039279504477526185), (64, 0.039312164224321204), (65, 0.039188521482699495), (66, 0.039124661583200944), (67, 0.03897785668812486), (68, 0.0390047409426085), (69, 0.03896921143672271), (70, 0.03887743201395895), (71, 0.03913492332942534), (72, 0.0389167769477381), (73, 0.039032048780457324), (74, 0.038799370407263056), (75, 0.03869803695279645), (76, 0.03856140899915354), (77, 0.038715992974480196), (78, 0.03869208156716307), (79, 0.03861187029917095), (80, 0.038520250570316904), (81, 0.038320871284458026), (82, 0.038381170904494305), (83, 0.038389974732995075), (84, 0.038361982639065983), (85, 0.0383187902731806), (86, 0.038261549158391375), (87, 0.03813942097095865), (88, 0.0380542748190003), (89, 0.038059206823054), (90, 0.0380436721676549), (91, 0.03812693682949103), (92, 0.03816356367007672), (93, 0.038165415758248986), (94, 0.03822308810130338), (95, 0.038042273433642214), (96, 0.038098697825516295), (97, 0.038145429083967584), (98, 0.038127589066186705), (99, 0.038116350612302854)])\n"
     ]
    }
   ],
   "source": [
    "print(a.items())"
   ]
  },
  {
   "cell_type": "markdown",
   "metadata": {
    "id": "sVvkcM5xag2f"
   },
   "source": [
    "This gives RMSE for different number features ranging from 10 to 100. **We can see that the smallest RMSE is reached when number of latent features is 88 and the corresponding RMSE is 0.038191568074641816.**"
   ]
  },
  {
   "cell_type": "markdown",
   "metadata": {
    "id": "FqD1v62-ubRh"
   },
   "source": [
    "**Conclusion**\n",
    "- RMSE is low using SVD and therefore I recommend use collaborative filtering with SVD.\n",
    "- Since we do not have much information about the genre of the songs and demographics of the users, content based recommendation is not applied to this problem.\n",
    "- Since our interaction matrix is highly sparse, similarity based collaborative filtering does not work well in this situation.\n",
    "- For **new users**, use Rank Based Recommendation.\n",
    "- For **existing users**, use collaborative filtering with SVD."
   ]
  }
 ],
 "metadata": {
  "colab": {
   "collapsed_sections": [],
   "name": "Copy of Capstone Project.ipynb",
   "provenance": [
    {
     "file_id": "1s8hhqJGn6BI8MNuRXmmfV2JR8yiUG4h9",
     "timestamp": 1628805083799
    }
   ]
  },
  "kernelspec": {
   "display_name": "Python 3",
   "language": "python",
   "name": "python3"
  },
  "language_info": {
   "codemirror_mode": {
    "name": "ipython",
    "version": 3
   },
   "file_extension": ".py",
   "mimetype": "text/x-python",
   "name": "python",
   "nbconvert_exporter": "python",
   "pygments_lexer": "ipython3",
   "version": "3.7.6"
  }
 },
 "nbformat": 4,
 "nbformat_minor": 1
}
